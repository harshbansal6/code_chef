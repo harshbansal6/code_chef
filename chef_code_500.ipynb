{
  "nbformat": 4,
  "nbformat_minor": 0,
  "metadata": {
    "colab": {
      "provenance": [],
      "collapsed_sections": [],
      "authorship_tag": "ABX9TyPhlEP31pEkYMYBnYQ8Qvgo"
    },
    "kernelspec": {
      "name": "python3",
      "display_name": "Python 3"
    },
    "language_info": {
      "name": "python"
    }
  },
  "cells": [
    {
      "cell_type": "markdown",
      "source": [
        "# Difficulty: 500 to 600"
      ],
      "metadata": {
        "id": "IsTijFu64K9k"
      }
    },
    {
      "cell_type": "markdown",
      "source": [
        "# Problem Code:\n",
        "AVGPROBLEM\n",
        "# Problem\n",
        "You are given 33 numbers A, B,A,B, and CC.\n",
        "\n",
        "Determine whether the average of AA and BB is strictly greater than CC or not?\n",
        "\n",
        "NOTE: Average of AA and BB is defined as \\frac{(A+B)}{2} \n",
        "2\n",
        "(A+B)\n",
        "​\n",
        " . For example, average of 55 and 99 is 77, average of 55 and 88 is 6.56.5."
      ],
      "metadata": {
        "id": "viNuTVOjsmVa"
      }
    },
    {
      "cell_type": "code",
      "execution_count": null,
      "metadata": {
        "id": "0yaibQgisifP"
      },
      "outputs": [],
      "source": [
        "# cook your dish here\n",
        "t = int(input())\n",
        "for i in range(t):\n",
        "    a,b,c = map(int,input().split())\n",
        "    d = (a+b)/2\n",
        "    if (d>c):\n",
        "        print(\"YES\")\n",
        "    else:\n",
        "        print(\"NO\")"
      ]
    },
    {
      "cell_type": "markdown",
      "source": [
        "# Problem Code:\n",
        "WATERCOOLER1\n",
        "# Problem\n",
        "The summer is at its peak in Chefland. Chef is planning to purchase a water cooler to keep his room cool. He has two options available:\n",
        "\n",
        "Rent a cooler at the cost of XX coins per month.\n",
        "Purchase a cooler for YY coins.\n",
        "Given that the summer season will last for MM months in Chefland, help Chef in finding whether he should rent the cooler or not.\n",
        "\n",
        "Chef rents the cooler only if the cost of renting the cooler is strictly less than the cost of purchasing it. Otherwise, he purchases the cooler.\n",
        "\n",
        "Print \\texttt{YES}YES if Chef should rent the cooler, otherwise print \\texttt{NO}NO."
      ],
      "metadata": {
        "id": "NsdyetKhHts-"
      }
    },
    {
      "cell_type": "code",
      "source": [
        "# cook your dish here\n",
        "t = int(input())\n",
        "for i in range(t):\n",
        "    x,y,m = map(int,input().split())\n",
        "    a = x*m\n",
        "    if (a<y):\n",
        "        print(\"YES\")\n",
        "    else:\n",
        "        print(\"NO\")"
      ],
      "metadata": {
        "id": "ngUk9X9jHqfd"
      },
      "execution_count": null,
      "outputs": []
    },
    {
      "cell_type": "markdown",
      "source": [
        "# Problem Code:\n",
        "JASSIGNMENTS\n",
        "# Problem\n",
        "Janmansh has to submit 33 assignments for Chingari before 1010 pm and he starts to do the assignments at XX pm. Each assignment takes him 11 hour to complete. Can you tell whether he'll be able to complete all assignments on time or not?"
      ],
      "metadata": {
        "id": "zk-Hcv3XIJoY"
      }
    },
    {
      "cell_type": "code",
      "source": [
        "# cook your dish here\n",
        "t =int(input())\n",
        "for i in range(t):\n",
        "    x = int(input())\n",
        "    \n",
        "    if (x+3<=10):\n",
        "        print(\"YES\")\n",
        "    else:\n",
        "        print(\"NO\")"
      ],
      "metadata": {
        "id": "090ZSha7II55"
      },
      "execution_count": null,
      "outputs": []
    },
    {
      "cell_type": "markdown",
      "source": [
        "# Problem Code:\n",
        "SHOPCHANGE\n",
        "# Problem\n",
        "Chef went shopping and bought items worth XX rupees (1 \\le X \\le 1001≤X≤100). Unfortunately, Chef only has a single 100100 rupees note.\n",
        "\n",
        "Since Chef is weak at maths, can you help Chef in calculating what money he should get back after paying 100100 rupees for those items?"
      ],
      "metadata": {
        "id": "V0XgECqVI6Cy"
      }
    },
    {
      "cell_type": "code",
      "source": [
        "# cook your dish here\n",
        "t = int(input())\n",
        "for i in range(t):\n",
        "    x = int(input())\n",
        "    print(100-x)"
      ],
      "metadata": {
        "id": "tnXy851rI5GJ"
      },
      "execution_count": null,
      "outputs": []
    },
    {
      "cell_type": "markdown",
      "source": [
        "# Problem Code:\n",
        "JCOINS\n",
        "# Problem\n",
        "Janmansh received XX coins of 1010 rupees and YY coins of 55 rupees from Chingari. Since he is weak in math, can you find out how much total money does he have?"
      ],
      "metadata": {
        "id": "w8ZFtmhkNcR4"
      }
    },
    {
      "cell_type": "code",
      "source": [
        "# cook your dish here\n",
        "t = int(input())\n",
        "for i in range(t):\n",
        "    x,y = map(int,input().split())\n",
        "    print(x*10 + y*5)"
      ],
      "metadata": {
        "id": "TRozc2_-Nbnp"
      },
      "execution_count": null,
      "outputs": []
    },
    {
      "cell_type": "markdown",
      "source": [
        "# Problem Code:\n",
        "OFFICE\n",
        "# Problem\n",
        "Recently Chef joined a new company. In this company, the employees have to work for XX hours each day from Monday to Thursday. Also, in this company, Friday is called Chill Day — employees only have to work for YY hours (Y \\lt X)(Y<X) on Friday. Saturdays and Sundays are holidays.\n",
        "\n",
        "Determine the total number of working hours in one week."
      ],
      "metadata": {
        "id": "1229t6kmOOfY"
      }
    },
    {
      "cell_type": "code",
      "source": [
        "# cook your dish here\n",
        "t = int(input())\n",
        "for i in range(t):\n",
        "    x,y= map(int,input().split())\n",
        "    print(x*4 + y)"
      ],
      "metadata": {
        "id": "TLD9hVkfOLxO"
      },
      "execution_count": null,
      "outputs": []
    },
    {
      "cell_type": "markdown",
      "source": [
        "# Problem Code:\n",
        "CREDCOINS\n",
        "# Problem\n",
        "For each bill you pay using CRED, you earn XX CRED coins.\n",
        "At CodeChef store, each bag is worth 100100 CRED coins.\n",
        "\n",
        "Chef pays YY number of bills using CRED. Find the maximum number of bags he can get from the CodeChef store."
      ],
      "metadata": {
        "id": "xKRPvu1mdu6A"
      }
    },
    {
      "cell_type": "code",
      "source": [
        "# cook your dish here\n",
        "t = int(input())\n",
        "for i in range(t):\n",
        "    x,y = map(int,input().split())\n",
        "    d = x*y\n",
        "    print(d//100)"
      ],
      "metadata": {
        "id": "y4WK0Urwdr5D"
      },
      "execution_count": null,
      "outputs": []
    },
    {
      "cell_type": "markdown",
      "source": [
        "# Problem Code:\n",
        "AMR15A\n",
        "# Problem\n",
        "Kattapa, as you all know was one of the greatest warriors of his time. The kingdom of Maahishmati had never lost a battle under him (as army-chief), and the reason for that was their really powerful army, also called as Mahasena.\n",
        "\n",
        "Kattapa was known to be a very superstitious person. He believed that a soldier is \"lucky\" if the soldier is holding an even number of weapons, and \"unlucky\" otherwise. He considered the army as \"READY FOR BATTLE\" if the count of \"lucky\" soldiers is strictly greater than the count of \"unlucky\" soldiers, and \"NOT READY\" otherwise.\n",
        "\n",
        "Given the number of weapons each soldier is holding, your task is to determine whether the army formed by all these soldiers is \"READY FOR BATTLE\" or \"NOT READY\"."
      ],
      "metadata": {
        "id": "_7G7h7_kDjXG"
      }
    },
    {
      "cell_type": "code",
      "source": [
        "# cook your dish here\n",
        "N = int(input())\n",
        "A = list(map(int, input().split()))\n",
        "eve = 0\n",
        "odd = 0\n",
        "for i in range(len(A)):\n",
        "    if A[i]%2 == 0:\n",
        "        eve = eve+1 \n",
        "    else:\n",
        "        odd = odd+1 \n",
        "if eve<odd:\n",
        "  print(\"NOT READY\")\n",
        "else:\n",
        "  print(\"READY FOR BATTLE\")\n",
        "    "
      ],
      "metadata": {
        "colab": {
          "base_uri": "https://localhost:8080/"
        },
        "id": "aSWZbHl3DqxA",
        "outputId": "4b58b2e5-6e5f-4ab9-ad83-101441a1671b"
      },
      "execution_count": null,
      "outputs": [
        {
          "output_type": "stream",
          "name": "stdout",
          "text": [
            "1\n",
            "4 8 4 8\n",
            "READY FOR BATTLE\n"
          ]
        }
      ]
    },
    {
      "cell_type": "markdown",
      "source": [
        "# Problem Code:\n",
        "SALESEASON\n",
        "# Problem\n",
        "It's the sale season again and Chef bought items worth a total of XX rupees. The sale season offer is as follows:\n",
        "\n",
        "if X \\le 100X≤100, no discount.\n",
        "if 100 \\lt X \\le 1000100<X≤1000, discount is 2525 rupees.\n",
        "if 1000 \\lt X \\le 50001000<X≤5000, discount is 100100 rupees.\n",
        "if X \\gt 5000X>5000, discount is 500500 rupees.\n",
        "Find the final amount Chef needs to pay for his shopping."
      ],
      "metadata": {
        "id": "HK-Ybe9IF4c1"
      }
    },
    {
      "cell_type": "code",
      "source": [
        "# cook your dish here\n",
        "t = int(input())\n",
        "for i in range(t):\n",
        "    x = int(input())\n",
        "    if x <= 100:\n",
        "        print(x)\n",
        "    elif x>100 and x <=1000:\n",
        "        print(x-25)\n",
        "    elif x>1000 and x <=5000:\n",
        "        print(x-100)\n",
        "    elif x>5000:\n",
        "        print(x-500)"
      ],
      "metadata": {
        "id": "maqVkbqXEr42"
      },
      "execution_count": null,
      "outputs": []
    },
    {
      "cell_type": "markdown",
      "source": [
        "# Problem Code:\n",
        "CHEFGAMES\n",
        "# Problem\n",
        "In Chefland, a tennis game involves 4 referees.\n",
        "Each referee has to point out whether he considers the ball to be inside limits or outside limits. The ball is considered to be IN if and only if all the referees agree that it was inside limits.\n",
        "\n",
        "Given the decision of the 4 referees, help Chef determine whether the ball is considered inside limits or not."
      ],
      "metadata": {
        "id": "H1bJqafnHHr7"
      }
    },
    {
      "cell_type": "code",
      "source": [
        "# cook your dish here\n",
        "t = int(input())\n",
        "for i in range(t):\n",
        "    (r1,r2,r3,r4) = map(int,input().split())\n",
        "    if r1==0 and r2==0 and r3==0 and r4==0:\n",
        "        print(\"IN\")\n",
        "    else:\n",
        "        print(\"OUT\")"
      ],
      "metadata": {
        "id": "ZklBQz3LHHLs"
      },
      "execution_count": null,
      "outputs": []
    },
    {
      "cell_type": "markdown",
      "source": [
        "# Problem Code:\n",
        "TESTAVG\n",
        "# Problem\n",
        "Chef has scored A, B,A,B, and CC marks in 33 different subjects respectively.\n",
        "\n",
        "Chef will fail if the average score of any two subjects is less than 3535. Determine whether Chef will pass or fail."
      ],
      "metadata": {
        "id": "es39jwLvIMkv"
      }
    },
    {
      "cell_type": "code",
      "source": [
        "# cook your dish here\n",
        "for i in range(int(input())):\n",
        "    a,b,c = map(int,input().split())\n",
        "    d = (a+b)//2\n",
        "    e = (b+c)//2\n",
        "    f = (a+c)//2\n",
        "    if d>=35 and e>=35 and f>=35:\n",
        "        print(\"PASS\")\n",
        "    else:\n",
        "        print(\"FAIL\")"
      ],
      "metadata": {
        "id": "07zs25DBINB4"
      },
      "execution_count": null,
      "outputs": []
    },
    {
      "cell_type": "markdown",
      "source": [
        "# Problem Code:\n",
        "HELIUM3\n",
        "\n",
        "# Problem\n",
        "Chef is currently working for a secret research group called NEXTGEN. While the rest of the world is still in search of a way to utilize Helium-3 as a fuel, NEXTGEN scientists have been able to achieve 2 major milestones:\n",
        "\n",
        "Finding a way to make a nuclear reactor that will be able to utilize Helium-3 as a fuel\n",
        "Obtaining every bit of Helium-3 from the moon's surface\n",
        "Moving forward, the project requires some government funding for completion, which comes under one condition: to prove its worth, the project should power Chefland by generating at least AA units of power each year for the next BB years.\n",
        "\n",
        "Help Chef determine whether the group will get funded assuming that the moon has XX grams of Helium-3 and 11 gram of Helium-3 can provide YY units of power."
      ],
      "metadata": {
        "id": "bSC21exBJUkp"
      }
    },
    {
      "cell_type": "code",
      "source": [
        "# cook your dish here\n",
        "t = int(input())\n",
        "for i in range(t):\n",
        "    a,b,x,y = map(int,input().split())\n",
        "    if ((a*b) <= (x*y)):\n",
        "        print(\"YES\")\n",
        "    else:\n",
        "        print(\"NO\")"
      ],
      "metadata": {
        "id": "-yoPalM0JRRG"
      },
      "execution_count": null,
      "outputs": []
    },
    {
      "cell_type": "markdown",
      "source": [
        "# Problem Code:\n",
        "SUGARCANE\n",
        "# Problem\n",
        "While Alice was drinking sugarcane juice, she started wondering about the following facts:\n",
        "\n",
        "The juicer sells each glass of sugarcane juice for 5050 coins.\n",
        "He spends 20\\%20% of his total income on buying sugarcane.\n",
        "He spends 20\\%20% of his total income on buying salt and mint leaves.\n",
        "He spends 30\\%30% of his total income on shop rent.\n",
        "Alice wonders, what is the juicer's profit (in coins) when he sells NN glasses of sugarcane juice?"
      ],
      "metadata": {
        "id": "esYGOCUoPPH3"
      }
    },
    {
      "cell_type": "code",
      "source": [
        "# cook your dish here\n",
        "t = int(input())\n",
        "for i in range(t):\n",
        "    n = int(input())\n",
        "    a = n*50\n",
        "    print(a- (a*70)//100)"
      ],
      "metadata": {
        "id": "EhbZIPt_POTg"
      },
      "execution_count": null,
      "outputs": []
    },
    {
      "cell_type": "markdown",
      "source": [
        "# Problem Code:\n",
        "NOTEBOOK\n",
        "# Problem\n",
        "You know that 11 kg of pulp can be used to make 10001000 pages and 11 notebook consists of 100100 pages.\n",
        "\n",
        "Suppose a notebook factory receives NN kg of pulp, how many notebooks can be made from that?"
      ],
      "metadata": {
        "id": "GS8UyCirWfdX"
      }
    },
    {
      "cell_type": "code",
      "source": [
        "# cook your dish here\n",
        "for i in range(int(input())):\n",
        "    n = int(input())\n",
        "    print((n*1000)//100)"
      ],
      "metadata": {
        "id": "HDNYCgYCWcrh"
      },
      "execution_count": null,
      "outputs": []
    },
    {
      "cell_type": "markdown",
      "source": [
        "# Problem Code:\n",
        "TRUESCORE\n",
        "# Problem\n",
        "Chef is watching a football match. The current score is A:BA:B, that is, team 11 has scored AA goals and team 22 has scored BB goals. Chef wonders if it is possible for the score to become C:DC:D at a later point in the game (i.e. team 11 has scored CC goals and team 22 has scored DD goals). Can you help Chef by answering his question?"
      ],
      "metadata": {
        "id": "kzoriSMhwzD9"
      }
    },
    {
      "cell_type": "code",
      "source": [
        "# cook your dish here\n",
        "for i in range(int(input())):\n",
        "    a,b = map(int,input().split())\n",
        "    c,d = map(int,input().split())\n",
        "    if (c>=a and d>=b):\n",
        "        print(\"POSSIBLE\")\n",
        "    else:\n",
        "        print(\"IMPOSSIBLE\")"
      ],
      "metadata": {
        "id": "RLdbnV3QwvjM"
      },
      "execution_count": null,
      "outputs": []
    },
    {
      "cell_type": "markdown",
      "source": [
        "# Problem Code:\n",
        "THREETOPICS\n",
        "# Problem\n",
        "The Chef has reached the finals of the Annual Inter-school Declamation contest.\n",
        "\n",
        "For the finals, students were asked to prepare 1010 topics. However, Chef was only able to prepare three topics, numbered AA, BB and CC — he is totally blank about the other topics. This means Chef can only win the contest if he gets the topics AA, BB or CC to speak about.\n",
        "\n",
        "On the contest day, Chef gets topic XX. Determine whether Chef has any chances of winning the competition.\n",
        "\n",
        "Print \"Yes\" if it is possible for Chef to win the contest, else print \"No\".\n",
        "\n",
        "You may print each character of the string in either uppercase or lowercase (for example, the strings yEs, yes, Yes, and YES will all be treated as identical)."
      ],
      "metadata": {
        "id": "wiQliAr2gnQ8"
      }
    },
    {
      "cell_type": "code",
      "source": [
        "# cook your dish here\n",
        "a,b,c,x = map(int,input().split())\n",
        "if (a==x or b==x or c==x):\n",
        "    print(\"YES\")\n",
        "else:\n",
        "    print(\"NO\")"
      ],
      "metadata": {
        "id": "5GqeT0Llgf8q"
      },
      "execution_count": null,
      "outputs": []
    },
    {
      "cell_type": "markdown",
      "source": [
        "# Problem Code:\n",
        "TODOLIST\n",
        "# Problem\n",
        "Like most users, Chef didn’t know that he could add problems to a personal to-do list by clicking on the magic '+' symbol on the top-right of each problem page. But once he found out about it, he went crazy and added loads of problems to his to-do list without looking at their difficulty rating.\n",
        "\n",
        "Chef is a beginner and should ideally try and solve only problems with difficulty rating strictly less than 10001000. Given a list of difficulty ratings for problems in the Chef’s to-do list, please help him identify how many of those problems Chef should remove from his to-do list, so that he is only left with problems of difficulty rating less than 10001000."
      ],
      "metadata": {
        "id": "woaPAnlpiALT"
      }
    },
    {
      "cell_type": "code",
      "source": [
        "# cook your dish here\n",
        "t = int(input())\n",
        "for i in range(t):\n",
        "    n = int(input())\n",
        "    d = list(map(int,input().split()))\n",
        "    c = 0\n",
        "    for i in d:\n",
        "        if i>= 1000:\n",
        "            c += 1\n",
        "    print(c)"
      ],
      "metadata": {
        "id": "QhhvHj3xh58q"
      },
      "execution_count": null,
      "outputs": []
    },
    {
      "cell_type": "markdown",
      "source": [
        "# Problem Code:\n",
        "ACCURACY\n",
        "# Problem\n",
        "There are 100100 questions in a paper. Each question carries +3 marks for correct answer, -1 marks for incorrect answer and 0 marks for unattempted question.\n",
        "\n",
        "It is given that Chef received exactly XX (0 \\leq X \\leq 100)(0≤X≤100) marks. Determine the minimum number of problems Chef marked incorrect."
      ],
      "metadata": {
        "id": "-j8mB_pJj4by"
      }
    },
    {
      "cell_type": "code",
      "source": [
        "# cook your dish here\n",
        "t = int(input())\n",
        "for i in range(t):\n",
        "    x = int(input())\n",
        "    d = x % 3\n",
        "    if d>0:\n",
        "        print(3-d)\n",
        "    else:\n",
        "        print(d)"
      ],
      "metadata": {
        "id": "Sk-CPoQLj3eD"
      },
      "execution_count": null,
      "outputs": []
    },
    {
      "cell_type": "markdown",
      "source": [
        "# Problem Code:\n",
        "ACTEMP\n",
        "# Problem\n",
        "There are three people sitting in a room - Alice, Bob, and Charlie. They need to decide on the temperature to set on the air conditioner. Everyone has a demand each:\n",
        "\n",
        "Alice wants the temperature to be at least AA degrees.\n",
        "Bob wants the temperature to be at most BB degrees.\n",
        "Charlie wants the temperature to be at least CC degrees.\n",
        "Can they all agree on some temperature, or not?"
      ],
      "metadata": {
        "id": "WtbZdc6mtauu"
      }
    },
    {
      "cell_type": "code",
      "source": [
        "# cook your dish here\n",
        "t = int(input())\n",
        "for i in range(t):\n",
        "    a,b,c = map(int,input().split())\n",
        "    if (a> b or c>b):\n",
        "        print(\"NO\")\n",
        "    else:\n",
        "        print(\"YES\")"
      ],
      "metadata": {
        "id": "9DSYbnZgm9q3"
      },
      "execution_count": null,
      "outputs": []
    },
    {
      "cell_type": "markdown",
      "source": [
        "# Problem Code:\n",
        "NEARESTEXIT\n",
        "# Problem\n",
        "There are two exits in a bus with 100100 seats:\n",
        "\n",
        "First exit is located beside seat number 11.\n",
        "Second exit is located beside seat number 100100.\n",
        "Seats are arranged in a straight line from 11 to 100100 with equal spacing between any 22 adjacent seats.\n",
        "\n",
        "A passenger prefers to choose the nearest exit while leaving the bus.\n",
        "\n",
        "Determine the exit taken by passenger sitting on seat XX."
      ],
      "metadata": {
        "id": "2OALXSG4uHTl"
      }
    },
    {
      "cell_type": "code",
      "source": [
        "# cook your dish here\n",
        "t = int(input())\n",
        "for i in range(t):\n",
        "    a = int(input())\n",
        "    if (a>50):\n",
        "        print(\"RIGHT\")\n",
        "    else:\n",
        "        print(\"LEFT\")"
      ],
      "metadata": {
        "id": "yr4OE1RduG0l"
      },
      "execution_count": null,
      "outputs": []
    },
    {
      "cell_type": "markdown",
      "source": [
        "# Problem Code:\n",
        "FLOW007\n",
        "# Problem\n",
        "Given an Integer N, write a program to reverse it."
      ],
      "metadata": {
        "id": "tsJKd-9XueTs"
      }
    },
    {
      "cell_type": "code",
      "source": [
        "t = int(input())\n",
        "for i in range(t):\n",
        "    reverse = 0\n",
        "    num = int(input())\n",
        "    while(num):\n",
        "        remainder = num%10\n",
        "        reverse =reverse*10+remainder\n",
        "        num = int(num/10)\n",
        "    print(reverse)\n",
        "\n"
      ],
      "metadata": {
        "id": "ds1myJw_ubi7"
      },
      "execution_count": null,
      "outputs": []
    },
    {
      "cell_type": "markdown",
      "source": [
        "# Problem Code:\n",
        "BIRDFARM\n",
        "# Problem\n",
        "In Chefland, each chicken has XX legs and each duck has YY legs. Chef's farm can have exactly one type of bird.\n",
        "\n",
        "Given that the birds on the farm have a total of ZZ legs:\n",
        "\n",
        "Print CHICKEN, if the farm can have only chickens but not ducks.\n",
        "Print DUCK, if the farm can have only ducks but not chickens.\n",
        "Print ANY, if the farm can have either chickens or ducks.\n",
        "Print NONE, if the farm can have neither chickens nor ducks."
      ],
      "metadata": {
        "id": "JrtF5mqxKHEC"
      }
    },
    {
      "cell_type": "code",
      "source": [
        "a=int(input())\n",
        "for i in range(a):\n",
        "    (b,c,d)=map(int,input().split(\" \"))\n",
        "    if d%b==0 and d%c==0:\n",
        "        print(\"any\");\n",
        "    elif(d%b==0):\n",
        "        print(\"CHICKEN\")\n",
        "    elif(d%c==0):\n",
        "        print(\"DUCK\")\n",
        "    else:\n",
        "        print(\"NONE\")"
      ],
      "metadata": {
        "id": "J3bGiZIUKGFU"
      },
      "execution_count": null,
      "outputs": []
    },
    {
      "cell_type": "markdown",
      "source": [
        "# Problem Code:\n",
        "TEA\n",
        "# Problem\n",
        "Chef has planned that he will drink exactly XX liters of tea daily. He has an empty jar having a capacity of YY liters.\n",
        "\n",
        "Chef can visit the tea shop to refill the jar. In each refill, the jar is completely filled to the brim and Chef is charged ZZ rupees.\n",
        "\n",
        "Chef wonders what is the minimum amount of money he has to pay for drinking exactly XX liters of tea daily."
      ],
      "metadata": {
        "id": "vXJzoplrNPBV"
      }
    },
    {
      "cell_type": "code",
      "source": [
        "# cook your dish here\n",
        "t = int(input())\n",
        "for i in range(t):\n",
        "    x,y,z = map(int,input().split())\n",
        "    if x<= y:\n",
        "        print(z)\n",
        "    elif (x%y==0):\n",
        "        print((x//y)*z)\n",
        "    else:\n",
        "        print(((x//y)+1)*z)"
      ],
      "metadata": {
        "id": "BXz68mQbMk9K"
      },
      "execution_count": null,
      "outputs": []
    },
    {
      "cell_type": "markdown",
      "source": [
        "# Problem Code:\n",
        "SUBSCRIBE_\n",
        "# Problem\n",
        "A new TV streaming service was recently started in Chefland called the Chef-TV.\n",
        "\n",
        "A group of NN friends in Chefland want to buy Chef-TV subscriptions. We know that 66 people can share one Chef-TV subscription. Also, the cost of one Chef-TV subscription is XX rupees. Determine the minimum total cost that the group of NN friends will incur so that everyone in the group is able to use Chef-TV."
      ],
      "metadata": {
        "id": "NzsHIxiVbQyF"
      }
    },
    {
      "cell_type": "code",
      "source": [
        "# cook your dish here\n",
        "t = int(input())\n",
        "for i in range(t):\n",
        "    n,x = map(int,input().split())\n",
        "    if (n<=6):\n",
        "        print(x)\n",
        "    elif((n%6)==0):\n",
        "        z=(n//6)\n",
        "        print(z*x)\n",
        "    else:\n",
        "        y = (n//6)+1\n",
        "        print(y*x)\n",
        "        "
      ],
      "metadata": {
        "id": "xVxaRPWJbP67"
      },
      "execution_count": null,
      "outputs": []
    },
    {
      "cell_type": "markdown",
      "source": [
        "# Problem Code:\n",
        "SST\n",
        "# Problem\n",
        "Devendra just had a million-dollar idea and he needs funds to startup. He was recently invited to Sasta Shark Tank (A TV show where entrepreneurs pitch their ideas to investors hoping to get investment in return).\n",
        "\n",
        "He was offered deals from two investors. The first investor offers AA dollars for 1010% of his company and the second investor offers BB dollars for 2020% of his company. Devendra will accept the offer from the investor whose valuation of the company is more. Determine which offer will Devendra accept or if both the offers are equally good.\n",
        "\n",
        "For example, if the first investor offers 300300 dollars for 1010% of the company, then the first investor's valuation of the company is 30003000 dollars since 1010% of 3000 = 3003000=300. If the second investor offers 500500 dollars for 2020% of the company, then the second investor's valuation of the company is 25002500 dollars since 2020% of 2500 = 5002500=500."
      ],
      "metadata": {
        "id": "FrpWeRF6ci3e"
      }
    },
    {
      "cell_type": "code",
      "source": [
        "# cook your dish here\n",
        "t = int(input())\n",
        "for i in range(t):\n",
        "    a,b = map(int,input().split())\n",
        "    if (a//10 == b//20):\n",
        "        print(\"ANY\")\n",
        "    elif (a//10 > b//20):\n",
        "        print(\"FIRST\")\n",
        "    else:\n",
        "        print(\"SECOND\")"
      ],
      "metadata": {
        "id": "ShbfBNk8cm2Y"
      },
      "execution_count": null,
      "outputs": []
    },
    {
      "cell_type": "markdown",
      "source": [
        "# Problem Code:\n",
        "NIBBLE\n",
        "# Problem\n",
        "In computing, the collection of four bits is called a nibble.\n",
        "\n",
        "Chef defines a program as:\n",
        "\n",
        "Good, if it takes exactly XX nibbles of memory, where XX is a positive integer.\n",
        "Not Good, otherwise.\n",
        "Given a program which takes NN bits of memory, determine whether it is Good or Not Good."
      ],
      "metadata": {
        "id": "Cg4p0K3AdP0B"
      }
    },
    {
      "cell_type": "code",
      "source": [
        "# cook your dish here\n",
        "t = int(input())\n",
        "for i in range(t):\n",
        "    n = int(input())\n",
        "    if (n%4==0):\n",
        "        print(\"GOOD\")\n",
        "    else:\n",
        "        print(\"NOT GOOD\")"
      ],
      "metadata": {
        "id": "AJjkGHDndNAW"
      },
      "execution_count": null,
      "outputs": []
    },
    {
      "cell_type": "markdown",
      "source": [
        "# Problem Code:\n",
        "QUALIFY\n",
        "# Problem\n",
        "In a coding contest, there are two types of problems:\n",
        "\n",
        "Easy problems, which are worth 11 point each\n",
        "Hard problems, which are worth 22 points each\n",
        "To qualify for the next round, a contestant must score at least XX points. Chef solved AA Easy problems and BB Hard problems. Will Chef qualify or not?"
      ],
      "metadata": {
        "id": "OOVtSTXyeEOy"
      }
    },
    {
      "cell_type": "code",
      "source": [
        "# cook your dish here\n",
        "t = int(input())\n",
        "for i in range(t):\n",
        "    x,a,b = map(int,input().split())\n",
        "    if (a*1 + b*2 >= x):\n",
        "        print(\"QUALIFY\")\n",
        "    else:\n",
        "        print(\"NOTQUALIFY\")"
      ],
      "metadata": {
        "id": "Wxrrmgrid-ZT"
      },
      "execution_count": null,
      "outputs": []
    },
    {
      "cell_type": "markdown",
      "source": [
        "# Problem Code:\n",
        "MINPIZZA\n",
        "# \n",
        "Problem\n",
        "Each pizza consists of 44 slices. There are NN friends and each friend needs exactly XX slices.\n",
        "\n",
        "Find the minimum number of pizzas they should order to satisfy their appetite."
      ],
      "metadata": {
        "id": "FTQP2RtZz7Qa"
      }
    },
    {
      "cell_type": "code",
      "source": [
        "# cook your dish here\n",
        "for _ in range(int(input())):\n",
        "    n,x = map(int,input().split())\n",
        "    d = n*x \n",
        "    if d%4==0:\n",
        "        print(d//4)\n",
        "    else:\n",
        "        print(d//4+1)"
      ],
      "metadata": {
        "id": "9vlRz4Gdz61F"
      },
      "execution_count": null,
      "outputs": []
    }
  ]
}