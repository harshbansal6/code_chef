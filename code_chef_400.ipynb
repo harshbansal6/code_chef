{
  "nbformat": 4,
  "nbformat_minor": 0,
  "metadata": {
    "colab": {
      "provenance": [],
      "collapsed_sections": [],
      "authorship_tag": "ABX9TyOlNnkUujS10uA/rX42CoYr"
    },
    "kernelspec": {
      "name": "python3",
      "display_name": "Python 3"
    },
    "language_info": {
      "name": "python"
    }
  },
  "cells": [
    {
      "cell_type": "markdown",
      "source": [
        "# Difficulty lvl -400 to 500"
      ],
      "metadata": {
        "id": "6Vo181MH38ag"
      }
    },
    {
      "cell_type": "markdown",
      "source": [
        "# Rating Improvement\n",
        "Problem Code:\n",
        "ADVANCE\n",
        "# Problem\n",
        "Chef's current rating is XX, and he wants to improve it. It is generally recommended that a person with rating XX should solve problems whose difficulty lies in the range [X, X+200][X,X+200], i.e, problems whose difficulty is at least XX and at most X+200X+200.\n",
        "\n",
        "You find out that Chef is currently solving problems with a difficulty of YY.\n",
        "\n",
        "Is Chef following the recommended practice or not?"
      ],
      "metadata": {
        "id": "jpmIWapz-bwb"
      }
    },
    {
      "cell_type": "code",
      "execution_count": null,
      "metadata": {
        "id": "HyPLOIsv8EIg"
      },
      "outputs": [],
      "source": [
        "# cook your dish here\n",
        "t = int(input())\n",
        "for i in range(t):\n",
        "    x,y =map(int, input().split())\n",
        "    if  (y>=x and y<=x+200):\n",
        "        print(\"YES\")\n",
        "    else:\n",
        "        print(\"NO\")"
      ]
    },
    {
      "cell_type": "markdown",
      "source": [
        "# Discount\n",
        "Problem Code:\n",
        "DISCNT\n",
        "# Problem\n",
        "Alice buys a toy with a selling price of 100100 rupees. There is a discount of xx percent on the toy. Find the amount Alice needs to pay for it."
      ],
      "metadata": {
        "id": "i90SYdu-BEXj"
      }
    },
    {
      "cell_type": "code",
      "source": [
        "# cook your dish here\n",
        "t = int(input())\n",
        "for i in range(t):\n",
        "    x = int(input())\n",
        "    print(100-x)"
      ],
      "metadata": {
        "id": "D_r5vORUBBIG"
      },
      "execution_count": null,
      "outputs": []
    },
    {
      "cell_type": "markdown",
      "source": [
        "# Height of Rationals\n",
        "Problem Code:\n",
        "HEIGHTRATION\n",
        "# Problem\n",
        "In a recent breakthrough in mathematics, the proof utilized a concept called Height.\n",
        "\n",
        "Consider a fraction \\frac{a}{b} \n",
        "b\n",
        "a\n",
        "​\n",
        " . Its Height is defined as the maximum of its numerator and denominator. So, for example, the Height of \\frac{3}{19} \n",
        "19\n",
        "3\n",
        "​\n",
        "  would be 1919, and the Height of \\frac{27}{4} \n",
        "4\n",
        "27\n",
        "​\n",
        "  would be 2727.\n",
        "\n",
        "Given aa and bb, find the Height of \\frac{a}{b} \n",
        "b\n",
        "a\n",
        "​\n",
        " ."
      ],
      "metadata": {
        "id": "Vm927TP5BHxV"
      }
    },
    {
      "cell_type": "code",
      "source": [
        "# cook your dish here\n",
        "a,b = map(int,input().split())\n",
        "if (a>b):\n",
        "    print(a)\n",
        "else:\n",
        "    print(b)"
      ],
      "metadata": {
        "id": "FCCKbT3nBhk_"
      },
      "execution_count": null,
      "outputs": []
    },
    {
      "cell_type": "markdown",
      "source": [
        "# Chef and Chocolates\n",
        "Problem Code:\n",
        "CCHOCOLATES\n",
        "# Problem\n",
        "Chef has XX 5 rupee coins and YY 10 rupee coins. Chef goes to a shop to buy chocolates for Chefina where each chocolate costs ZZ rupees. Find the maximum number of chocolates that Chef can buy for Chefina."
      ],
      "metadata": {
        "id": "ZA41yVoQDH2i"
      }
    },
    {
      "cell_type": "code",
      "source": [
        "# cook your dish here\n",
        "t = int(input())\n",
        "for i in range(t):\n",
        "    x,y,z = map(int,input().split())\n",
        "    a = x*5 + y*10\n",
        "    b = a//z\n",
        "    print(b)"
      ],
      "metadata": {
        "id": "3a37JndbDEtY"
      },
      "execution_count": null,
      "outputs": []
    },
    {
      "cell_type": "markdown",
      "source": [
        "# Volume Control\n",
        "Problem Code:\n",
        "VOLCONTROL\n",
        "# Problem\n",
        "Chef is watching TV. The current volume of the TV is XX. Pressing the volume up button of the TV remote increases the volume by 11 while pressing the volume down button decreases the volume by 11. Chef wants to change the volume from XX to YY. Find the minimum number of button presses required to do so."
      ],
      "metadata": {
        "id": "PyGnE5eRDrX4"
      }
    },
    {
      "cell_type": "code",
      "source": [
        "# cook your dish here\n",
        "t = int(input())\n",
        "for i in range(t):\n",
        "    x,y = map(int,input().split())\n",
        "    if (x<y):\n",
        "        print(y-x)\n",
        "    else:\n",
        "        print(x-y)"
      ],
      "metadata": {
        "id": "wmM0nSmpDn6M"
      },
      "execution_count": null,
      "outputs": []
    },
    {
      "cell_type": "markdown",
      "source": [
        "# ATM\n",
        "Problem Code:\n",
        "HS08TEST\n",
        "# Problem\n",
        "Pooja would like to withdraw X $US from an ATM. The cash machine will only accept the transaction if X is a multiple of 5, and Pooja's account balance has enough cash to perform the withdrawal transaction (including bank charges). For each successful withdrawal the bank charges 0.50 $US.\n",
        "\n",
        "Calculate Pooja's account balance after an attempted transaction."
      ],
      "metadata": {
        "id": "GcFo9oEFEXn_"
      }
    },
    {
      "cell_type": "code",
      "source": [
        "\n",
        "n,atm=map(float,input().split())\n",
        "n=int(n)\n",
        "if (n+0.5<=atm and n%5==0):\n",
        "    print(float(atm-n-0.5))\n",
        "else:\n",
        "    print(float(atm))"
      ],
      "metadata": {
        "id": "JnL_hsi3EXGD"
      },
      "execution_count": null,
      "outputs": []
    },
    {
      "cell_type": "markdown",
      "source": [
        "# Is it hot or cold\n",
        "Problem Code:\n",
        "HOTCOLD\n",
        "# Problem\n",
        "Chef considers the climate HOT if the temperature is above 2020, otherwise he considers it COLD. You are given the temperature CC, find whether the climate is HOT or COLD."
      ],
      "metadata": {
        "id": "ulPprsjyFEVM"
      }
    },
    {
      "cell_type": "code",
      "source": [
        "# cook your dish here\n",
        "t = int(input())\n",
        "for i in range(t):\n",
        "    c = int(input())\n",
        "    if (c>20):\n",
        "        print(\"HOT\")\n",
        "    else:\n",
        "        print(\"COLD\")"
      ],
      "metadata": {
        "id": "1dMTJqhGFA2x"
      },
      "execution_count": null,
      "outputs": []
    },
    {
      "cell_type": "markdown",
      "source": [
        "# Football Cup\n",
        "Problem Code:\n",
        "FOOTCUP\n",
        "# Problem\n",
        "It is the final day of La Liga. Chef has a certain criteria for assessing football matches.\n",
        "In particular, he only likes a match if:\n",
        "\n",
        "The match ends in a draw, and,\n",
        "At least one goal has been scored by either team.\n",
        "Given the goals scored by both the teams as XX and YY respectively, determine whether Chef will like the match or not."
      ],
      "metadata": {
        "id": "Jw06dhaFG8LZ"
      }
    },
    {
      "cell_type": "code",
      "source": [
        "# cook your dish here\n",
        "t = int(input())\n",
        "for i in range(t):\n",
        "    x,y = map(int,input().split())\n",
        "    if (x==0 and y==0):\n",
        "        print(\"NO\")\n",
        "    elif x== y:\n",
        "        print(\"YES\")\n",
        "    elif (x>=y or y>=x):\n",
        "        print(\"NO\")"
      ],
      "metadata": {
        "id": "hfPxihyxG7dS"
      },
      "execution_count": null,
      "outputs": []
    },
    {
      "cell_type": "markdown",
      "source": [
        "# Fill the Bucket\n",
        "Problem Code:\n",
        "FBC\n",
        "# Problem\n",
        "Chef has a bucket having a capacity of KK liters. It is already filled with XX liters of water.\n",
        "\n",
        "Find the maximum amount of extra water in liters that Chef can fill in the bucket without overflowing."
      ],
      "metadata": {
        "id": "yhVO4tVDIuD4"
      }
    },
    {
      "cell_type": "code",
      "source": [
        "# cook your dish here\n",
        "t = int(input())\n",
        "for i in range(t):\n",
        "    k,x = map(int,input().split())\n",
        "    print(k-x)"
      ],
      "metadata": {
        "id": "-eCl6HVHIrdd"
      },
      "execution_count": null,
      "outputs": []
    },
    {
      "cell_type": "markdown",
      "source": [
        "# Pass the Exam\n",
        "Problem Code:\n",
        "PASSTHEEXAM\n",
        "# Problem\n",
        "Chef appeared for an exam consisting of 33 sections. Each section is worth 100100 marks.\n",
        "\n",
        "Chef scored AA marks in Section 11, BB marks in section 22, and CC marks in section 33.\n",
        "\n",
        "Chef passes the exam if both of the following conditions satisfy:\n",
        "\n",
        "Total score of Chef is \\geq 100≥100;\n",
        "Score of each section \\geq 10≥10.\n",
        "Determine whether Chef passes the exam or not."
      ],
      "metadata": {
        "id": "rYY9npgkLaPP"
      }
    },
    {
      "cell_type": "code",
      "source": [
        "# cook your dish here\n",
        "t = int(input())\n",
        "for i in range(t):\n",
        "    a,b,c = map(int,input().split())\n",
        "    d = a+b+c\n",
        "    if (d>=100) and a>=10 and b>=10 and c>=10:\n",
        "        print(\"PASS\")\n",
        "    else:\n",
        "        print(\"FAIL\")\n",
        "\n",
        "        "
      ],
      "metadata": {
        "id": "Wqs4koZ9LWPq"
      },
      "execution_count": null,
      "outputs": []
    },
    {
      "cell_type": "markdown",
      "source": [
        "# Ezio and Guards\n",
        "Problem Code:\n",
        "MANIPULATE\n",
        "# Problem\n",
        "Ezio can manipulate at most XX number of guards with the apple of eden.\n",
        "\n",
        "Given that there are YY number of guards, predict if he can safely manipulate all of them."
      ],
      "metadata": {
        "id": "vpCakWIkMX5u"
      }
    },
    {
      "cell_type": "code",
      "source": [
        "# cook your dish here\n",
        "t = int(input())\n",
        "for i in range(t):\n",
        "    x,y = map(int,input().split())\n",
        "    if (x<y):\n",
        "        print(\"NO\")\n",
        "    else:\n",
        "        print(\"YES\")"
      ],
      "metadata": {
        "id": "Fm2_tcBNLd_1"
      },
      "execution_count": null,
      "outputs": []
    },
    {
      "cell_type": "markdown",
      "source": [
        "# Chef and Masks\n",
        "Problem Code:\n",
        "CMASKS\n",
        "# Problem\n",
        "Chef is shopping for masks. In the shop, he encounters 22 types of masks:\n",
        "\n",
        "Disposable Masks — cost XX but last only 11 day.\n",
        "Cloth Masks — cost YY but last 1010 days.\n",
        "Chef wants to buy masks to last him 100100 days. He will buy the masks which cost him the least. In case there is a tie in terms of cost, Chef will be eco-friendly and choose the cloth masks. Which type of mask will Chef choose?"
      ],
      "metadata": {
        "id": "gKB-pi9IMdX7"
      }
    },
    {
      "cell_type": "code",
      "source": [
        "# cook your dish here\n",
        "t = int(input())\n",
        "for i in range(t):\n",
        "    x,y = map(int,input().split())\n",
        "    if (x*100 >= y*10):\n",
        "        print(\"CLOTH\")\n",
        "    else:\n",
        "        print(\"DISPOSABLE\")"
      ],
      "metadata": {
        "id": "NoxFfw0pN1q8"
      },
      "execution_count": null,
      "outputs": []
    },
    {
      "cell_type": "markdown",
      "source": [
        "# Maximum Submissions\n",
        "Problem Code:\n",
        "MAXIMUMSUBS \n",
        "# Problem\n",
        "A participant can make 11 submission every 3030 seconds. If a contest lasts for XX minutes, what is the maximum number of submissions that the participant can make during it?\n",
        "\n",
        "It is also given that the participant cannot make any submission in the last 55 seconds of the contest."
      ],
      "metadata": {
        "id": "Di45KcOmO_tQ"
      }
    },
    {
      "cell_type": "code",
      "source": [
        "# cook your dish here\n",
        "t = int(input())\n",
        "for i in range(t):\n",
        "    x = int(input())\n",
        "    c = x*60\n",
        "    d = c//30\n",
        "    print(d)"
      ],
      "metadata": {
        "id": "ibzr5t33O-4x"
      },
      "execution_count": null,
      "outputs": []
    },
    {
      "cell_type": "markdown",
      "source": [
        "# Expiring Bread\n",
        "Problem Code:\n",
        "EXPIRY\n",
        "# Problem\n",
        "Eikooc loves bread. She has NN loaves of bread, all of which expire after exactly MM days. She can eat upto KK loaves of bread in a day. Can she eat all the loaves of bread before they expire?"
      ],
      "metadata": {
        "id": "qeCRTk4oPL5L"
      }
    },
    {
      "cell_type": "code",
      "source": [
        "# cook your dish here\n",
        "t = int(input())\n",
        "for i in range(t):\n",
        "    n,m,k = map(int,input().split())\n",
        "    \n",
        "    if(n <= m*k):\n",
        "        print(\"YES\")\n",
        "    else:\n",
        "        print(\"NO\")"
      ],
      "metadata": {
        "id": "RJ4gDKCMSYfN"
      },
      "execution_count": null,
      "outputs": []
    },
    {
      "cell_type": "markdown",
      "source": [
        "# AI Analysing Code\n",
        "Difficulty Rating:445\n",
        "# But there is a restriction that the feature works only on codes which are at most 10001000 characters long. Given the number of characters, CC, in a particular code, output whether the feature is available on this code or not."
      ],
      "metadata": {
        "id": "A38lMN_tRybQ"
      }
    },
    {
      "cell_type": "code",
      "source": [
        "# cook your dish here\n",
        "c = int(input())\n",
        "if (c<=1000):\n",
        "    print(\"YES\")\n",
        "else:\n",
        "    print(\"NO\")"
      ],
      "metadata": {
        "id": "He_N6A_3RxwS"
      },
      "execution_count": null,
      "outputs": []
    },
    {
      "cell_type": "markdown",
      "source": [
        "# TV Discount\n",
        "Problem Code:\n",
        "TVDISC\n",
        "# Problem\n",
        "Chef is looking to buy a TV and has shortlisted two models. The first one costs AA rupees, while the second one costs BB rupees.\n",
        "\n",
        "Since there is a huge sale coming up on Chefzon, Chef can get a flat discount of CC rupees on the first TV, and a flat discount of DD rupees on the second one.\n",
        "\n",
        "Help Chef determine which of the two TVs would be cheaper to buy during the sale."
      ],
      "metadata": {
        "id": "P2GxPMH4S5Mo"
      }
    },
    {
      "cell_type": "code",
      "source": [
        "# cook your dish here\n",
        "t = int(input())\n",
        "for i in range(t):\n",
        "    a,b,c,d = map(int,input().split())\n",
        "    e = a-c\n",
        "    f = b-d\n",
        "    if (e<f):\n",
        "        print(\"FIRST\")\n",
        "    elif e ==f :\n",
        "        print(\"ANY\")\n",
        "    else:\n",
        "        print(\"SECOND\")"
      ],
      "metadata": {
        "id": "E8AKFvnJS993"
      },
      "execution_count": null,
      "outputs": []
    },
    {
      "cell_type": "markdown",
      "source": [
        "# Problem Code:\n",
        "BROKENPHONE\n",
        "\n",
        "# Problem\n",
        "Uttu broke his phone. He can get it repaired by spending XX rupees or he can buy a new phone by spending YY rupees. Uttu wants to spend as little money as possible. Find out if it is better to get the phone repaired or to buy a new phone."
      ],
      "metadata": {
        "id": "t5mw3J7hTqnI"
      }
    },
    {
      "cell_type": "code",
      "source": [
        "# cook your dish here\n",
        "t = int(input())\n",
        "for i in range(t):\n",
        "    x, y = map(int,input().split())\n",
        "    if (x<y):\n",
        "        print(\"REPAIR\")\n",
        "    elif x==y:\n",
        "        print(\"ANY\")\n",
        "    else:\n",
        "        print(\"NEW PHONE\")"
      ],
      "metadata": {
        "id": "OdDyropfTxTt"
      },
      "execution_count": null,
      "outputs": []
    },
    {
      "cell_type": "markdown",
      "source": [
        "# Problem Code:\n",
        "TYRE\n",
        "# Problem\n",
        "There are NN bikes and MM cars on the road.\n",
        "\n",
        "Each bike has 22 tyres.\n",
        "Each car has 44 tyres.\n",
        "Find the total number of tyres on the road."
      ],
      "metadata": {
        "id": "9-T_zux8UPnF"
      }
    },
    {
      "cell_type": "code",
      "source": [
        "# cook your dish here\n",
        "t = int(input())\n",
        "for i in range(t):\n",
        "    n,m = map(int,input().split())\n",
        "    print((n*2) + (m*4))"
      ],
      "metadata": {
        "id": "4HRga4vqUMfO"
      },
      "execution_count": null,
      "outputs": []
    },
    {
      "cell_type": "markdown",
      "source": [
        "# Problem Code:\n",
        "BUDGET_\n",
        "# Problem\n",
        "Akshat has XX rupees to spend in the current month. His daily expenditure is YY rupees, i.e., he spends YY rupees each day.\n",
        "\n",
        "Given that the current month has 3030 days, find out if Akshat has enough money to meet his daily expenditures for this month."
      ],
      "metadata": {
        "id": "JIaaSOAYVEEF"
      }
    },
    {
      "cell_type": "code",
      "source": [
        "# cook your dish here\n",
        "t = int(input())\n",
        "for i in range(t):\n",
        "    x,y = map(int,input().split())\n",
        "    if (x < y*30):\n",
        "        print(\"NO\")\n",
        "    else:\n",
        "        print(\"YES\")"
      ],
      "metadata": {
        "id": "TZzWEHsRVBYB"
      },
      "execution_count": null,
      "outputs": []
    },
    {
      "cell_type": "markdown",
      "source": [
        "# Problem Code:\n",
        "INSTNOODLE\n",
        "# Problem\n",
        "Chef has invented 11-minute Instant Noodles. As the name suggests, each packet takes exactly 11 minute to cook.\n",
        "\n",
        "Chef's restaurant has XX stoves and only 11 packet can be cooked in a single pan.\n",
        "\n",
        "How many customers can Chef serve in YY minutes if each customer orders exactly 11 packet of noodles?"
      ],
      "metadata": {
        "id": "zdxQPv64VqFk"
      }
    },
    {
      "cell_type": "code",
      "source": [
        "# cook your dish here\n",
        "x , y = map(int,input().split())\n",
        "print(x*y)"
      ],
      "metadata": {
        "id": "4Pe35E7FVpN0"
      },
      "execution_count": null,
      "outputs": []
    },
    {
      "cell_type": "markdown",
      "source": [
        "# Problem Code:\n",
        "CREDSCORE\n",
        "# Problem\n",
        "To access CRED programs, one needs to have a credit score of 750750 or more.\n",
        "Given that the present credit score is XX, determine if one can access CRED programs or not.\n",
        "\n",
        "If it is possible to access CRED programs, output \\texttt{YES}YES, otherwise output \\texttt{NO}NO."
      ],
      "metadata": {
        "id": "hUkI8xWIVyQV"
      }
    },
    {
      "cell_type": "code",
      "source": [
        "# cook your dish here\n",
        "x = int(input())\n",
        "if x<750:\n",
        "    print(\"NO\")\n",
        "else:\n",
        "    print(\"YES\")"
      ],
      "metadata": {
        "id": "bvoAZgsIWOpo"
      },
      "execution_count": null,
      "outputs": []
    },
    {
      "cell_type": "markdown",
      "source": [
        "# Problem Code:\n",
        "FLOW004\n",
        "# Problem\n",
        "If Give an integer N . Write a program to obtain the sum of the first and last digits of this number."
      ],
      "metadata": {
        "id": "0GkODisoWa6j"
      }
    },
    {
      "cell_type": "code",
      "source": [
        "for i in range(int(input())):\n",
        "    s = input()\n",
        "    print(int(s[0]) + int(s[len(s) - 1]))"
      ],
      "metadata": {
        "id": "JHgnVWvCWaNw"
      },
      "execution_count": null,
      "outputs": []
    },
    {
      "cell_type": "markdown",
      "source": [
        "# Problem Code:\n",
        "INTEST\n",
        "# Problem\n",
        "The purpose of this problem is to verify whether the method you are using to read input data is sufficiently fast to handle problems branded with the enormous Input/Output warning. You are expected to be able to process at least 2.5MB of input data per second at runtime."
      ],
      "metadata": {
        "id": "Wr-1YjvKW846"
      }
    },
    {
      "cell_type": "code",
      "source": [
        "(n, k) = map(int, input().split(' '))\n",
        "\n",
        "ans = 0\n",
        "\n",
        "for i in range(n):\n",
        "\tx = int(input())\n",
        "\tif x % k == 0:\n",
        "\t\tans += 1\n",
        "\n",
        "print(ans)"
      ],
      "metadata": {
        "id": "hUEsse2jW8Dp"
      },
      "execution_count": null,
      "outputs": []
    },
    {
      "cell_type": "markdown",
      "source": [
        "# Problem Code:\n",
        "PRACTICEPERF\n",
        "\n",
        "# Problem\n",
        "Most programmers will tell you that one of the ways to improve your performance in competitive programming is to practice a lot of problems.\n",
        "\n",
        "Our Chef took the above advice very seriously and decided to set a target for himself.\n",
        "\n",
        "Chef decides to solve at least 1010 problems every week for 44 weeks.\n",
        "Given the number of problems he actually solved in each week over 44 weeks as P_1, P_2, P_3,P \n",
        "1\n",
        "​\n",
        " ,P \n",
        "2\n",
        "​\n",
        " ,P \n",
        "3\n",
        "​\n",
        " , and P_4P \n",
        "4\n",
        "​\n",
        " , output the number of weeks in which Chef met his target."
      ],
      "metadata": {
        "id": "Su3grcs3Y6Ms"
      }
    },
    {
      "cell_type": "code",
      "source": [
        "# cook your dish here\n",
        "lst = list(map(int,input().split()))\n",
        "count = 0\n",
        "for i in lst:\n",
        "    if i>=10:\n",
        "        count +=1\n",
        "print(count)\n"
      ],
      "metadata": {
        "id": "2pbiywKSY6xv"
      },
      "execution_count": null,
      "outputs": []
    },
    {
      "cell_type": "markdown",
      "source": [
        "# Problem Code:\n",
        "COURSEREG\n",
        "\n",
        "#Problem\n",
        "There is a group of NN friends who wish to enroll in a course together. The course has a maximum capacity of MM students that can register for it. If there are KK other students who have already enrolled in the course, determine if it will still be possible for all the NN friends to do so or not."
      ],
      "metadata": {
        "id": "2BUriIM9aAjH"
      }
    },
    {
      "cell_type": "code",
      "source": [
        "# cook your dish here\n",
        "t = int(input())\n",
        "for i in range(t):\n",
        "    n,m,k = map(int,input().split())\n",
        "    d = m-k\n",
        "    if (n<=d):\n",
        "        print(\"YES\")\n",
        "    else:\n",
        "        print(\"NO\")"
      ],
      "metadata": {
        "id": "BFD8wkA2Z9pw"
      },
      "execution_count": null,
      "outputs": []
    },
    {
      "cell_type": "markdown",
      "source": [
        "# Problem Code:\n",
        "INSURANCE\n",
        "# Problem\n",
        "Chef bought car insurance. The policy of the insurance is:\n",
        "\n",
        "The maximum rebatable amount for any damage is Rs XX lakhs.\n",
        "If the amount required for repairing the damage is \\leq X≤X lakhs, that amount is rebated in full.\n",
        "Chef's car meets an accident and required Rs YY lakhs for repairing.\n",
        "\n",
        "Determine the amount that will be rebated by the insurance company."
      ],
      "metadata": {
        "id": "IbswJDesaoo0"
      }
    },
    {
      "cell_type": "code",
      "source": [
        "# cook your dish here\n",
        "t = int(input())\n",
        "for i in range(t):\n",
        "    x,y =  map(int,input().split())\n",
        "    if (x<y):\n",
        "        print(x)\n",
        "    else:\n",
        "        print(y)"
      ],
      "metadata": {
        "id": "eCLtxo2FaEoU"
      },
      "execution_count": null,
      "outputs": []
    },
    {
      "cell_type": "markdown",
      "source": [
        "# Problem Code:\n",
        "INCRIQ"
      ],
      "metadata": {
        "id": "g_B4nHXHbvTB"
      }
    },
    {
      "cell_type": "markdown",
      "source": [
        "# Problem\n",
        "A study has shown that playing a musical instrument helps in increasing one's IQ by 77 points. Chef knows he can't beat Einstein in physics, but he wants to try to beat him in an IQ competition.\n",
        "\n",
        "You know that Einstein had an IQ of 170170, and Chef currently has an IQ of XX.\n",
        "\n",
        "Determine if, after learning to play a musical instrument, Chef's IQ will become strictly greater than Einstein's.\n",
        "\n",
        "Print \"Yes\" if it is possible for Chef to beat Einstein, else print \"No\" (without quotes).\n",
        "\n",
        "You may print each character of the string in either uppercase or lowercase (for example, the strings yEs, yes, Yes, and YES will all be treated as identical).\n",
        "\n",
        "Input Format"
      ],
      "metadata": {
        "id": "VgCYEzcKbrD-"
      }
    },
    {
      "cell_type": "code",
      "source": [
        "# cook your dish here\n",
        "x = int(input())\n",
        "d = x+7\n",
        "if (d>170):\n",
        "    print(\"YES\")\n",
        "else:\n",
        "    print(\"NO\")"
      ],
      "metadata": {
        "id": "SUaYDSjaaxw9"
      },
      "execution_count": null,
      "outputs": []
    },
    {
      "cell_type": "markdown",
      "source": [
        "# Problem Code:\n",
        "BATTERYLOW\n",
        "# Problem\n",
        "Chef's phone shows a Battery Low notification if the battery level is 15 \\%15% or less.\n",
        "\n",
        "Given that the battery level of Chef's phone is X \\%X%, determine whether it would show a Battery low"
      ],
      "metadata": {
        "id": "E44ZgsjMcvsJ"
      }
    },
    {
      "cell_type": "code",
      "source": [
        "# cook your dish here\n",
        "t = int(input())\n",
        "for i in range(t):\n",
        "    x = int(input())\n",
        "    if (x>15):\n",
        "        print(\"NO\")\n",
        "    else:\n",
        "        print(\"YES\")"
      ],
      "metadata": {
        "id": "Yr2VC44FcsVQ"
      },
      "execution_count": null,
      "outputs": []
    },
    {
      "cell_type": "markdown",
      "source": [
        "# Problem Code:\n",
        "BOBBANK\n",
        "# Problem\n",
        "Bob has an account in the Bobby Bank. His current account balance is WW rupees.\n",
        "\n",
        "Each month, the office in which Bob works deposits a fixed amount of XX rupees to his account.\n",
        "YY rupees is deducted from Bob's account each month as bank charges.\n",
        "\n",
        "Find his final account balance after ZZ months. Note that the account balance can be negative as well."
      ],
      "metadata": {
        "id": "ww5GLgCScsAM"
      }
    },
    {
      "cell_type": "code",
      "source": [
        "# cook your dish here\n",
        "t = int(input())\n",
        "for i in range(t):\n",
        "    w,x,y,z = map(int,input().split())\n",
        "    a = x-y\n",
        "    b = a*z\n",
        "    print(w + b)"
      ],
      "metadata": {
        "id": "PBnRFRTjdfp7"
      },
      "execution_count": null,
      "outputs": []
    },
    {
      "cell_type": "markdown",
      "source": [
        "# Problem Code:\n",
        "MANGOES\n",
        "# Problem\n",
        "You are given that a mango weighs XX kilograms and a truck weighs YY kilograms. You want to cross a bridge that can withstand a weight of ZZ kilograms.\n",
        "\n",
        "Find the maximum number of mangoes you can load in the truck so that you can cross the bridge safely."
      ],
      "metadata": {
        "id": "3jq-0dkzeixc"
      }
    },
    {
      "cell_type": "code",
      "source": [
        "# cook your dish heref\n",
        "for i in range(int(input())):\n",
        "    x,y,z = map(int,input().split())\n",
        "    print((z-y)//x)"
      ],
      "metadata": {
        "id": "PAsh9CDLef04"
      },
      "execution_count": null,
      "outputs": []
    },
    {
      "cell_type": "markdown",
      "source": [
        "# Problem Code:\n",
        "WATERFLOW\n",
        "# Problem\n",
        "Alice has a bucket of water initially having WW litres of water in it. The maximum capacity of the bucket is XX liters.\n",
        "\n",
        "Alice turned on the tap and the water starts flowing into the bucket at a rate of YY litres/hour. She left the tap running for exactly ZZ hours. Determine whether the bucket has been overflown, filled exactly, or is still left unfilled."
      ],
      "metadata": {
        "id": "Ev5VUggVfmVl"
      }
    },
    {
      "cell_type": "code",
      "source": [
        "# cook your dish here\n",
        "t = int(input())\n",
        "for i in range(t):\n",
        "    w,x,y,z = map(int,input().split())\n",
        "    a = y*z\n",
        "    b = w + a\n",
        "    if (b>x):\n",
        "        print(\"OVERFLOW\")\n",
        "    elif b == x:\n",
        "        print(\"FILLED\")\n",
        "    else:\n",
        "        print(\"UNFILLED\")"
      ],
      "metadata": {
        "id": "0ANWbqI3fjA8"
      },
      "execution_count": null,
      "outputs": []
    },
    {
      "cell_type": "markdown",
      "source": [
        "# Problem Code:\n",
        "F1RULE\n",
        "# Problem\n",
        "Chef has finally got the chance of his lifetime to drive in the F1F1 tournament. But, there is one problem. Chef did not know about the 107% rule and now he is worried whether he will be allowed to race in the main event or not.\n",
        "\n",
        "Given the fastest finish time as XX seconds and Chef's finish time as YY seconds, determine whether Chef will be allowed to race in the main event or not.\n",
        "\n",
        "Note that, Chef will only be allowed to race if his finish time is within 107% of the fastest finish time."
      ],
      "metadata": {
        "id": "TDRE0OOBiC_Y"
      }
    },
    {
      "cell_type": "code",
      "source": [
        "# cook your dish here\n",
        "t = int(input())\n",
        "for i in range(t):\n",
        "    x, y = map(int,input().split())\n",
        "    a =  x*1.07\n",
        "    if (y<=a):\n",
        "        print(\"YES\")\n",
        "    else:\n",
        "        print(\"NO\")\n",
        "    "
      ],
      "metadata": {
        "id": "ArsCD7CeiCLk"
      },
      "execution_count": null,
      "outputs": []
    },
    {
      "cell_type": "markdown",
      "source": [
        "# Problem Code:\n",
        "DOMINANT\n",
        "\n",
        "#Problem\n",
        "In the medieval age, there were 33 kingdoms AA, BB, and CC. The army of these kingdom had N_AN \n",
        "A\n",
        "​\n",
        " , N_BN \n",
        "B\n",
        "​\n",
        " , and N_CN \n",
        "C\n",
        "​\n",
        "  soldiers respectively.\n",
        "\n",
        "You are given that an army with XX soldiers can defeat an army with YY soldiers only if X \\gt YX>Y.\n",
        "\n",
        "An army is said to be dominant if it can defeat both the other armies combined. For example, kingdom CC's army will be dominant only if N_C > N_A + N_BN \n",
        "C\n",
        "​\n",
        " >N \n",
        "A\n",
        "​\n",
        " +N \n",
        "B\n",
        "​\n",
        " .\n",
        "\n",
        "Determine whether any of the armies is dominant or not."
      ],
      "metadata": {
        "id": "nerLNFRzjjLb"
      }
    },
    {
      "cell_type": "code",
      "source": [
        "# cook your dish here\n",
        "t = int(input())\n",
        "for i in range(t):\n",
        "    a,b,c = map(int,input().split())\n",
        "    if a >b+c or b> a+c or c>a+b:\n",
        "        print(\"YES\")\n",
        "    else:\n",
        "        print(\"NO\")"
      ],
      "metadata": {
        "id": "8HX7AYG0iCCT"
      },
      "execution_count": null,
      "outputs": []
    },
    {
      "cell_type": "markdown",
      "source": [
        "# Problem Code:\n",
        "CHEFCHOCO\n",
        "# Problem\n",
        "Chef wants to gift CC chocolates to Botswal on his birthday. However, he has only XX chocolates with him.\n",
        "The cost of 11 chocolate is YY rupees.\n",
        "\n",
        "Find the minimum money in rupees Chef needs to spend so that he can gift CC chocolates to Botswal."
      ],
      "metadata": {
        "id": "w25el3Ytjn7k"
      }
    },
    {
      "cell_type": "code",
      "source": [
        "# cook your dish here\n",
        "t = int(input())\n",
        "for i in range(t):\n",
        "    c,x,y = map(int,input().split())\n",
        "    print((c-x)*y)"
      ],
      "metadata": {
        "id": "wkv5VFmQk1r_"
      },
      "execution_count": null,
      "outputs": []
    },
    {
      "cell_type": "markdown",
      "source": [
        "# Problem Code:\n",
        "SONGS\n",
        "# Problem\n",
        "Chef's playlist contains 33 songs named A, BA,B, and CC, each of duration exactly XX minutes. Chef generally plays these 33 songs in loop, i.e, A \\rightarrow B \\rightarrow C \\rightarrow A \\rightarrow B \\rightarrow C \\rightarrow A \\rightarrow \\dotsA→B→C→A→B→C→A→…\n",
        "\n",
        "Chef went on a train journey of NN minutes and played his playlist on loop for the whole journey. How many times did he listen to the song CC completely?"
      ],
      "metadata": {
        "id": "_uONO-GGlqti"
      }
    },
    {
      "cell_type": "code",
      "source": [
        "# cook your dish here\n",
        "t = int(input())\n",
        "for i in range(t):\n",
        "    n, x = map(int,input().split())\n",
        "    print(n//(3*x))"
      ],
      "metadata": {
        "id": "yqVMMQ7Ylp2F"
      },
      "execution_count": null,
      "outputs": []
    },
    {
      "cell_type": "markdown",
      "source": [
        "# "
      ],
      "metadata": {
        "id": "QaruCO92nFWD"
      }
    },
    {
      "cell_type": "markdown",
      "source": [
        "# Problem Code:\n",
        "CHEAPFOOD\n",
        "# Problem\n",
        "Chef is ordering food online (instead of cooking) and the bill comes out to be Rs. XX. Chef can use one of the following two coupons to avail a discount.\n",
        "\n",
        "Get 1010 percent off on the bill amount\n",
        "Get a flat discount of Rs. 100100 on the bill amount\n",
        "What is the maximum discount Chef can avail?"
      ],
      "metadata": {
        "id": "_MkQVj2Kng2T"
      }
    },
    {
      "cell_type": "code",
      "source": [
        "# cook your dish here\n",
        "t = int(input())\n",
        "for i in range(t):\n",
        "    x = int(input())\n",
        "    if (x*0.1>=100):\n",
        "        print(x//10)\n",
        "    else:\n",
        "        print(100)"
      ],
      "metadata": {
        "id": "FOiCWeWNnGlD"
      },
      "execution_count": null,
      "outputs": []
    },
    {
      "cell_type": "markdown",
      "source": [
        "# Problem Code:\n",
        "CGYM\n",
        "# Problem\n",
        "Chef has decided to join a Gym in ChefLand and if possible, also hire a personal trainer at the gym. The monthly cost of the gym is XX and personal training will cost him an additional YY per month. Chef's total budget per month is only ZZ. Print 1 if Chef can only join the gym, 2 if he can also have a personal trainer, and 0 if he can't even join the gym.\n",
        "\n",
        "Note that if Chef wants to hire a personal trainer, he must join the gym — he cannot hire the trainer without joining the gym."
      ],
      "metadata": {
        "id": "1mh51Plxoi4U"
      }
    },
    {
      "cell_type": "code",
      "source": [
        "# cook your dish here\n",
        "for _ in range(int(input())):\n",
        "    x, y, z = map(int, input().split())\n",
        "    if z < x:\n",
        "        print(0)\n",
        "    elif y > z - x:\n",
        "        print(1)\n",
        "    else:\n",
        "        print(2)"
      ],
      "metadata": {
        "id": "JEmSLHZwolqP"
      },
      "execution_count": null,
      "outputs": []
    },
    {
      "cell_type": "markdown",
      "source": [
        "# Problem Code:\n",
        "SPECIALITY\n",
        "# Problem\n",
        "On every CodeChef user's profile page, the list of problems that they have set, tested, and written editorials for, is listed at the bottom.\n",
        "\n",
        "Given the number of problems in each of these 33 categories as X, Y,X,Y, and ZZ respectively (where all three integers are distinct), find if the user has been most active as a Setter, Tester, or Editorialist."
      ],
      "metadata": {
        "id": "7vyc9ln4Kf5L"
      }
    },
    {
      "cell_type": "code",
      "source": [
        "# cook your dish here\n",
        "for _ in range(int(input())):\n",
        "    x,y,z = map(int,input().split())\n",
        "    if x>y and x>z:\n",
        "        print(\"SETTER\")\n",
        "    elif y>x and y>z:\n",
        "        print(\"TESTER\")\n",
        "    else:\n",
        "        print(\"EDITORIALIST\")"
      ],
      "metadata": {
        "id": "Tp1rTuI6KeAk"
      },
      "execution_count": null,
      "outputs": []
    }
  ]
}