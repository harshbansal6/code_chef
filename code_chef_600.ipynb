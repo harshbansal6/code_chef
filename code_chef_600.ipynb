{
  "nbformat": 4,
  "nbformat_minor": 0,
  "metadata": {
    "colab": {
      "provenance": [],
      "collapsed_sections": [],
      "authorship_tag": "ABX9TyPxW9lcnJvTxzIKNP66VxRP"
    },
    "kernelspec": {
      "name": "python3",
      "display_name": "Python 3"
    },
    "language_info": {
      "name": "python"
    }
  },
  "cells": [
    {
      "cell_type": "markdown",
      "source": [
        "# Problem Code:\n",
        "MINCARS\n",
        "# Problem\n",
        "A single car can accommodate at most 44 people.\n",
        "\n",
        "NN friends want to go to a restaurant for a party. Find the minimum number of cars required to accommodate all the friends."
      ],
      "metadata": {
        "id": "_xoqJwLYOh2Z"
      }
    },
    {
      "cell_type": "code",
      "execution_count": null,
      "metadata": {
        "id": "7xEa8IUYOb3Y"
      },
      "outputs": [],
      "source": [
        "for _ in range(int(input())):\n",
        "    n = int(input())\n",
        "    if n%4==0:\n",
        "        print(n//4)\n",
        "    else:\n",
        "        print(n//4+1)"
      ]
    },
    {
      "cell_type": "markdown",
      "source": [
        "# Problem Code:\n",
        "JENGA\n",
        "# Problem\n",
        "Chef hosts a party for his birthday. There are NN people at the party. All these NN people decide to play Jenga.\n",
        "\n",
        "There are XX Jenga tiles available. In one round, all the players pick 11 tile each and place it in the tower.\n",
        "The game is valid if:\n",
        "\n",
        "All the players have a tile in each round;\n",
        "All the tiles are used at the end.\n",
        "Given NN and XX, find whether the game is valid."
      ],
      "metadata": {
        "id": "WT3c6vjNQbqI"
      }
    },
    {
      "cell_type": "code",
      "source": [
        "# cook your dish here\n",
        "for _ in range(int(input())):\n",
        "    n,x = map(int,input().split())\n",
        "    if (x%n==0):\n",
        "        print(\"YES\")\n",
        "    else:\n",
        "        print(\"NO\")"
      ],
      "metadata": {
        "id": "SJFdR0pUQXP4"
      },
      "execution_count": null,
      "outputs": []
    },
    {
      "cell_type": "markdown",
      "source": [
        "# Problem Code:\n",
        "START01\n",
        "# Problem\n",
        "Problem Statement\n",
        "Write a program that accepts a number, n, and outputs the same."
      ],
      "metadata": {
        "id": "Qve99kLaRmIp"
      }
    },
    {
      "cell_type": "code",
      "source": [
        "# cook your dish here\n",
        "n = int(input())\n",
        "print(n)"
      ],
      "metadata": {
        "id": "9rBC_iiqRjhK"
      },
      "execution_count": null,
      "outputs": []
    },
    {
      "cell_type": "markdown",
      "source": [
        "# Problem Code:\n",
        "DISCUS\n",
        "# Problem\n",
        "In discus throw, a player is given 33 throws and the throw with the longest distance is regarded as their final score.\n",
        "\n",
        "You are given the distances for all 33 throws of a player. Determine the final score of the player."
      ],
      "metadata": {
        "id": "yUZXCSTASHpZ"
      }
    },
    {
      "cell_type": "code",
      "source": [
        "# cook your dish here\n",
        "for _ in range(int(input())):\n",
        "    a,b,c = map(int,input().split())\n",
        "    print(max(a,b,c))"
      ],
      "metadata": {
        "id": "DlWNMLkJSDtK"
      },
      "execution_count": null,
      "outputs": []
    },
    {
      "cell_type": "markdown",
      "source": [
        "# Problem Code:\n",
        "WINNERR\n",
        "# Problem\n",
        "There is a contest containing 22 problems AA and BB.\n",
        "\n",
        "22 strong participants PP and QQ participated in the contest and solved both the problems.\n",
        "\n",
        "PP made AC submissions on problems AA and BB at time instants P_AP \n",
        "A\n",
        "​\n",
        "  and P_BP \n",
        "B\n",
        "​\n",
        "  respectively while QQ made AC submissions on problems AA and BB at time instants Q_AQ \n",
        "A\n",
        "​\n",
        "  and Q_BQ \n",
        "B\n",
        "​\n",
        " .\n",
        "\n",
        "It is given that the time penalty is the minimum time instant at which a participant has solved both the problems. Also the participant with the lower time penalty will have a better rank.\n",
        "\n",
        "Determine which participant got the better rank or if there is a TIE."
      ],
      "metadata": {
        "id": "vWK1OKdqTX2Z"
      }
    },
    {
      "cell_type": "code",
      "source": [
        "# cook your dish here\n",
        "for _ in range(int(input())):\n",
        "    a,b,c,d = map(int,input().split())\n",
        "    x = max(a,b)\n",
        "    y = max(c,d)\n",
        "    if x<y:\n",
        "        print('P')\n",
        "    elif x==y:\n",
        "        print(\"TIE\")\n",
        "    else:\n",
        "        print(\"Q\")"
      ],
      "metadata": {
        "id": "z1f3vaiMSNz5"
      },
      "execution_count": null,
      "outputs": []
    },
    {
      "cell_type": "markdown",
      "source": [
        "# Problem Code:\n",
        "MAXTASTE\n",
        "# Problem\n",
        "Chef is making a dish that consists of exactly two ingredients. He has four ingredients A, B, CA,B,C and DD with tastiness a, b, c,a,b,c, and dd respectively. He can use either AA or BB as the first ingredient and either CC or DD as the second ingredient.\n",
        "\n",
        "The tastiness of a dish is the sum of tastiness of its ingredients. Find the maximum possible tastiness of the dish that the chef can prepare."
      ],
      "metadata": {
        "id": "-NuMiNrJUMqZ"
      }
    },
    {
      "cell_type": "code",
      "source": [
        "# cook your dish here\n",
        "for _ in range(int(input())):\n",
        "    a,b,c,d = map(int,input().split())\n",
        "    x =max(a,b)\n",
        "    y = max(c,d)\n",
        "    print(x+y)"
      ],
      "metadata": {
        "id": "GfL3vFhiUJ95"
      },
      "execution_count": null,
      "outputs": []
    },
    {
      "cell_type": "markdown",
      "source": [
        "# Problem Code:\n",
        "MOVIE2X\n",
        "# Problem\n",
        "Chef started watching a movie that runs for a total of XX minutes.\n",
        "\n",
        "Chef has decided to watch the first YY minutes of the movie at twice the usual speed as he was warned by his friends that the movie gets interesting only after the first YY minutes.\n",
        "\n",
        "How long will Chef spend watching the movie in total?\n",
        "\n",
        "Note: It is guaranteed that YY is even."
      ],
      "metadata": {
        "id": "h4Av44vcWNlL"
      }
    },
    {
      "cell_type": "code",
      "source": [
        "# cook your dish h\n",
        "x,y = map(int,input().split())\n",
        "print(x-(y//2))"
      ],
      "metadata": {
        "id": "Hmucus3hWJ-q"
      },
      "execution_count": null,
      "outputs": []
    },
    {
      "cell_type": "markdown",
      "source": [
        "# Problem Code:\n",
        "POLTHIEF\n",
        "# Problem\n",
        "Chef discovered that his secret recipe has been stolen. He immediately informs the police of the theft.\n",
        "\n",
        "It is known that the policeman and thief move on the number line. You are given that:\n",
        "\n",
        "The initial location of the policeman on the number line is XX and his speed is 22 units per second.\n",
        "The initial location of the thief on the number line is YY and his speed is 11 unit per second.\n",
        "Find the minimum time (in seconds) in which the policeman can catch the thief. Note that, the policeman catches the thief as soon as their locations become equal and the thief will try to evade the policeman for as long as possible."
      ],
      "metadata": {
        "id": "S-MAvuy0Y7kt"
      }
    },
    {
      "cell_type": "code",
      "source": [
        "# cook your dish here\n",
        "for _ in range(int(input())):\n",
        "    x,y = map(int,input().split())\n",
        "    print(abs(y-x))"
      ],
      "metadata": {
        "id": "5Mbjql6CY44K"
      },
      "execution_count": null,
      "outputs": []
    },
    {
      "cell_type": "markdown",
      "source": [
        "# Problem Code:\n",
        "BATH\n",
        "# Problem\n",
        "A geyser has a capacity of XX litres of water and a bucket has a capacity of YY litres of water.\n",
        "\n",
        "One person requires exactly 22 buckets of water to take a bath. Find the maximum number of people that can take bath using water from one completely filled geyser.."
      ],
      "metadata": {
        "id": "VCgxFzOVal4r"
      }
    },
    {
      "cell_type": "code",
      "source": [
        "# cook your dish here\n",
        "for _ in range(int(input())):\n",
        "    x,y = map(int,input().split())\n",
        "    if x<y*2:\n",
        "        print(0)\n",
        "    else:\n",
        "        print(x//(y*2))"
      ],
      "metadata": {
        "id": "dgcMQN9najpT"
      },
      "execution_count": null,
      "outputs": []
    },
    {
      "cell_type": "markdown",
      "source": [
        "# Problem Code:\n",
        "FLOW016\n",
        "# Problem\n",
        "Two integers A and B are the inputs. Write a program to find GCD and LCM of A and B."
      ],
      "metadata": {
        "id": "-NrHLDOJYecx"
      }
    },
    {
      "cell_type": "code",
      "source": [
        "def gcd(x, y):\n",
        "    while(y):\n",
        "        x, y = y , x % y\n",
        "    return x\n",
        "\n",
        "def lcm(x, y):\n",
        "    lc = ((x*y)//gcd(x,y))\n",
        "    return lc\n",
        "\n",
        "n = int(input())\n",
        "for i in range(n):\n",
        "    x, y = map(int, input().split())\n",
        "    print(gcd(x, y), lcm(x, y))"
      ],
      "metadata": {
        "id": "cqpGGkj1Yhn_"
      },
      "execution_count": null,
      "outputs": []
    },
    {
      "cell_type": "markdown",
      "source": [
        "# Problem Code:\n",
        "RANKLISTPAGE\n",
        "# Problem\n",
        "Chef participated in a contest and got a rank XX.\n",
        "\n",
        "Chef is trying to find his name in the ranklist but there are too many pages.\n",
        "\n",
        "Each page consists of 2525 participants. Chef wants to find the exact page number which contains his name.\n",
        "Help Chef find the page number."
      ],
      "metadata": {
        "id": "axls3mTEZRi2"
      }
    },
    {
      "cell_type": "code",
      "source": [
        "# coofk your dish here\n",
        "for _ in range(int(input())):\n",
        "    x = int(input())\n",
        "    if x%25 ==0:\n",
        "        print(x//25)\n",
        "    else:\n",
        "        print(x//25+1)"
      ],
      "metadata": {
        "id": "tAehSmJ8ZR8z"
      },
      "execution_count": null,
      "outputs": []
    },
    {
      "cell_type": "markdown",
      "source": [
        "# Problem Code:\n",
        "FLIPCARDS\n",
        "# Problem\n",
        "There are NN cards on a table, out of which XX cards are face-up and the remaining are face-down.\n",
        "\n",
        "In one operation, we can do the following:\n",
        "\n",
        "Select any one card and flip it (i.e. if it was initially face-up, after the operation, it will be face-down and vice versa)\n",
        "What is the minimum number of operations we must perform so that all the cards face in the same direction (i.e. either all are face-up or all are face-down)?"
      ],
      "metadata": {
        "id": "IpoZ7zLHaoru"
      }
    },
    {
      "cell_type": "code",
      "source": [
        "# cook your dish here\n",
        "t = int(input())\n",
        "for _ in range(t):\n",
        "    n,x = map(int,input().split())\n",
        "    if x>(n-x):\n",
        "        print(n-x)\n",
        "    else:\n",
        "        print(x)\n"
      ],
      "metadata": {
        "id": "Ec4pnknrauf3"
      },
      "execution_count": null,
      "outputs": []
    },
    {
      "cell_type": "markdown",
      "source": [
        "# Problem Code:\n",
        "FINDSHOES\n",
        "# Problem\n",
        "Chef has NN friends. Chef promised that he would gift a pair of shoes (consisting of one left shoe and one right shoe) to each of his NN friends. Chef was about to go to the marketplace to buy shoes, but he suddenly remembers that he already had MM left shoes.\n",
        "\n",
        "What is the minimum number of extra shoes that Chef will have to buy to ensure that he is able to gift a pair of shoes to each of his NN friends?"
      ],
      "metadata": {
        "id": "1Bi9JfNRcZcY"
      }
    },
    {
      "cell_type": "code",
      "source": [
        "# cook your dish here\n",
        "t = int(input())\n",
        "for _ in range(t):\n",
        "    n,m = map(int,input().split())\n",
        "    if n<m:\n",
        "        print(n)\n",
        "    else:\n",
        "        print(2*n-m)"
      ],
      "metadata": {
        "id": "KKH0MDQ9ccyq"
      },
      "execution_count": null,
      "outputs": []
    },
    {
      "cell_type": "markdown",
      "source": [
        "# Problem Code:\n",
        "FCTRL2\n",
        "# You are asked to calculate factorials of some small positive integers."
      ],
      "metadata": {
        "id": "NIqose4W3Vz2"
      }
    },
    {
      "cell_type": "code",
      "source": [
        "def factorial(n):\n",
        "    if n==0:\n",
        "        return 1\n",
        "    elif n==1:\n",
        "        return 1\n",
        "    else:\n",
        "        return n*factorial(n-1)\n",
        "n=int(input())\n",
        "for i in range(n):\n",
        "    num=int(input())\n",
        "    print(factorial(num))"
      ],
      "metadata": {
        "id": "RgJXVrH43VIO"
      },
      "execution_count": null,
      "outputs": []
    },
    {
      "cell_type": "markdown",
      "source": [
        "# Problem Code:\n",
        "TRANSFORM\n",
        "# Problem\n",
        "Mario transforms each time he eats a mushroom as follows:\n",
        "\n",
        "If he is currently small, he turns normal.\n",
        "If he is currently normal, he turns huge.\n",
        "If he is currently huge, he turns small.\n",
        "Given that Mario was initially normal, find his size after eating XX mushrooms."
      ],
      "metadata": {
        "id": "0GR0yhNR4-4e"
      }
    },
    {
      "cell_type": "code",
      "source": [
        "# cook your dish here\n",
        "for _ in range(int(input())):\n",
        "    x = int(input())\n",
        "    if (x%3==0):\n",
        "        print(\"NORMAL\")\n",
        "    elif x%3==1:\n",
        "        print(\"HUGE\")\n",
        "    elif x%3==2:\n",
        "        print(\"SMALL\")"
      ],
      "metadata": {
        "id": "Mzd5cKSn47OM"
      },
      "execution_count": null,
      "outputs": []
    },
    {
      "cell_type": "markdown",
      "source": [
        "# Problem Code:\n",
        "BULLET\n",
        "# Problem\n",
        "Mario's bullet moves at XX pixels per frame. He wishes to shoot a goomba standing YY pixels away from him. The goomba does not move.\n",
        "\n",
        "Find the minimum time (in seconds) after which Mario should shoot the bullet, such that it hits the goomba after at least ZZ seconds from now."
      ],
      "metadata": {
        "id": "yvYTAffe7XiX"
      }
    },
    {
      "cell_type": "code",
      "source": [
        "# cook your dish here\n",
        "for _ in range(int(input())):\n",
        "    x,y,z = map(int,input().split())\n",
        "    if z>=(y//x):\n",
        "        print(z-(y//x))\n",
        "    else:\n",
        "        print(\"0\")\n",
        "\n",
        "\n",
        "for _ in range(int(input)):\n",
        "  x,y,z = map(int,input().split())\n",
        "  a = z-(y//x)\n",
        "  if a<0:\n",
        "    print(\"0\")\n",
        "  else:\n",
        "    print(a)"
      ],
      "metadata": {
        "id": "M-gGyhR27Es9"
      },
      "execution_count": null,
      "outputs": []
    },
    {
      "cell_type": "markdown",
      "source": [
        "# Problem Code:\n",
        "C_RATING\n",
        "# Problem\n",
        "Alice has recently started playing Chess. Her current rating is XX. She noticed that when she wins a game, her rating increases by 88 points.\n",
        "\n",
        "Can you help Alice in finding out the minimum number of games she needs to win in order to make her rating greater than or equal to YY?"
      ],
      "metadata": {
        "id": "Cm3SNgtE-CdQ"
      }
    },
    {
      "cell_type": "code",
      "source": [
        "# cook your dish here\n",
        "for _ in range(int(input())):\n",
        "    x,y = map(int,input().split())\n",
        "    a = (y-x)//8 \n",
        "    b = (y-x)/8 \n",
        "    if a<b:\n",
        "        print(a+1)\n",
        "    else:\n",
        "        print(a)"
      ],
      "metadata": {
        "id": "0DifBIx-9_M9"
      },
      "execution_count": null,
      "outputs": []
    },
    {
      "cell_type": "markdown",
      "source": [
        "# Problem Code:\n",
        "DNASTRAND\n",
        "# Problem\n",
        "You are given the sequence of Nucleotides of one strand of DNA through a string SS of length NN. SS contains the character A, T, C,A,T,C, and GG only."
      ],
      "metadata": {
        "id": "NewWvDIPJc6b"
      }
    },
    {
      "cell_type": "code",
      "source": [
        "# cook your dish here\n",
        "for _ in range(int(input())):\n",
        "    n = int(input())\n",
        "    s = input()\n",
        "    t = ''\n",
        "    for i in range(n):\n",
        "        if s[i]=='A':\n",
        "            t += 'T'\n",
        "        elif s[i]=='C':\n",
        "            t +='G'\n",
        "        elif s[i]==\"T\":\n",
        "            t +='A'\n",
        "        elif s[i]=='G':\n",
        "            t += 'C'\n",
        "    print(t)\n",
        "      #OR\n",
        "for _ in range(int(input())):\n",
        "    a=int(input())\n",
        "    b=input()\n",
        "    c=\"\"\n",
        "    for i in b:\n",
        "        if i=='A':\n",
        "            i='T'\n",
        "            c+=i\n",
        "        elif i=='T':\n",
        "            i='A'\n",
        "            c+=i\n",
        "        elif i=='C':\n",
        "            i='G'\n",
        "            c+=i\n",
        "        else:\n",
        "            i='C'\n",
        "            c+=i\n",
        "    print(c)       \n"
      ],
      "metadata": {
        "id": "D3oZh9_mJblE"
      },
      "execution_count": null,
      "outputs": []
    },
    {
      "cell_type": "markdown",
      "source": [
        "# Problem Code:\n",
        "CHANGEPOS\n",
        "# Problem\n",
        "There is a 10 \\times 1010×10 grid with rows numbered 11 to 1010 from top to bottom, and columns 11 to 1010 from left to right. Each cell is identified by a pair (r, c)(r, c) which means that the cell is located at row rr and column cc.\n",
        "\n",
        "If Chef's current location is (a,b)(a,b), then in one move Chef can go to (c,d)(c,d) if both of the following are satisfied:\n",
        "\n",
        "a \\neq ca=c\n",
        "b \\neq db=d\n",
        "Determine the minimum number of moves required to go from (s_x, s_y)(s \n",
        "x\n",
        "​\n",
        " ,s \n",
        "y\n",
        "​\n",
        " ) to (e_x, e_y)(e \n",
        "x\n",
        "​\n",
        " ,e \n",
        "y\n",
        "​\n",
        " )."
      ],
      "metadata": {
        "id": "47C64L9HHEZ0"
      }
    },
    {
      "cell_type": "code",
      "source": [
        "# cook your dish here\n",
        "t = int(input())\n",
        "for _ in range(t):\n",
        "    a,b,c,d = map(int,input().split())\n",
        "    if a!=c and b != d:\n",
        "        print(\"1\")\n",
        "    else:\n",
        "        print(\"2\")\n",
        "        "
      ],
      "metadata": {
        "id": "FFQlBj_AHE1A"
      },
      "execution_count": null,
      "outputs": []
    },
    {
      "cell_type": "markdown",
      "source": [
        "# Problem Code:\n",
        "CHEFBOTTLE\n",
        "# Problem\n",
        "Chef has NN empty bottles where each bottle has a capacity of XX litres.\n",
        "There is a water tank in Chefland having KK litres of water. Chef wants to fill the empty bottles using the water in the tank.\n",
        "\n",
        "Assuming that Chef does not spill any water while filling the bottles, find out the maximum number of bottles Chef can fill completely."
      ],
      "metadata": {
        "id": "qqM4TsceJOFI"
      }
    },
    {
      "cell_type": "code",
      "source": [
        "# cook your dish here\n",
        "for _ in range(int(input())):\n",
        "    n,x,k = map(int,input().split())\n",
        "    d = k//x \n",
        "    if d<n:\n",
        "        print(d)\n",
        "    else:\n",
        "        print(n)\n",
        "    "
      ],
      "metadata": {
        "id": "umvwGRcyJLyX"
      },
      "execution_count": null,
      "outputs": []
    },
    {
      "cell_type": "markdown",
      "source": [
        "# Problem Code:\n",
        "TSORT\n",
        "\n",
        "# Problem\n",
        "Given the list of numbers, you are to sort them in non decreasing order."
      ],
      "metadata": {
        "id": "pn37GWBlJkAJ"
      }
    },
    {
      "cell_type": "code",
      "source": [
        "lis=[]\n",
        "t=int(input())\n",
        "while t>0:\n",
        "    n=int(input())\n",
        "    lis.append(n)\n",
        "    t-=1\n",
        "lis.sort()\n",
        "for i in range(0,len(lis)):\n",
        "    print(lis[i])"
      ],
      "metadata": {
        "id": "MU6Xx08zJka9"
      },
      "execution_count": null,
      "outputs": []
    },
    {
      "cell_type": "markdown",
      "source": [
        "# Problem Code:\n",
        "CANDYDIST\n",
        "# Problem\n",
        "Chef has NN candies. He has to distribute them to exactly MM of his friends such that each friend gets equal number of candies and each friend gets even number of candies. Determine whether it is possible to do so.\n",
        "\n",
        "NOTE: Chef will not take any candies himself and will distribute all the candies."
      ],
      "metadata": {
        "id": "yoQSVNZJKgmp"
      }
    },
    {
      "cell_type": "code",
      "source": [
        "# cook your dish here\n",
        "for _ in range(int(input())):\n",
        "    n,m = map(int,input().split())\n",
        "    d = n/m \n",
        "    if d%2== 0 :\n",
        "        print(\"YES\")\n",
        "    else:\n",
        "        print(\"NO\")"
      ],
      "metadata": {
        "id": "TMIJ8lSrKeP0"
      },
      "execution_count": null,
      "outputs": []
    },
    {
      "cell_type": "markdown",
      "source": [
        "# Problem Code:\n",
        "FSQRT\n",
        "# Problem\n",
        " \n",
        "\n",
        "In olden days finding square roots seemed to be difficult but nowadays it can be easily done using in-built functions available across many languages .\n",
        "\n",
        "Assume that you happen to hear the above words and you want to give a try in finding the square root of any given integer using in-built functions. So here's your chance."
      ],
      "metadata": {
        "id": "VrGqbKbJKwtn"
      }
    },
    {
      "cell_type": "code",
      "source": [
        "import math\n",
        "t=int(input())\n",
        "for i in range(t):\n",
        "\tn=int(input())\n",
        "\tprint(int(math.sqrt(n)))"
      ],
      "metadata": {
        "id": "bq20IPyRKtyl"
      },
      "execution_count": null,
      "outputs": []
    },
    {
      "cell_type": "markdown",
      "source": [
        "# Problem Code:\n",
        "HIGHSCORE\n",
        "# Problem\n",
        "Chef is taking a tough examination. The question paper consists of NN objective problems and each problem has 44 options A, B, C,A,B,C, and DD, out of which, exactly one option is correct.\n",
        "\n",
        "Since Chef did not study for the exam, he does not know the answer to any of the problems. Chef was looking nearby for help when his friend somehow communicated the following information:\n",
        "\n",
        "Exactly N_AN \n",
        "A\n",
        "​\n",
        "  problems have option AA as the answer.\n",
        "Exactly N_BN \n",
        "B\n",
        "​\n",
        "  problems have option BB as the answer.\n",
        "Exactly N_CN \n",
        "C\n",
        "​\n",
        "  problems have option CC as the answer.\n",
        "Exactly N_DN \n",
        "D\n",
        "​\n",
        "  problems have option DD as the answer."
      ],
      "metadata": {
        "id": "B8k9VcTlNRz6"
      }
    },
    {
      "cell_type": "code",
      "source": [
        "# cook your dish here\n",
        "for i in range(int(input())):\n",
        "    n = int(input())\n",
        "    a,b,c,d = map(int,input().split())\n",
        "    if (a>b and a>c and a>d):\n",
        "        print(a)\n",
        "    elif b>c and b>d:\n",
        "        print(b)\n",
        "    elif c>d:\n",
        "        print(c)\n",
        "    else:\n",
        "        print(d)"
      ],
      "metadata": {
        "id": "0LW9lQewM6GO"
      },
      "execution_count": null,
      "outputs": []
    },
    {
      "cell_type": "markdown",
      "source": [
        "# Problem Code:\n",
        "LASTLEVELS\n",
        "# Problem\n",
        "Chef is playing a videogame, and is getting close to the end. He decides to finish the rest of the game in a single session.\n",
        "\n",
        "There are XX levels remaining in the game, and each level takes Chef YY minutes to complete. To protect against eye strain, Chef also decides that every time he completes 33 levels, he will take a ZZ minute break from playing. Note that there is no need to take this break if the game has been completed.\n",
        "\n",
        "How much time (in minutes) will it take Chef to complete the game?"
      ],
      "metadata": {
        "id": "OcqQ7v9hQshB"
      }
    },
    {
      "cell_type": "code",
      "source": [
        "# cook your dish here\n",
        "t = int(input())\n",
        "for i in range(t):\n",
        "    x,y,z = map(int,input().split())\n",
        "    d = x //3\n",
        "    if x%3 != 0 :\n",
        "        print((x*y)+d*z)\n",
        "    else:\n",
        "        print((x*y)+(d-1)*z)"
      ],
      "metadata": {
        "id": "_JG-Ib2mQpbF"
      },
      "execution_count": null,
      "outputs": []
    },
    {
      "cell_type": "markdown",
      "source": [
        "# Problem Code:\n",
        "FILLCANDIES\n",
        "# Problem\n",
        "Chef received NN candies on his birthday. He wants to put these candies in some bags. A bag has KK pockets and each pocket can hold at most MM candies. Find the minimum number of bags Chef needs so that he can put every candy into a bag."
      ],
      "metadata": {
        "id": "Yfsj_rIGmhnX"
      }
    },
    {
      "cell_type": "code",
      "source": [
        "# cook your dish here\n",
        "for _ in range(int(input())):\n",
        "    n,k,m = map(int,input().split())\n",
        "    if n%(k*m)==0:\n",
        "        print(n//(k*m))\n",
        "    else:\n",
        "        print(n//(k*m)+1)\n",
        "    \n"
      ],
      "metadata": {
        "id": "79Up12uAmg44"
      },
      "execution_count": null,
      "outputs": []
    },
    {
      "cell_type": "markdown",
      "source": [
        "# Problem Code:\n",
        "BLACKJACK\n",
        "# Problem\n",
        "Chef is playing a variant of Blackjack, where 33 numbers are drawn and each number lies between 11 and 1010 (with both 11 and 1010 inclusive). Chef wins the game when the sum of these 33 numbers is exactly 2121.\n",
        "\n",
        "Given the first two numbers AA and BB, that have been drawn by Chef, what should be 33-rd number that should be drawn by the Chef in order to win the game?\n",
        "\n",
        "Note that it is possible that Chef cannot win the game, no matter what is the 33-rd number. In such cases, report -1−1 as the answer."
      ],
      "metadata": {
        "id": "W0lbZYbDoGUl"
      }
    },
    {
      "cell_type": "code",
      "source": [
        "# cook your dish here\n",
        "for _ in range(int(input())):\n",
        "    a, b = map(int,input().split())\n",
        "    if a+b > 10:\n",
        "        print(21-(a+b))\n",
        "    else:\n",
        "        print(\"-1\")"
      ],
      "metadata": {
        "id": "siwUnHleoD1P"
      },
      "execution_count": null,
      "outputs": []
    },
    {
      "cell_type": "markdown",
      "source": [
        "# Problem Code:\n",
        "CHESSDIST\n",
        "# Problem\n",
        "The Chessboard Distance for any two points (X_1, Y_1)(X \n",
        "1\n",
        "​\n",
        " ,Y \n",
        "1\n",
        "​\n",
        " ) and (X_2, Y_2)(X \n",
        "2\n",
        "​\n",
        " ,Y \n",
        "2\n",
        "​\n",
        " ) on a Cartesian plane is defined as max(|X_1 - X_2|, |Y_1 - Y_2|)max(∣X \n",
        "1\n",
        "​\n",
        " −X \n",
        "2\n",
        "​\n",
        " ∣,∣Y \n",
        "1\n",
        "​\n",
        " −Y \n",
        "2\n",
        "​\n",
        " ∣).\n",
        "\n",
        "You are given two points (X_1, Y_1)(X \n",
        "1\n",
        "​\n",
        " ,Y \n",
        "1\n",
        "​\n",
        " ) and (X_2, Y_2)(X \n",
        "2\n",
        "​\n",
        " ,Y \n",
        "2\n",
        "​\n",
        " ). Output their Chessboard Distance.\n",
        "\n",
        "Note that, |P|∣P∣ denotes the absolute value of integer PP. For example, |-4| = 4∣−4∣=4 and |7| = 7∣7∣=7."
      ],
      "metadata": {
        "id": "Qk7lSminqD-O"
      }
    },
    {
      "cell_type": "code",
      "source": [
        "# cook your dish here\n",
        "for _ in range(int(input())):\n",
        "    a,b,c,d = map(int,input().split())\n",
        "    e = a-c\n",
        "    f = b-d\n",
        "    print(max(abs(e),abs(f)))"
      ],
      "metadata": {
        "id": "x62cQMH1qBPv"
      },
      "execution_count": null,
      "outputs": []
    },
    {
      "cell_type": "markdown",
      "source": [
        "# Problem Code:\n",
        "VALENTINE\n",
        "# Problem\n",
        "Valentine's Day is approaching and thus Chef wants to buy some chocolates for someone special.\n",
        "\n",
        "Chef has a total of XX rupees and one chocolate costs YY rupees. What is the maximum number of chocolates Chef can buy?\n",
        "\n"
      ],
      "metadata": {
        "id": "J0sdIcYJrCLO"
      }
    },
    {
      "cell_type": "code",
      "source": [
        "# cook your dish here\n",
        "for _ in range(int(input())):\n",
        "    x,y = map(int,input().split())\n",
        "    if x< y:\n",
        "        print(0)\n",
        "    else:\n",
        "        print(x//y)"
      ],
      "metadata": {
        "id": "I1qL3vBvq_Kf"
      },
      "execution_count": null,
      "outputs": []
    },
    {
      "cell_type": "markdown",
      "source": [
        "# Problem Code:\n",
        "MYSERVE\n",
        "# Problem\n",
        "Alice and Bob are playing a game of table tennis where irrespective of the point scored, every player makes 22 consecutive serves before the service changes. Alice makes the first serve of the match. Therefore the first 22 serves will be made by Alice, then the next 22 serves will be made by Bob and so on."
      ],
      "metadata": {
        "id": "2FAHh6mfvcq_"
      }
    },
    {
      "cell_type": "code",
      "source": [
        "# cook your dish here\n",
        "for _ in range(int(input())):\n",
        "    p,q = map(int,input().split())\n",
        "    if (int((p+q)/2))%2==1:\n",
        "        print(\"BOB\")\n",
        "    else:\n",
        "        print(\"ALICE\")"
      ],
      "metadata": {
        "id": "jd30P-9qvaJP"
      },
      "execution_count": null,
      "outputs": []
    },
    {
      "cell_type": "markdown",
      "source": [
        "# Problem Code:\n",
        "WGHTS\n",
        "# Problem\n",
        "Chef is playing with weights. He has an object weighing WW units. He also has three weights each of X, Y,X,Y, and ZZ units respectively. Help him determine whether he can measure the exact weight of the object with one or more of these weights.\n",
        "\n",
        "If it is possible to measure the weight of object with one or more of these weights, print YES, otherwise print NO."
      ],
      "metadata": {
        "id": "w9Vl56Lsxv92"
      }
    },
    {
      "cell_type": "code",
      "source": [
        "# cook your dish here\n",
        "for _ in range(int(input())):\n",
        "    w,a,b,c = map(int,input().split())\n",
        "    if w==a or w==b or w==c:\n",
        "        print(\"YES\")\n",
        "    elif a+b == w or a+c==w or b+c==w or a+b+c==w: \n",
        "        print(\"YES\")\n",
        "    \n",
        "    else:\n",
        "        print(\"NO\")"
      ],
      "metadata": {
        "id": "2QlQtKhJxX9A"
      },
      "execution_count": null,
      "outputs": []
    }
  ]
}