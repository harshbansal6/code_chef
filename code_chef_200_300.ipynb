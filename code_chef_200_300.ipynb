{
  "nbformat": 4,
  "nbformat_minor": 0,
  "metadata": {
    "colab": {
      "provenance": [],
      "collapsed_sections": [],
      "authorship_tag": "ABX9TyOd19pB1lg/MfQbYSQFkL16"
    },
    "kernelspec": {
      "name": "python3",
      "display_name": "Python 3"
    },
    "language_info": {
      "name": "python"
    }
  },
  "cells": [
    {
      "cell_type": "markdown",
      "source": [
        "# chefCode\n",
        "# difficulty - 200 to 400\n"
      ],
      "metadata": {
        "id": "EzD3GymgzT1d"
      }
    },
    {
      "cell_type": "markdown",
      "source": [
        "# Integers that sum to the same value\n",
        "Alice has a positive integer NN. She is wondering how many ordered pairs of positive integers (i, j)(i,j) exist such that i + j = Ni+j=N"
      ],
      "metadata": {
        "id": "yB1ZcIfDzXjw"
      }
    },
    {
      "cell_type": "code",
      "execution_count": null,
      "metadata": {
        "id": "TG4_WZ9qzSvb"
      },
      "outputs": [],
      "source": [
        "n = int(input())\n",
        "count = 0\n",
        "for i in range(1,n):\n",
        "  for j in range(1,n):\n",
        "    if (i+j)==n:\n",
        "      count+=1\n",
        "\n",
        "print(count)\n",
        "\n"
      ]
    },
    {
      "cell_type": "markdown",
      "source": [
        "# alternate solution\n"
      ],
      "metadata": {
        "id": "HhmHV-U30Hsg"
      }
    },
    {
      "cell_type": "code",
      "source": [
        "n=int(input())\n",
        "if n==0 and n==1:\n",
        "    print(\"0\")\n",
        "else:\n",
        "    print(n-1)"
      ],
      "metadata": {
        "id": "7lnUbzVNz6ln"
      },
      "execution_count": null,
      "outputs": []
    },
    {
      "cell_type": "markdown",
      "source": [
        "# Non-Negative Product\n",
        "Problem Code:\n",
        "NONNEGPROD\n"
      ],
      "metadata": {
        "id": "ebfkEWDZ0OQ_"
      }
    },
    {
      "cell_type": "markdown",
      "source": [
        "# Problem\n",
        "Alice has an array of NN integers — A_1, A_2, \\ldots, A_NA \n",
        "1\n",
        "​\n",
        " ,A \n",
        "2\n",
        "​\n",
        " ,…,A \n",
        "N\n",
        "​\n",
        " . She wants the product of all the elements of the array to be a non-negative integer. That is, it can be either 00 or positive. But she doesn't want it to be negative.\n",
        "\n",
        "To do this, she is willing to remove some elements of the array. Determine the minimum number of elements that she will have to remove to make the product of the array's elements non-negative."
      ],
      "metadata": {
        "id": "TRxKr-NP3Qr1"
      }
    },
    {
      "cell_type": "code",
      "source": [
        "# cook your dish here\n",
        "t = int(input())\n",
        "for i in range(t):\n",
        "    n = int(input())\n",
        "    a= list(map(int,input().split()))\n",
        "    s =1 \n",
        "    for j in a:\n",
        "        s *= j \n",
        "    if (s<0):\n",
        "        print(\"1\")\n",
        "    else:\n",
        "        print(\"0\")"
      ],
      "metadata": {
        "id": "GUuC__Ph0Mat"
      },
      "execution_count": null,
      "outputs": []
    },
    {
      "cell_type": "markdown",
      "source": [
        "# Age Limit\n",
        "Problem Code:\n",
        "AGELIMIT\n"
      ],
      "metadata": {
        "id": "iclmKuLd5sf6"
      }
    },
    {
      "cell_type": "markdown",
      "source": [
        "# Problem\n",
        "Chef wants to appear in a competitive exam. To take the exam, there are following requirements:\n",
        "\n",
        "Minimum age limit is XX (i.e. Age should be greater than or equal to XX).\n",
        "Age should be strictly less than YY.\n",
        "Chef's current Age is AA. Find whether he is currently eligible to take the exam or not."
      ],
      "metadata": {
        "id": "zax2xXxg-y-G"
      }
    },
    {
      "cell_type": "code",
      "source": [
        "t = int(input())\n",
        "for i in range(t):\n",
        "    (x,y,a) = map(int,input().split())\n",
        "    if(a>=x) and (a<y):\n",
        "        print(\"YES\")\n",
        "    else:\n",
        "        print(\"NO\")\n"
      ],
      "metadata": {
        "id": "YNys1g3o3sAI"
      },
      "execution_count": null,
      "outputs": []
    },
    {
      "cell_type": "markdown",
      "source": [
        "# Fitness\n",
        "Problem Code:\n",
        "FIT"
      ],
      "metadata": {
        "id": "9I1D7rjICT5d"
      }
    },
    {
      "cell_type": "markdown",
      "source": [
        "# Problem\n",
        "Chef wants to become fit for which he decided to walk to the office and return home by walking. It is known that Chef's office is XX km away from his home.\n",
        "\n",
        "If his office is open on 55 days in a week, find the number of kilometers Chef travels through office trips in a week."
      ],
      "metadata": {
        "id": "fJojNa1sCaN4"
      }
    },
    {
      "cell_type": "code",
      "source": [
        "# cook your dish here\n",
        "n = int(input())\n",
        "for i in range(n):\n",
        "    x = int(input())\n",
        "    print(x*10)\n",
        "    \n"
      ],
      "metadata": {
        "id": "5dV3rS31-4T9"
      },
      "execution_count": null,
      "outputs": []
    },
    {
      "cell_type": "markdown",
      "source": [
        "# Chef On Date\n",
        "Problem Code:\n",
        "CHEFONDATE"
      ],
      "metadata": {
        "id": "PKPi-2vaEKMe"
      }
    },
    {
      "cell_type": "markdown",
      "source": [
        "# Problem\n",
        "Chef and his girlfriend go on a date. Chef took XX dollars with him, and was quite sure that this would be enough to pay the bill. At the end, the waiter brought a bill of YY dollars. Print \"YES\" if Chef has enough money to pay the bill, or \"NO\" if he has to borrow from his girlfriend and leave a bad impression on her."
      ],
      "metadata": {
        "id": "kWx0LvZ0EJln"
      }
    },
    {
      "cell_type": "code",
      "source": [
        "# cook your dish here\n",
        "t = int(input())\n",
        "for i in range(t):\n",
        "    x,y = map(int,input().split())\n",
        "    if x>=y:\n",
        "        print(\"YES\")\n",
        "    else:\n",
        "        print(\"NO\")"
      ],
      "metadata": {
        "id": "nhpt0wM0EWE7"
      },
      "execution_count": null,
      "outputs": []
    },
    {
      "cell_type": "markdown",
      "source": [
        "# Total Prize Money\n",
        "Problem Code:\n",
        "PRIZEPOOL"
      ],
      "metadata": {
        "id": "_fpMgmPTGjdM"
      }
    },
    {
      "cell_type": "markdown",
      "source": [
        "# Problem\n",
        "In a coding contest, there are prizes for the top rankers. The prize scheme is as follows:\n",
        "\n",
        "Top 1010 participants receive rupees XX each.\n",
        "Participants with rank 1111 to 100100 (both inclusive) receive rupees YY each.\n",
        "Find the total prize money over all the contestants."
      ],
      "metadata": {
        "id": "Z_2TZP6uGf6O"
      }
    },
    {
      "cell_type": "code",
      "source": [
        "# cook your dish here\n",
        "t = int(input())\n",
        "for i in range(t):\n",
        "    x,y = map(int,input().split())\n",
        "    print((x*10)+(90*y))\n",
        "    "
      ],
      "metadata": {
        "id": "N8m_Tj0PEfcY"
      },
      "execution_count": null,
      "outputs": []
    },
    {
      "cell_type": "markdown",
      "source": [
        "# Counting Words\n",
        "Problem Code:\n",
        "CNTWRD"
      ],
      "metadata": {
        "id": "wRFO3JgvH84Y"
      }
    },
    {
      "cell_type": "markdown",
      "source": [
        "# Problem\n",
        "Harsh was recently gifted a book consisting of NN pages. Each page contains exactly MM words printed on it. As he was bored, he decided to count the number of words in the book.\n",
        "\n",
        "Help Harsh find the total number of words in the book."
      ],
      "metadata": {
        "id": "OXzm-pQbH5G4"
      }
    },
    {
      "cell_type": "markdown",
      "source": [
        "# Biryani classes\n",
        "Problem Code:\n",
        "BIRYANI\n",
        "# Problem\n",
        "According to a recent survey, Biryani is the most ordered food. Chef wants to learn how to make world-class Biryani from a MasterChef. Chef will be required to attend the MasterChef's classes for XX weeks, and the cost of classes per week is YY coins. What is the total amount of money that Chef will have to pay?"
      ],
      "metadata": {
        "id": "NHihIvIhIjVo"
      }
    },
    {
      "cell_type": "code",
      "source": [
        "# cook your dish here\n",
        "t = int(input())\n",
        "for i in range(t):\n",
        "    n,m = map(int,input().split())\n",
        "    print(n*m)"
      ],
      "metadata": {
        "id": "FFuSauicH_b2"
      },
      "execution_count": null,
      "outputs": []
    },
    {
      "cell_type": "markdown",
      "source": [
        "# Burgers\n",
        "Problem Code:\n",
        "BURGERS"
      ],
      "metadata": {
        "id": "qkR7wpM3JmYb"
      }
    },
    {
      "cell_type": "markdown",
      "source": [
        "# Problem\n",
        "Chef is fond of burgers and decided to make as many burgers as possible.\n",
        "\n",
        "Chef has AA patties and BB buns. To make 11 burger, Chef needs 11 patty and 11 bun.\n",
        "Find the maximum number of burgers that Chef can make."
      ],
      "metadata": {
        "id": "u3t4Dn5PJq35"
      }
    },
    {
      "cell_type": "code",
      "source": [
        "# cook your dish here\n",
        "t = int(input())\n",
        "for i in range(t):\n",
        "    a,b = map(int,input().split())\n",
        "    if a<b:\n",
        "        print(a)\n",
        "    else:\n",
        "        print(b)"
      ],
      "metadata": {
        "id": "EULwNZP4ICsN"
      },
      "execution_count": null,
      "outputs": []
    },
    {
      "cell_type": "markdown",
      "source": [],
      "metadata": {
        "id": "8IKzLTeyJtrz"
      }
    },
    {
      "cell_type": "markdown",
      "source": [
        "# Our Chef is currently practicing on CodeChef and is a beginner. The count of ‘All Problems’ in the Beginner section is XX. Our Chef has already ‘Attempted’ YY problems among them. How many problems are yet ‘Un-attempted’?"
      ],
      "metadata": {
        "id": "LSuf8HpwJtdO"
      }
    },
    {
      "cell_type": "code",
      "source": [
        "# cook your dish here\n",
        "x,y = map(int,input().split())\n",
        "print(x-y)"
      ],
      "metadata": {
        "id": "ZpDOps-hJtBX"
      },
      "execution_count": null,
      "outputs": []
    },
    {
      "cell_type": "markdown",
      "source": [
        "# Determine the Score\n",
        "Problem Code:\n",
        "DETSCORE\n",
        "# Problem\n",
        "Chef appeared for a placement test.\n",
        "\n",
        "There is a problem worth XX points. Chef finds out that the problem has exactly 1010 test cases. It is known that each test case is worth the same number of points.\n",
        "\n",
        "Chef passes NN test cases among them. Determine the score Chef will get."
      ],
      "metadata": {
        "id": "ZQ9a-U-kLthV"
      }
    },
    {
      "cell_type": "code",
      "source": [
        "# cook your dish here\n",
        "t = int(input())\n",
        "for i in range(t):\n",
        "    x,y = map(int,input().split())\n",
        "    print((x//10)*y)"
      ],
      "metadata": {
        "id": "tpPy1watLsvn"
      },
      "execution_count": null,
      "outputs": []
    },
    {
      "cell_type": "markdown",
      "source": [
        "# Who is taller!\n",
        "Problem Code:\n",
        "TALLER"
      ],
      "metadata": {
        "id": "xruXDMe3MwXh"
      }
    },
    {
      "cell_type": "markdown",
      "source": [
        "# Problem\n",
        "Alice and Bob were having an argument about which of them is taller than the other. Charlie got irritated by the argument, and decided to settle the matter once and for all.\n",
        "\n",
        "Charlie measured the heights of Alice and Bob, and got to know that Alice's height is XX centimeters and Bob's height is YY centimeters. Help Charlie decide who is taller.\n",
        "\n",
        "It is guaranteed that X \\neq YX=Y."
      ],
      "metadata": {
        "id": "ijDbsB-6Mrhk"
      }
    },
    {
      "cell_type": "code",
      "source": [
        "# cook your dish here\n",
        "t = int(input())\n",
        "for i in range(t):\n",
        "    x,y =  map(int,input().split())\n",
        "    if x<y:\n",
        "        print(\"B\")\n",
        "    else:\n",
        "        print(\"A\")"
      ],
      "metadata": {
        "id": "YGvMC1T_L9uk"
      },
      "execution_count": null,
      "outputs": []
    },
    {
      "cell_type": "markdown",
      "source": [
        "# My very 1st contest!\n",
        "Problem Code:\n",
        "MY1STCONTEST\n",
        "In a contest where NN new users visited the contest,\n",
        "\n",
        "AA users just saw the problems and didn’t make any submissions and hence won’t get any rating.\n",
        "BB users who made a submission but could not solve any problem correctly. Thus, after the contest, they will get a rating in the range 800 - 1000.\n",
        "\n",
        "Everyone else could correctly solve at least 11 problem. Thus, they will get a rating strictly greater than 10001000 after the contest.\n",
        "You need to output the number of new users in the contest who, after the contest, will get a rating and also the number of new users who will get a rating strictly greater than 10001000."
      ],
      "metadata": {
        "id": "hNRl1El-OTEM"
      }
    },
    {
      "cell_type": "code",
      "source": [
        "# cook your dish here\n",
        "n,a,b = map(int,input().split())\n",
        "d = n-a\n",
        "e = d-b\n",
        "print(d,e)"
      ],
      "metadata": {
        "id": "MqNWMRwiM0Zw"
      },
      "execution_count": null,
      "outputs": []
    },
    {
      "cell_type": "markdown",
      "source": [
        "# Problem\n",
        "Chef took an examination two times. In the first attempt, he scored XX marks while in the second attempt he scored YY marks. According to the rules of the examination, the best score out of the two attempts will be considered as the final score.\n",
        "\n",
        "Determine the final score of the Chef."
      ],
      "metadata": {
        "id": "5bOYBUBlPD-l"
      }
    },
    {
      "cell_type": "code",
      "source": [
        "# cook your dish here\n",
        "''' Problem\n",
        "Chef took an examination two times. In the first attempt, he scored XX marks while in the second attempt he scored Y marks. According to the rules of the examination, the best score out of the two attempts will be considered as the final score.\n",
        "\n",
        "Determine the final score of the Chef.'''\n",
        "\n",
        "t = int(input())\n",
        "for i in range(t):\n",
        "    x , y =map(int,input().split())\n",
        "    if x<y:\n",
        "        print(y)\n",
        "    else:\n",
        "        print(x)"
      ],
      "metadata": {
        "id": "HiIaAjujM0Kx"
      },
      "execution_count": null,
      "outputs": []
    },
    {
      "cell_type": "markdown",
      "source": [
        "# Roller Coaster\n",
        "Problem Code:\n",
        "MINHEIGHT\n",
        "# Problem\n",
        "Chef's son wants to go on a roller coaster ride. The height of Chef's son is XX inches while the minimum height required to go on the ride is HH inches. Determine whether he can go on the ride or not."
      ],
      "metadata": {
        "id": "U05belhGPz4g"
      }
    },
    {
      "cell_type": "code",
      "source": [
        "# cook your dish here\n",
        "t = int(input())\n",
        "for i in range(t):\n",
        "    x,h = map(int,input().split())\n",
        "    if x<h:\n",
        "        print(\"No\")\n",
        "    else:\n",
        "        print(\"YES\")"
      ],
      "metadata": {
        "id": "U4fIGlmtMz7B"
      },
      "execution_count": null,
      "outputs": []
    },
    {
      "cell_type": "markdown",
      "source": [
        "# Chef and Brain Speed\n",
        "Problem Code:\n",
        "CBSPEED"
      ],
      "metadata": {
        "id": "k_VBsPtTRJK2"
      }
    },
    {
      "cell_type": "markdown",
      "source": [
        "# Problem\n",
        "In ChefLand, human brain speed is measured in bits per second (bps). Chef has a threshold limit of XX bits per second above which his calculations are prone to errors. If Chef is currently working at YY bits per second, is he prone to errors?\n",
        "\n",
        "If Chef is prone to errors print YES, otherwise print NO."
      ],
      "metadata": {
        "id": "vq46Qx6IRPl8"
      }
    },
    {
      "cell_type": "code",
      "source": [
        "# cook your dish here\n",
        "x,y = map(int,input().split())\n",
        "if x < y :\n",
        "    print(\"YES\")\n",
        "else:\n",
        "    print(\"NO\")"
      ],
      "metadata": {
        "id": "2IUMpgNmRKHU"
      },
      "execution_count": null,
      "outputs": []
    },
    {
      "cell_type": "markdown",
      "source": [
        "# Sleep deprivation\n",
        "Problem Code:\n",
        "SLEEP"
      ],
      "metadata": {
        "id": "uuuKGTtYS5-b"
      }
    },
    {
      "cell_type": "markdown",
      "source": [
        "# Problem\n",
        "A person is said to be sleep deprived if he slept strictly less than 77 hours in a day.\n",
        "\n",
        "Chef was only able to sleep XX hours yesterday. Determine if he is sleep deprived or not."
      ],
      "metadata": {
        "id": "R_UJTlaRTB2f"
      }
    },
    {
      "cell_type": "code",
      "source": [
        "# cook your dish here\n",
        "t = int(input())\n",
        "for i in range(t):\n",
        "    x = int(input())\n",
        "    if x<7:\n",
        "        print(\"YES\")\n",
        "    else:\n",
        "        print(\"NO\")"
      ],
      "metadata": {
        "id": "Eb7PmK4KS6op"
      },
      "execution_count": null,
      "outputs": []
    },
    {
      "cell_type": "markdown",
      "source": [
        "# Chairs Requirement\n",
        "Problem Code:\n",
        "CHAIRS_\n"
      ],
      "metadata": {
        "id": "etXU6n0xaYWu"
      }
    },
    {
      "cell_type": "markdown",
      "source": [
        "# Problem\n",
        "Chef's coding class is very famous in Chefland.\n",
        "\n",
        "This year XX students joined his class and each student will require one chair to sit on. Chef already has YY chairs in his class. Determine the minimum number of new chairs Chef must buy so that every student is able to get one chair to sit on."
      ],
      "metadata": {
        "id": "_vSg5YSrTE8c"
      }
    },
    {
      "cell_type": "code",
      "source": [
        "# cook your dish here\n",
        "t = int(input())\n",
        "for i in range(t):\n",
        "    x,y = map(int,input().split())\n",
        "    \n",
        "    if (y<x):\n",
        "        print(x-y)\n",
        "    else:\n",
        "        print(0)"
      ],
      "metadata": {
        "id": "8G7LRW7QaRVb"
      },
      "execution_count": null,
      "outputs": []
    },
    {
      "cell_type": "markdown",
      "source": [
        "# Second Max of Three Numbers\n",
        "Problem Code:\n",
        "SNDMAX\n",
        "\n",
        "# Problem Statement\n",
        "Write a program that accepts sets of three numbers, and prints the second-maximum number among the three."
      ],
      "metadata": {
        "id": "g27lpaODbR3b"
      }
    },
    {
      "cell_type": "code",
      "source": [
        "# cook your dish here\n",
        "t = int(input())\n",
        "for i in range(t):\n",
        "    a,b,c = map(int,input().split())\n",
        "    l = [a,b,c]\n",
        "    l.sort()\n",
        "    print(l[1])"
      ],
      "metadata": {
        "id": "qc_t3_PcbScB"
      },
      "execution_count": null,
      "outputs": []
    },
    {
      "cell_type": "markdown",
      "source": [
        "# Number of Credits\n",
        "Problem Code:\n",
        "CREDS\n",
        "\n",
        "# Problem\n",
        "In the current semester, you have taken XX RTP courses, YY Audit courses and ZZ Non-RTP courses.\n",
        "\n",
        "The credit distribution for the courses are:\n",
        "\n",
        "44 credits for clearing each RTP course.\n",
        "22 credits for clearing each Audit course.\n",
        "No credits for clearing a Non-RTP course.\n",
        "Assuming that you cleared all your courses, report the number of credits you obtain this semester."
      ],
      "metadata": {
        "id": "TimmnvXkdFPJ"
      }
    },
    {
      "cell_type": "code",
      "source": [
        "# cook your dish here\n",
        "t = int(input())\n",
        "for i in range(t):\n",
        "    x,y,z = map(int,input().split())\n",
        "    print(x*4 + y*2 + z*0)"
      ],
      "metadata": {
        "id": "sH1q0oZXc_C2"
      },
      "execution_count": null,
      "outputs": []
    },
    {
      "cell_type": "markdown",
      "source": [
        "# Get Subscription\n",
        "Problem Code:\n",
        "SUBSCRIBE\n",
        "# Problem\n",
        "Chef wants to conduct a lecture for which he needs to set up an online meeting of exactly XX minutes.\n",
        "\n",
        "The meeting platform supports a meeting of maximum 3030 minutes without subscription and a meeting of unlimited duration with subscription.\n",
        "\n",
        "Determine whether Chef needs to take a subscription or not for setting up the meet."
      ],
      "metadata": {
        "id": "RnsCNhBGc-yR"
      }
    },
    {
      "cell_type": "code",
      "source": [
        "# cook your dish here\n",
        "t = int(input())\n",
        "for i in range(t):\n",
        "    x = int(input())\n",
        "    if (x<=30):\n",
        "        print(\"NO\")\n",
        "    else:\n",
        "        print(\"YES\")"
      ],
      "metadata": {
        "id": "0OfqAKaud6pP"
      },
      "execution_count": null,
      "outputs": []
    },
    {
      "cell_type": "markdown",
      "source": [
        "# Enough Space\n",
        "Problem Code:\n",
        "ENSPACE\n",
        "# Problem\n",
        "Chef's computer has NN GB of free space. He wants to save XX files, each of size 1 GB and YY files, each of size 2 GB on his computer. Will he be able to do so?\n",
        "\n",
        "Chef can save all the files on his computer only if the total size of the files is less than or equal to the space available on his computer."
      ],
      "metadata": {
        "id": "5SyzGjxpfETO"
      }
    },
    {
      "cell_type": "code",
      "source": [
        "# cook your dish here\n",
        "t = int(input())\n",
        "for i in range(t):\n",
        "    n,x,y = map(int,input().split())\n",
        "    if (x*1 + y*2 ) > n:\n",
        "        print(\"NO\")\n",
        "    else:\n",
        "        print(\"YES\")"
      ],
      "metadata": {
        "id": "f_pN8EsGfDJc"
      },
      "execution_count": null,
      "outputs": []
    },
    {
      "cell_type": "markdown",
      "source": [
        "# Waiting Time\n",
        "Problem Code:\n",
        "WAITTIME\n",
        "# Problem\n",
        "Chef is eagerly waiting for a piece of information. His secret agent told him that this information would be revealed to him after KK weeks.\n",
        "\n",
        "XX days have already passed and Chef is getting restless now. Find the number of remaining days Chef has to wait for, to get the information.\n",
        "\n",
        "It is guaranteed that the information has not been revealed to the Chef yet."
      ],
      "metadata": {
        "id": "zraPkLJofPEl"
      }
    },
    {
      "cell_type": "code",
      "source": [
        "# cook your dish here\n",
        "t = int(input())\n",
        "for i in range(t):\n",
        "    k,x = map(int,input().split())\n",
        "    print((k*7) - x)"
      ],
      "metadata": {
        "id": "ab505XsCfPqV"
      },
      "execution_count": null,
      "outputs": []
    },
    {
      "cell_type": "markdown",
      "source": [
        "# Equal Distribution\n",
        "Problem Code:\n",
        "EQUALDIST\n",
        "\n",
        "# Problem\n",
        "Alice and Bob are very good friends and they always distribute all the eatables equally among themselves.\n",
        "\n",
        "Alice has AA chocolates and Bob has BB chocolates. Determine whether Alice and Bob can distribute all the chocolates equally among themselves.\n",
        "\n",
        "Note that:\n",
        "\n",
        "It is not allowed to break a chocolate into more than one piece.\n",
        "No chocolate shall be left in the distribution."
      ],
      "metadata": {
        "id": "hyyYb9rZgSl4"
      }
    },
    {
      "cell_type": "code",
      "source": [
        "# cook your dish here\n",
        "t = int(input())\n",
        "for i in range(t):\n",
        "    a,b = map(int,input().split())\n",
        "    if ((a+b) %2 == 0):\n",
        "        print(\"YES\")\n",
        "    else:\n",
        "        print(\"NO\")"
      ],
      "metadata": {
        "id": "NSI2vXKvgTDK"
      },
      "execution_count": null,
      "outputs": []
    },
    {
      "cell_type": "markdown",
      "source": [
        "# Bidding\n",
        "Problem Code:\n",
        "AUCTION\n",
        "# Problem\n",
        "Alice, Bob and Charlie are bidding for an artifact at an auction.\n",
        "Alice bids AA rupees, Bob bids BB rupees, and Charlie bids CC rupees (where AA, BB, and CC are distinct).\n",
        "\n",
        "According to the rules of the auction, the person who bids the highest amount will win the auction.\n",
        "Determine who will win the auction."
      ],
      "metadata": {
        "id": "kQlCvzS4kOko"
      }
    },
    {
      "cell_type": "code",
      "source": [
        "# cook your dish here\n",
        "t = int(input())\n",
        "for i in range(t):\n",
        "    a,b,c = map(int,input().split())\n",
        "    if ( a>b and a>c):\n",
        "        print(\"Alice\")\n",
        "    elif (c>b and c>a):\n",
        "        print(\"Charlie\")\n",
        "    else:\n",
        "        print(\"Bob\")"
      ],
      "metadata": {
        "id": "0DTN4Bh4kPEz"
      },
      "execution_count": null,
      "outputs": []
    },
    {
      "cell_type": "markdown",
      "source": [
        "# Chess Time\n",
        "Problem Code:\n",
        "CHESSTIME\n"
      ],
      "metadata": {
        "id": "QsBkxuxDnBCe"
      }
    },
    {
      "cell_type": "markdown",
      "source": [
        "# Problem\n",
        "Chef has recently started playing chess, and wants to play as many games as possible.\n",
        "\n",
        "He calculated that playing one game of chess takes at least 2020 minutes of his time.\n",
        "\n",
        "Chef has NN hours of free time. What is the maximum number of complete chess games he can play in that time"
      ],
      "metadata": {
        "id": "bnT1X6m2kXWM"
      }
    },
    {
      "cell_type": "code",
      "source": [
        "# cook your dish here\n",
        "t = int(input())\n",
        "for i in range(t):\n",
        "    n = int(input())\n",
        "    print((n*60)//20)"
      ],
      "metadata": {
        "id": "KJfnZ9XXkX26"
      },
      "execution_count": null,
      "outputs": []
    },
    {
      "cell_type": "markdown",
      "source": [
        "# Passes for Fair\n",
        "Problem Code:\n",
        "FAIRPASS\n",
        "# Problem\n",
        "There is a fair going on in Chefland. Chef wants to visit the fair along with his NN friends. Chef manages to collect KK passes for the fair. Will Chef be able to enter the fair with all his NN friends?\n",
        "\n",
        "A person can enter the fair using one pass, and each pass can be used by only one person.\n",
        "\n"
      ],
      "metadata": {
        "id": "H7vmgLOXn5Wv"
      }
    },
    {
      "cell_type": "code",
      "source": [
        "# cook your dish here\n",
        "t = int(input())\n",
        "for i in range(t):\n",
        "    n,k = map(int,input().split())\n",
        "    if n<k:\n",
        "        print(\"YES\")\n",
        "    else:\n",
        "        print(\"NO\")"
      ],
      "metadata": {
        "id": "RwP6VfDhn1X-"
      },
      "execution_count": null,
      "outputs": []
    },
    {
      "cell_type": "markdown",
      "source": [
        "# Fever\n",
        "Problem Code:\n",
        "FEVER\n",
        "# Problem\n",
        "Chef is not feeling well today. He measured his body temperature using a thermometer and it came out to be XX °F.\n",
        "\n",
        "A person is said to have fever if his body temperature is strictly greater than 9898 °F.\n",
        "\n",
        "Determine if Chef has fever or not."
      ],
      "metadata": {
        "id": "s2YrrYDFo6rR"
      }
    },
    {
      "cell_type": "code",
      "source": [
        "# cook your dish here\n",
        "t = int(input())\n",
        "for i in range(t):\n",
        "    x= int(input())\n",
        "    if x>98:\n",
        "        print(\"YES\")\n",
        "    else:\n",
        "        print(\"NO\")"
      ],
      "metadata": {
        "id": "v848QRSto598"
      },
      "execution_count": null,
      "outputs": []
    },
    {
      "cell_type": "markdown",
      "source": [
        "# MATH1 Enrolment\n",
        "Problem Code:\n",
        "M1ENROL\n",
        "# Problem\n",
        "For the upcoming semester, the admins of your university decided to keep a total of XX seats for the MATH-1 course. A student interest survey was conducted by the admins and it was found that YY students were interested in taking up the MATH-1 course.\n",
        "\n",
        "Find the minimum number of extra seats that the admins need to add into the MATH-1 course to make sure that every student who is interested in taking the course would be able to do so."
      ],
      "metadata": {
        "id": "-ly2TXXnvIsT"
      }
    },
    {
      "cell_type": "code",
      "source": [
        "# cook your dish here\n",
        "t = int(input())\n",
        "for i in range(t):\n",
        "    x,y = map(int,input().split()) \n",
        "    if x>=y:\n",
        "        print(0)\n",
        "    else:\n",
        "        print(y-x)"
      ],
      "metadata": {
        "id": "6Oafy6RivJKx"
      },
      "execution_count": null,
      "outputs": []
    },
    {
      "cell_type": "markdown",
      "source": [
        "# Chef and Chapters\n",
        "Problem Code:\n",
        "SEMCOURSES\n",
        "# Problem\n",
        "This semester, Chef took X courses. Each course has Y units and each unit has Z chapters in it.\n",
        "\n",
        "Find the total number of chapters Chef has to study this semester."
      ],
      "metadata": {
        "id": "k1gf3cvVwCNF"
      }
    },
    {
      "cell_type": "code",
      "source": [
        "# cook your dish here\n",
        "t = int(input())\n",
        "for i in range(t):\n",
        "    x,y,z = map(int,input().split())\n",
        "    print(x*y*z)\n",
        "    "
      ],
      "metadata": {
        "id": "keaibuuewClU"
      },
      "execution_count": null,
      "outputs": []
    },
    {
      "cell_type": "markdown",
      "source": [
        "# Water Requirement\n",
        "Problem Code:\n",
        "WATERREQ\n",
        "# Problem\n",
        "Finally, after purchasing a water cooler during the April long challenge, Chef noticed that his water cooler requires 22 liters of water to cool for one hour.\n",
        "\n",
        "How much water (in liters) would be required by the cooler to cool for NN hours?"
      ],
      "metadata": {
        "id": "PRWy3ClqxJzs"
      }
    },
    {
      "cell_type": "code",
      "source": [
        "# cook your dish here\n",
        "t = int(input())\n",
        "for i in range(t):\n",
        "    n = int(input())\n",
        "    print(n*2)"
      ],
      "metadata": {
        "id": "fOHl8P5lxI20"
      },
      "execution_count": null,
      "outputs": []
    },
    {
      "cell_type": "markdown",
      "source": [
        "# Lunchtime\n",
        "Problem Code:\n",
        "LTIME\n",
        "# Problem\n",
        "Chef has his lunch only between 11 pm and 44 pm (both inclusive).\n",
        "\n",
        "Given that the current time is XX pm, find out whether it is lunchtime for Chef."
      ],
      "metadata": {
        "id": "d2tFnZY5xPq0"
      }
    },
    {
      "cell_type": "code",
      "source": [
        "# cook your dish here\n",
        "t = int(input())\n",
        "for i in range(t):\n",
        "    x = int(input())\n",
        "    if (x<=1 or x<=4):\n",
        "        print(\"YES\")\n",
        "    else:\n",
        "        print(\"NO\")"
      ],
      "metadata": {
        "id": "_-Zlbfl1xQCp"
      },
      "execution_count": null,
      "outputs": []
    },
    {
      "cell_type": "markdown",
      "source": [
        "# Apples and Oranges\n",
        "Problem Code:\n",
        "APPLORNG"
      ],
      "metadata": {
        "id": "RFWvHFzH0vf4"
      }
    },
    {
      "cell_type": "markdown",
      "source": [
        "# Problem\n",
        "Bob has XX rupees and goes to a market. The cost of apples is Rs. AA per kg and the cost of oranges is Rs. BB per kg.\n",
        "\n",
        "Determine whether he can buy at least 11 kg each of apples and oranges."
      ],
      "metadata": {
        "id": "qo2kQBiIz9UE"
      }
    },
    {
      "cell_type": "code",
      "source": [
        "x = int(input())\n",
        "a, b = map(int,input().split())\n",
        "if ((a+b)<=x):\n",
        "    print(\"YES\")\n",
        "else:\n",
        "    print(\"NO\")"
      ],
      "metadata": {
        "id": "Lz9PJTvFz9wK"
      },
      "execution_count": null,
      "outputs": []
    },
    {
      "cell_type": "markdown",
      "source": [
        "# Final Population\n",
        "Problem Code:\n",
        "POPULATION\n",
        "# Problem\n",
        "There were initially XX million people in a town, out of which YY million people left the town and ZZ million people immigrated to this town.\n",
        "\n",
        "Determine the final population of town in millions."
      ],
      "metadata": {
        "id": "x7gq_ami1Xd2"
      }
    },
    {
      "cell_type": "code",
      "source": [
        "# cook your dish here\n",
        "t = int(input())\n",
        "for i in range(t):\n",
        "    x,y,z = map(int,input().split())\n",
        "    print((x-y)+z)"
      ],
      "metadata": {
        "id": "yz-_-1I50I2z"
      },
      "execution_count": null,
      "outputs": []
    },
    {
      "cell_type": "markdown",
      "source": [
        "# Chef gives Party\n",
        "Problem Code:\n",
        "PARTY2\n",
        "# Problem\n",
        "Chef wants to give a burger party to all his NN friends i.e. he wants to buy one burger for each of his friends.\n",
        "\n",
        "The cost of each burger is XX rupees while Chef has a total of KK rupees.\n",
        "\n",
        "Determine whether he has enough money to buy a burger for each of his friends or not."
      ],
      "metadata": {
        "id": "e8mbqbiM3SNQ"
      }
    },
    {
      "cell_type": "code",
      "source": [
        "# cook your dish here\n",
        "t = int(input())\n",
        "for i in range(t):\n",
        "    n,x,k = map(int,input().split())\n",
        "    if ((n*x) > k):\n",
        "        print(\"NO\")\n",
        "    else:\n",
        "        print(\"YES\")"
      ],
      "metadata": {
        "id": "MFk7gGWL3Sku"
      },
      "execution_count": null,
      "outputs": []
    },
    {
      "cell_type": "markdown",
      "source": [
        "# Air Hockey\n",
        "Problem Code:\n",
        "AIRHOCKEY\n",
        "# Problem\n",
        "Alice is playing Air Hockey with Bob. The first person to earn seven points wins the match. Currently, Alice's score is AA and Bob's score is BB.\n",
        "\n",
        "Charlie is eagerly waiting for his turn. Help Charlie by calculating the minimum number of points that will be further scored in the match before it ends."
      ],
      "metadata": {
        "id": "fPEah9n-3Z2F"
      }
    },
    {
      "cell_type": "code",
      "source": [
        "# cook your dish here\n",
        "t = int(input())\n",
        "for i in range(t):\n",
        "    a,b = map(int,input().split())\n",
        "    if (a==0 and b==0):\n",
        "        print(7)\n",
        "    elif (a<b):\n",
        "        print(7-b)\n",
        "    else:\n",
        "        print(7-a)"
      ],
      "metadata": {
        "id": "XurFlgRN3aXq"
      },
      "execution_count": null,
      "outputs": []
    },
    {
      "cell_type": "markdown",
      "source": [
        "# Ticket Fine\n",
        "Problem Code:\n",
        "TCKTFINE\n",
        "# Problem\n",
        "On a certain train, Chef-the ticket collector, collects a fine of Rs. XX if a passenger is travelling without a ticket. It is known that a passenger carries either a single ticket or no ticket.\n",
        "\n",
        "PP passengers are travelling and they have a total of QQ tickets. Help Chef calculate the total fine collected."
      ],
      "metadata": {
        "id": "fvetbCEtLPZB"
      }
    },
    {
      "cell_type": "code",
      "source": [
        "# cook your dish here\n",
        "t = int(input())\n",
        "for i in range(t):\n",
        "    x,a,b = map(int,input().split())\n",
        "    print((a-b)*x)"
      ],
      "metadata": {
        "id": "BsOFl3dzLPy6"
      },
      "execution_count": null,
      "outputs": []
    },
    {
      "cell_type": "markdown",
      "source": [
        "# Interior Design\n",
        "Problem Code:\n",
        "INTRDSGN\n",
        "# Problem\n",
        "Chef decided to redecorate his house, and now needs to decide between two different styles of interior design.\n",
        "\n",
        "For the first style, tiling the floor will cost X_1X \n",
        "1\n",
        "​\n",
        "  rupees and painting the walls will cost Y_1Y \n",
        "1\n",
        "​\n",
        "  rupees.\n",
        "\n",
        "For the second style, tiling the floor will cost X_2X \n",
        "2\n",
        "​\n",
        "  rupees and painting the walls will cost Y_2Y \n",
        "2\n",
        "​\n",
        "  rupees.\n",
        "\n",
        "Chef will choose whichever style has the lower total cost. How much will Chef pay for his interior design?"
      ],
      "metadata": {
        "id": "WKyOEvsZMEew"
      }
    },
    {
      "cell_type": "code",
      "source": [
        "# cook your dish here\n",
        "t = int(input())\n",
        "for i in range(t):\n",
        "    x1,y1,x2,y2 = map(int,input().split())\n",
        "    \n",
        "    if ((x1+y1) < (x2+y2)):\n",
        "        print(x1+y1)\n",
        "    else:\n",
        "        print(x2+y2)"
      ],
      "metadata": {
        "id": "8ndzTPlxMFSC"
      },
      "execution_count": null,
      "outputs": []
    },
    {
      "cell_type": "markdown",
      "source": [
        "# Car Trip\n",
        "Problem Code:\n",
        "CARTRIP\n",
        "# Problem\n",
        "Chef rented a car for a day.\n",
        "\n",
        "Usually, the cost of the car is Rs 1010 per km. However, since Chef has booked the car for the whole day, he needs to pay for at least 300300 kms even if the car runs less than 300300 kms.\n",
        "\n",
        "If the car ran XX kms, determine the cost Chef needs to pay."
      ],
      "metadata": {
        "id": "ZHL-gJZHM4cE"
      }
    },
    {
      "cell_type": "code",
      "source": [
        "# cook your dish here\n",
        "t = int(input())\n",
        "for i in range(t):\n",
        "    x = int(input())\n",
        "    \n",
        "    if (x<300):\n",
        "        print(3000)\n",
        "    else:\n",
        "        print(x*10)"
      ],
      "metadata": {
        "id": "2nPrIdw8M1uk"
      },
      "execution_count": null,
      "outputs": []
    },
    {
      "cell_type": "markdown",
      "source": [
        "# Email Reminders\n",
        "Problem Code:\n",
        "EMAILREM\n",
        "# Problem\n",
        "MoEngage helps the Chef send email reminders about rated contests to the participants.\n",
        "\n",
        "There are a total of NN participants on Chef’s platform, and UU of them have told Chef not to send emails to them.\n",
        "\n",
        "If so, how many participants should MoEngage send the contest emails to?"
      ],
      "metadata": {
        "id": "R_oucfJ8NUHN"
      }
    },
    {
      "cell_type": "code",
      "source": [
        "# cook your dish here\n",
        "n, u = map(int,input().split())\n",
        "print(n-u)"
      ],
      "metadata": {
        "id": "ULPMqw5pNYk1"
      },
      "execution_count": null,
      "outputs": []
    },
    {
      "cell_type": "markdown",
      "source": [
        "# Six Friends\n",
        "Problem Code:\n",
        "SIXFRIENDS\n",
        "# Problem\n",
        "Six friends go on a trip and are looking for accommodation. After looking for hours, they find a hotel which offers two types of rooms — double rooms and triple rooms. A double room costs Rs. XX, while a triple room costs Rs. YY.\n",
        "\n",
        "The friends can either get three double rooms or get two triple rooms. Find the minimum amount they will have to pay to accommodate all six of them."
      ],
      "metadata": {
        "id": "IbqLz8bNPdZB"
      }
    },
    {
      "cell_type": "code",
      "source": [
        "# cook your dish here\n",
        "t = int(input())\n",
        "for i in range(t):\n",
        "    x,y = map(int,input().split())\n",
        "    if (x*3 < y*2):\n",
        "        print(x*3)\n",
        "    else:\n",
        "        print(y*2)"
      ],
      "metadata": {
        "id": "wpxiw7lfPV2o"
      },
      "execution_count": null,
      "outputs": []
    },
    {
      "cell_type": "markdown",
      "source": [
        "# Chef and Wire Frames\n",
        "Problem Code:\n",
        "CWIREFRAME\n",
        "# Problem\n",
        "Chef has a rectangular plate of length N cmNcm and width M cmMcm. He wants to make a wireframe around the plate. The wireframe costs XX rupees per cm.\n",
        "\n",
        "Determine the cost Chef needs to incur to buy the wireframe."
      ],
      "metadata": {
        "id": "n0RsC1EvQeLm"
      }
    },
    {
      "cell_type": "code",
      "source": [
        "# cook your dish here\n",
        "t = int(input())\n",
        "for i in range(t):\n",
        "    n,m,x = map(int,input().split())\n",
        "    a= n*2 + m*2\n",
        "    print(a*x)"
      ],
      "metadata": {
        "id": "wVDMb16HQZV8"
      },
      "execution_count": null,
      "outputs": []
    },
    {
      "cell_type": "markdown",
      "source": [
        "# Minimum Coins\n",
        "Problem Code:\n",
        "MINCOINSREQ\n",
        "# Problem\n",
        "There are only 2 type of denominations in Chefland:\n",
        "\n",
        "Coins worth 1 rupee each\n",
        "Notes worth 10 rupees each\n",
        "Chef wants to pay his friend exactly XX rupees. What is the minimum number of coins Chef needs to pay exactly XX rupees?"
      ],
      "metadata": {
        "id": "ju4O4ENqR5cl"
      }
    },
    {
      "cell_type": "code",
      "source": [
        "# cook your dish here\n",
        "t = int(input())\n",
        "for i in range(t):\n",
        "    x = int(input())\n",
        "    print(x%10)"
      ],
      "metadata": {
        "id": "28OI6CPeR2AV"
      },
      "execution_count": null,
      "outputs": []
    },
    {
      "cell_type": "markdown",
      "source": [
        "# True and False Paper\n",
        "Problem Code:\n",
        "TFPAPER\n",
        "# Problem\n",
        "Alice wrote an exam containing NN true or false questions (i.e. questions whose answer is either true or false). Each question is worth 11 mark and there is no negative marking in the examination. Alice scored KK marks out of NN.\n",
        "\n",
        "Bob wrote the same exam but he marked each and every question as the opposite of what Alice did, i.e, for whichever questions Alice marked true, Bob marked false and for whichever questions Alice marked false, Bob marked true.\n",
        "\n",
        "Determine the score of Bob."
      ],
      "metadata": {
        "id": "EXl2yWL9Srqc"
      }
    },
    {
      "cell_type": "code",
      "source": [
        "# cook your dish here\n",
        "t = int(input())\n",
        "for i in range(t):\n",
        "    n,k = map(int,input().split())\n",
        "    print(n-k)"
      ],
      "metadata": {
        "id": "njBauTTKSquH"
      },
      "execution_count": null,
      "outputs": []
    },
    {
      "cell_type": "markdown",
      "source": [
        "# The Cheaper Cab\n",
        "Problem Code:\n",
        "CABS\n",
        "# Problem\n",
        "Chef has to travel to another place. For this, he can avail any one of two cab services.\n",
        "\n",
        "The first cab service charges XX rupees.\n",
        "The second cab service charges YY rupees.\n",
        "Chef wants to spend the minimum amount of money. Which cab service should Chef take?"
      ],
      "metadata": {
        "id": "hGCkwlS1TQgU"
      }
    },
    {
      "cell_type": "code",
      "source": [
        "# cook your dish here\n",
        "t = int(input())\n",
        "for i in range(t):\n",
        "    x,y = map(int,input().split())\n",
        "    if (x<y):\n",
        "        print(\"FIRST\")\n",
        "    elif x==y:\n",
        "        print(\"ANY\")\n",
        "    else:\n",
        "        print(\"SECOND\")"
      ],
      "metadata": {
        "id": "tstuIciVTM5_"
      },
      "execution_count": null,
      "outputs": []
    },
    {
      "cell_type": "markdown",
      "source": [
        "# Problem Code:\n",
        "REACHTARGET\n",
        "# Problem\n",
        "There is a cricket match going on between two teams AA and BB.\n",
        "\n",
        "Team BB is batting second and got a target of XX runs. Currently, team BB has scored YY runs. Determine how many more runs Team BB should score to win the match.\n",
        "\n",
        "Note: The target score in cricket matches is one more than the number of runs scored by the team that batted first."
      ],
      "metadata": {
        "id": "nxxTjbueevyJ"
      }
    },
    {
      "cell_type": "code",
      "source": [
        "# cook your dish here\n",
        "t = int(input())\n",
        "for i in range(t):\n",
        "    x,y = map(int,input().split())\n",
        "    print(x-y)"
      ],
      "metadata": {
        "id": "DzAz-zKeetDk"
      },
      "execution_count": null,
      "outputs": []
    },
    {
      "cell_type": "markdown",
      "source": [
        "# Problem Code:\n",
        "AUDIBLE\n",
        "# Problem\n",
        "Chef's dog binary hears frequencies starting from 6767 Hertz to 4500045000 Hertz (both inclusive).\n",
        "\n",
        "If Chef's commands have a frequency of XX Hertz, find whether binary can hear them or not."
      ],
      "metadata": {
        "id": "Eep9m1mTdgYH"
      }
    },
    {
      "cell_type": "code",
      "source": [
        "# cook your dish here\n",
        "t = int(input())\n",
        "for _ in range(t):\n",
        "    x = int(input())\n",
        "    if (x>= 67 and x<= 45000):\n",
        "        print(\"YES\")\n",
        "    else:\n",
        "        print('NO')"
      ],
      "metadata": {
        "id": "XFq4gzCfdhXl"
      },
      "execution_count": null,
      "outputs": []
    },
    {
      "cell_type": "markdown",
      "source": [
        "# Problem Code:\n",
        "PODIUM\n",
        "# Problem\n",
        "Chef got his dream seat in F1 and secured a 3^{rd}3 \n",
        "rd\n",
        "  place in his debut race. He now wants to know the time gap between him and the winner of the race.\n",
        "\n",
        "You are his chief engineer and you only know the time gap between Chef and the runner up of the race, given as AA seconds, and the time gap between the runner up and the winner of the race, given as BB seconds.\n",
        "\n",
        "Please calculate and inform Chef about the time gap between him and the winner of the race."
      ],
      "metadata": {
        "id": "4jrqNaCQCJ-u"
      }
    },
    {
      "cell_type": "code",
      "source": [
        "# cook your dish here\n",
        "for _ in range(int(input())):\n",
        "    a,b = map(int,input().split())\n",
        "    print(a+b)"
      ],
      "metadata": {
        "id": "kyeO2R-HCHI2"
      },
      "execution_count": null,
      "outputs": []
    }
  ]
}