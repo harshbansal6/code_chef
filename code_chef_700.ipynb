{
  "nbformat": 4,
  "nbformat_minor": 0,
  "metadata": {
    "colab": {
      "provenance": [],
      "collapsed_sections": [],
      "authorship_tag": "ABX9TyMjVDDUPzGbJAcY3V7X5fqv"
    },
    "kernelspec": {
      "name": "python3",
      "display_name": "Python 3"
    },
    "language_info": {
      "name": "python"
    }
  },
  "cells": [
    {
      "cell_type": "markdown",
      "source": [
        "# Problem Code:\n",
        "CHEFAPPS\n",
        "# Problem\n",
        "Chef's phone has a total storage of SS MB. Also, Chef has 22 apps already installed on his phone which occupy XX MB and YY MB respectively.\n",
        "\n",
        "He wants to install another app on his phone whose memory requirement is ZZ MB. For this, he might have to delete the apps already installed on his phone. Determine the minimum number of apps he has to delete from his phone so that he has enough memory to install the third app."
      ],
      "metadata": {
        "id": "0FdqlOiK1QQe"
      }
    },
    {
      "cell_type": "code",
      "execution_count": null,
      "metadata": {
        "id": "Kx-S1kQL1JUh"
      },
      "outputs": [],
      "source": [
        "# cook your dish here\n",
        "for i in range(int(input())):\n",
        "    s,x,y,z = map(int,input().split())\n",
        "    a = s-(x+y)\n",
        "    if z<=a:\n",
        "        print(0)\n",
        "    elif z<=s-y or z<= s-x:\n",
        "        print(1)\n",
        "    else:\n",
        "        print(2)\n",
        "    "
      ]
    },
    {
      "cell_type": "markdown",
      "source": [
        "# Problem Code:\n",
        "MINCOINS\n",
        "# Problem\n",
        "Chef has infinite coins in denominations of rupees 55 and rupees 1010.\n",
        "\n",
        "Find the minimum number of coins Chef needs, to pay exactly XX rupees. If it is impossible to pay XX rupees in denominations of rupees 55 and 1010 only, print -1−1."
      ],
      "metadata": {
        "id": "MP5UXuQe3-gV"
      }
    },
    {
      "cell_type": "code",
      "source": [
        "# cook your dish here\n",
        "for i in range(int(input())):\n",
        "    x = int(input())\n",
        "    if x%10==0:\n",
        "        print(x//10)\n",
        "    elif x%10 != 0 and x%5==0:\n",
        "        print(x//10 +1)\n",
        "    else:\n",
        "        print(\"-1\")"
      ],
      "metadata": {
        "id": "wUU7bfSS37ee"
      },
      "execution_count": null,
      "outputs": []
    },
    {
      "cell_type": "markdown",
      "source": [
        "# Problem Code:\n",
        "CRICUP\n",
        "# Problem\n",
        "It is the World Cup Finals. Chef only finds a match interesting if the skill difference of the competing teams is less than or equal to DD.\n",
        "\n",
        "Given that the skills of the teams competing in the final are XX and YY respectively, determine whether Chef will find the game interesting or not."
      ],
      "metadata": {
        "id": "3t7204R3POg8"
      }
    },
    {
      "cell_type": "code",
      "source": [
        "# cook your dish here\n",
        "for _ in range(int(input())):\n",
        "    x,y,d = map(int,input().split())\n",
        "    if abs(x-y) <= d:\n",
        "        print(\"YES\")\n",
        "    else:\n",
        "        print(\"NO\")"
      ],
      "metadata": {
        "id": "GhstvGWlPU0y"
      },
      "execution_count": null,
      "outputs": []
    },
    {
      "cell_type": "markdown",
      "source": [
        "# Problem Code:\n",
        "SELFDEF\n",
        "# Problem\n",
        "After the phenomenal success of the 36th Chamber of Shaolin, San Te has decided to start 37th Chamber of Shaolin. The aim this time is to equip women with shaolin self-defence techniques.\n",
        "\n",
        "The only condition for a woman to be eligible for the special training is that she must be between 1010 and 6060 years of age, inclusive of both 1010 and 6060.\n",
        "\n",
        "Given the ages of NN women in his village, please help San Te find out how many of them are eligible for the special training."
      ],
      "metadata": {
        "id": "D_iOyIyjQ_lx"
      }
    },
    {
      "cell_type": "code",
      "source": [
        "# cook your dish here\n",
        "for _ in range(int(input())):\n",
        "    n = int(input())\n",
        "    a = list(map(int,input().split()))\n",
        "    c = 0\n",
        "    for i in range(n):\n",
        "        if a[i]>=10 and a[i]<=60:\n",
        "            c +=1 \n",
        "    print(c)\n",
        "            "
      ],
      "metadata": {
        "id": "knTvjpV1Q8oQ"
      },
      "execution_count": null,
      "outputs": []
    },
    {
      "cell_type": "markdown",
      "source": [
        "# Problem Code:\n",
        "FLOORS\n",
        "# Problem\n",
        "Chef and Chefina are residing in a hotel.\n",
        "\n",
        "There are 1010 floors in the hotel and each floor consists of 1010 rooms.\n",
        "\n",
        "Floor 11 consists of room numbers 11 to 1010.\n",
        "Floor 22 consists of room numbers 1111 to 2020.\n",
        "\\ldots…\n",
        "Floor ii consists of room numbers 10 \\cdot (i-1) + 110⋅(i−1)+1 to 10 \\cdot i10⋅i.\n",
        "You know that Chef's room number is XX while Chefina's Room number is YY.\n",
        "If Chef starts from his room, find the number of floors he needs to travel to reach Chefina's room."
      ],
      "metadata": {
        "id": "Gut-hEhpZLqS"
      }
    },
    {
      "cell_type": "code",
      "source": [
        "# cook your dish here\n",
        "for _ in range(int(input())):\n",
        "    x,y = map(int,input().split())\n",
        "    if x%10 != 0:\n",
        "        s=x//10+1\n",
        "    else:\n",
        "        s = x//10 \n",
        "    if y%10 != 0:\n",
        "        p=y//10+1\n",
        "    else:\n",
        "        p = y//10\n",
        "    print(abs(p-s))"
      ],
      "metadata": {
        "id": "xrb-wy1kZO6S"
      },
      "execution_count": null,
      "outputs": []
    },
    {
      "cell_type": "markdown",
      "source": [
        "# Problem Code:\n",
        "SPEEDTEST\n",
        "# Problem\n",
        "Alice is driving from her home to her office which is AA kilometers away and will take her XX hours to reach.\n",
        "Bob is driving from his home to his office which is BB kilometers away and will take him YY hours to reach.\n",
        "\n",
        "Determine who is driving faster, else, if they are both driving at the same speed print EQUAL."
      ],
      "metadata": {
        "id": "_pnqwgJPC4kf"
      }
    },
    {
      "cell_type": "code",
      "source": [
        "# cook your dish here\n",
        "for i in range(int(input())):\n",
        "    a,x,b,y= map(int,input().split())\n",
        "    p = a/x \n",
        "    q = b/y  \n",
        "    if p<q:\n",
        "        print(\"BOB\")\n",
        "    elif p>q:\n",
        "        print(\"ALICE\")\n",
        "    else:\n",
        "        print(\"EQUAL\")"
      ],
      "metadata": {
        "id": "ZNJJIKjCC1sU"
      },
      "execution_count": null,
      "outputs": []
    },
    {
      "cell_type": "markdown",
      "source": [
        "# Problem Code:\n",
        "CHEFPAGES\n",
        "# Problem\n",
        "MoEngage noticed that some users are not aware of the practice page on CodeChef, and some others are not aware of the rated contests on CodeChef. So, MoEngage wants to send an email to the users depending on which of the following groups they fall into:"
      ],
      "metadata": {
        "id": "0MtJajXCD7YF"
      }
    },
    {
      "cell_type": "code",
      "source": [
        "# cook your dish here\n",
        "a,b = map(int,input().split())\n",
        "if a==0 and ( b==1 or b==0):\n",
        "    print(\"https://www.codechef.com/practice\")\n",
        "elif a==1 and b ==0:\n",
        "    print(\"https://www.codechef.com/contests\")\n",
        "else:\n",
        "    print(\"https://discuss.codechef.com\")"
      ],
      "metadata": {
        "id": "60RGODNSD4on"
      },
      "execution_count": null,
      "outputs": []
    },
    {
      "cell_type": "markdown",
      "source": [
        "# Problem Code:\n",
        "DECINC\n",
        "# Problem\n",
        "Write a program to obtain a number NN and increment its value by 1 if the number is divisible by 4 otherwiseotherwise decrement its value by 1."
      ],
      "metadata": {
        "id": "AnYd__FzGzTj"
      }
    },
    {
      "cell_type": "code",
      "source": [
        "# cook your dish here\n",
        "n = int(input())\n",
        "if n%4==0:\n",
        "    print(n+1)\n",
        "else:\n",
        "    print(n-1)"
      ],
      "metadata": {
        "id": "u7URxeN5Gwo1"
      },
      "execution_count": null,
      "outputs": []
    },
    {
      "cell_type": "markdown",
      "source": [
        "# Problem Code:\n",
        "AORB\n",
        "# Problem\n",
        "There are two problems in a contest.\n",
        "\n",
        "Problem A is worth 500500 points at the start of the contest.\n",
        "Problem B is worth 10001000 points at the start of the contest.\n",
        "Once the contest starts, after each minute:\n",
        "\n",
        "Maximum points of Problem A reduce by 22 points .\n",
        "Maximum points of Problem B reduce by 44 points.\n",
        "It is known that Chef requires XX minutes to solve Problem A correctly and YY minutes to solve Problem B correctly.\n",
        "\n",
        "Find the maximum number of points Chef can score if he optimally decides the order of attempting both the problems."
      ],
      "metadata": {
        "id": "yLVI2bV0IgCm"
      }
    },
    {
      "cell_type": "code",
      "source": [
        "# cook your dish here\n",
        "for _ in range(int(input())):\n",
        "    x,y = map(int,input().split())\n",
        "    d = 500-(x*2) + 1000-((x+y)*4)\n",
        "    e = 1000-(y*4) + 500-((x+y)*2)\n",
        "    \n",
        "    if d<=e:\n",
        "        print(e)\n",
        "    else:\n",
        "        print(d)"
      ],
      "metadata": {
        "id": "xr5nH5YiIdjT"
      },
      "execution_count": null,
      "outputs": []
    },
    {
      "cell_type": "markdown",
      "source": [
        "# Problem Code:\n",
        "PASSORFAIL\n",
        "# Problem\n",
        "Chef is struggling to pass a certain college course.\n",
        "\n",
        "The test has a total of NN question, each question carries 33 marks for a correct answer and -1−1 for an incorrect answer. Chef is a risk-averse person so he decided to attempt all the questions. It is known that Chef got XX questions correct and the rest of them incorrect. For Chef to pass the course he must score at least PP marks.\n",
        "\n",
        "Will Chef be able to pass the exam or not?"
      ],
      "metadata": {
        "id": "Et1fU3Dt1mou"
      }
    },
    {
      "cell_type": "code",
      "source": [
        "# cook your dish here\n",
        "for _ in range(int(input())):\n",
        "    n,x,p = map(int,input().split())\n",
        "    d = n-x \n",
        "    e = d*(-1) \n",
        "    if p <= (x*3)+e:\n",
        "        print(\"PASS\")\n",
        "    else:\n",
        "        print(\"FAIL\")"
      ],
      "metadata": {
        "id": "7eZybXak1j62"
      },
      "execution_count": null,
      "outputs": []
    },
    {
      "cell_type": "markdown",
      "source": [
        "# Problem Code:\n",
        "FLOW017\n",
        "# Problem\n",
        "Three numbers A, B and C are the inputs. Write a program to find second largest among them."
      ],
      "metadata": {
        "id": "nz0vqKqe2nex"
      }
    },
    {
      "cell_type": "code",
      "source": [
        "# cook your dish here\n",
        "for _ in range(int(input())):\n",
        "    a= sorted(list(map(int,input().split())))\n",
        "    print(a[1])\n",
        "    \n",
        "   # OR\n",
        "   # cook your dish here\n",
        "T=int(input())\n",
        "for i in range(T):\n",
        "    A,B,C=[int(i) for i in input().split()]\n",
        "    maxi=max(A,B,C)\n",
        "    mini=min(A,B,C)\n",
        "    if A!=maxi and A!=mini:\n",
        "        print(A)\n",
        "    elif B!=maxi and B!=mini:\n",
        "        print(B)\n",
        "    else:\n",
        "        print(C) \n",
        "        "
      ],
      "metadata": {
        "id": "IZxpGE2Y2pkO"
      },
      "execution_count": null,
      "outputs": []
    },
    {
      "cell_type": "markdown",
      "source": [
        "# Problem Code:\n",
        "CYCLICQD\n",
        "# Problem\n",
        "You are given the sizes of angles of a simple quadrilateral (in degrees) AA, BB, CC and DD, in some order along its perimeter. Determine whether the quadrilateral is cyclic.\n",
        "\n",
        "Note: A quadrilateral is cyclic if and only if the sum of opposite angles is 180^{\\circ}180 \n",
        "∘\n",
        " ."
      ],
      "metadata": {
        "id": "-xxfE8J033tY"
      }
    },
    {
      "cell_type": "code",
      "source": [
        "# cook your dish here\n",
        "for _ in range(int(input())):\n",
        "    a,b,c,d = map(int,input().split())\n",
        "    if a+c == 180 or b+d == 180:\n",
        "        print(\"YES\")\n",
        "    else:\n",
        "        print(\"NO\")"
      ],
      "metadata": {
        "id": "n8CxQ8fi31Rc"
      },
      "execution_count": null,
      "outputs": []
    },
    {
      "cell_type": "markdown",
      "source": [
        "# Problem Code:\n",
        "POLYBAGS\n",
        "# Problem\n",
        "Chef bought NN items from a shop. Although it is hard to carry all these items in hand, so Chef has to buy some polybags to store these items.\n",
        "\n",
        "11 polybag can contain at most 1010 items. What is the minimum number of polybags needed by Chef?"
      ],
      "metadata": {
        "id": "Jm8jKi9j4iCG"
      }
    },
    {
      "cell_type": "code",
      "source": [
        "# cook your dish here\n",
        "for _ in range(int(input())):\n",
        "    n = int(input())\n",
        "    if n%10==0:\n",
        "        print(n//10)\n",
        "    else:\n",
        "        print(n//10+1)"
      ],
      "metadata": {
        "id": "vpuMwW4X4fMV"
      },
      "execution_count": null,
      "outputs": []
    },
    {
      "cell_type": "markdown",
      "source": [
        "# Problem Code:\n",
        "ACS\n",
        "# Problem\n",
        "There are 1010 problems in a contest. You know that the score of each problem is either 11 or 100100 points.\n",
        "\n",
        "Chef came to know the total score of a participant and he is wondering how many problems were actually solved by that participant.\n",
        "\n",
        "Given the total score PP of the participant, determine the number of problems solved by the participant. Print -1−1 in case the score is invalid."
      ],
      "metadata": {
        "id": "n-o3Mhqn5yh2"
      }
    },
    {
      "cell_type": "code",
      "source": [
        "# cook your dish here\n",
        "for _ in range(int(input())):\n",
        "    p = int(input())\n",
        "    if (p//100 + p%100<= 10):\n",
        "        print((p//100 + p%100))\n",
        "    else:\n",
        "        print(-1)\n",
        "    "
      ],
      "metadata": {
        "id": "UiH7uoAS5m-W"
      },
      "execution_count": null,
      "outputs": []
    },
    {
      "cell_type": "markdown",
      "source": [
        "# Problem Code:\n",
        "CHEFRACES\n",
        "# Problem\n",
        "The National Championships are starting soon. There are 44 race categories, numbered from 11 to 44, that Chef is interested in. Chef is participating in exactly 22 of these categories.\n",
        "\n",
        "Chef has an arch-rival who is, unfortunately, the only person participating who is better than Chef, i.e, Chef can't defeat the arch-rival in any of the four race categories but can defeat anyone else. Chef's arch-rival is also participating in exactly 22 of the four categories.\n",
        "\n",
        "Chef hopes to not fall into the same categories as that of the arch-rival.\n",
        "\n",
        "Given X, Y, A, BX,Y,A,B where X, YX,Y are the races that Chef participates in, and A, BA,B are the races that Chef's arch-rival participates in, find the maximum number of gold medals (first place) that Chef can win."
      ],
      "metadata": {
        "id": "hRnUEp_t840D"
      }
    },
    {
      "cell_type": "code",
      "source": [
        "# cook your dish here\n",
        "for _ in range(int(input())):\n",
        "    x,y,a,b = map(int,input().split())\n",
        "    if x!=a and x!=b and y!=a and y!=b:\n",
        "        print(2)\n",
        "    elif (x==a or x==b) and (y==b or y==a):\n",
        "        print(0)\n",
        "    else:\n",
        "        print(1)"
      ],
      "metadata": {
        "id": "VRvSNSEJ8tnE"
      },
      "execution_count": null,
      "outputs": []
    },
    {
      "cell_type": "markdown",
      "source": [
        "# Problem Code:\n",
        "BLACKCEL\n",
        "# Problem\n",
        "Read problem statements in Mandarin Chinese and Bengali.\n",
        "Given nn (nn is even), determine the number of black cells in an n \\times nn×n chessboard."
      ],
      "metadata": {
        "id": "2D3VIvHS9_yZ"
      }
    },
    {
      "cell_type": "code",
      "source": [
        "# cook your dish here\n",
        "n = int(input())\n",
        "d = n*n \n",
        "print(d//2)"
      ],
      "metadata": {
        "id": "KW-5LLj399IO"
      },
      "execution_count": null,
      "outputs": []
    },
    {
      "cell_type": "markdown",
      "source": [
        "# Problem Code:\n",
        "DIFFSUM\n",
        "# Problem\n",
        "Write a program to take two numbers as input and print their difference if the first number is greater than the second number otherwiseotherwise print their sum."
      ],
      "metadata": {
        "id": "5KnnmOda-3Fe"
      }
    },
    {
      "cell_type": "code",
      "source": [
        "# cook your dish here\n",
        "n1 = int(input())\n",
        "n2 = int(input())\n",
        "if n1>n2:\n",
        "    print(n1-n2)\n",
        "else:\n",
        "    print(n1+n2)"
      ],
      "metadata": {
        "id": "eqMvU9fe-xvu"
      },
      "execution_count": null,
      "outputs": []
    },
    {
      "cell_type": "markdown",
      "source": [
        "# Problem Code:\n",
        "BUILDINGRACE\n",
        "# Problem\n",
        "Two friends Chef and Chefina are currently on floors AA and BB respectively. They hear an announcement that prizes are being distributed on the ground floor and so decide to reach the ground floor as soon as possible.\n",
        "\n",
        "Chef can climb down XX floors per minute while Chefina can climb down YY floors per minute. Determine who will reach the ground floor first. In case both reach the ground floor together, print Both."
      ],
      "metadata": {
        "id": "DbyUc-RkBi7k"
      }
    },
    {
      "cell_type": "code",
      "source": [
        "# cook your dish here\n",
        "for _ in range(int(input())):\n",
        "    a,b,x,y = map(int,input().split())\n",
        "    d = a/x \n",
        "    e = b/y   \n",
        "    if d<e:\n",
        "        print(\"CHEF\")\n",
        "    elif d==e:\n",
        "        print(\"BOTH\")\n",
        "    else:\n",
        "        print(\"CHEFINA\")\n",
        "    "
      ],
      "metadata": {
        "id": "KPFOQjzPBf56"
      },
      "execution_count": null,
      "outputs": []
    },
    {
      "cell_type": "markdown",
      "source": [
        "# Problem Code:\n",
        "FLOW013\n",
        "# Problem\n",
        "Write a program to check whether a triangle is valid or not, when the three angles of the triangle are the inputs. A triangle is valid if the sum of all the three angles is equal to 180 degrees."
      ],
      "metadata": {
        "id": "lw-POteIP6Hx"
      }
    },
    {
      "cell_type": "code",
      "source": [
        "# cook your dish here\n",
        "for _ in range(int(input())):\n",
        "    a,b,c = map(int,input().split())\n",
        "    if (a+b+c == 180):\n",
        "        print(\"YES\")\n",
        "    else:\n",
        "        print(\"NO\")"
      ],
      "metadata": {
        "id": "BRRhmnnhP5vk"
      },
      "execution_count": null,
      "outputs": []
    },
    {
      "cell_type": "markdown",
      "source": [
        "# Problem Code:\n",
        "PRESENTS\n",
        "# Problem\n",
        "Chef has fallen in love with Cheffina, and wants to buy NN gifts for her. On reaching the gift shop, Chef got to know the following two things:\n",
        "\n",
        "The cost of each gift is 11 coin.\n",
        "On the purchase of every 4^{th}4 \n",
        "th\n",
        "  gift, Chef gets the 5^{th}5 \n",
        "th\n",
        "  gift free of cost.\n",
        "What is the minimum number of coins that Chef will require in order to come out of the shop carrying NN gifts?"
      ],
      "metadata": {
        "id": "3FBIsNmWRPvj"
      }
    },
    {
      "cell_type": "code",
      "source": [
        "# cook your dish here\n",
        "for _ in range(int(input())):\n",
        "    n = int(input())\n",
        "    print(n-(n//5))"
      ],
      "metadata": {
        "id": "tlGlqQ37QpeM"
      },
      "execution_count": null,
      "outputs": []
    },
    {
      "cell_type": "markdown",
      "source": [
        "# Problem Code:\n",
        "FLOW018\n",
        "# Problem\n",
        "Write a program to find the factorial value of any number entered by the user."
      ],
      "metadata": {
        "id": "W3v_BDdkSA2s"
      }
    },
    {
      "cell_type": "code",
      "source": [
        "# cook your dish here\n",
        "def factorial(n):\n",
        "    if n<2:\n",
        "        return 1 \n",
        "    else:\n",
        "        return (n*factorial(n-1))\n",
        "\n",
        "for i in range(int(input())):\n",
        "    n = int(input())\n",
        "    res = factorial(n)\n",
        "    print(res)"
      ],
      "metadata": {
        "id": "040Lo3_DSEep"
      },
      "execution_count": null,
      "outputs": []
    },
    {
      "cell_type": "markdown",
      "source": [
        "# Problem Code:\n",
        "T20MCH\n",
        "# Problem\n",
        "Chef is playing in a T20 cricket match. In a match, Team A plays for 20 overs. In a single over, the team gets to play 6 times, and in each of these 6 tries, they can score a maximum of 6 runs. After Team A's 20 overs are finished, Team B similarly plays for 20 overs and tries to get a higher total score than the first team. The team with the higher total score at the end wins the match.\n",
        "\n",
        "Chef is in Team B. Team A has already played their 20 overs, and have gotten a score of RR. Chef's Team B has started playing, and have already scored CC runs in the first OO overs. In the remaining 20 - O20−O overs, find whether it is possible for Chef's Team B to get a score high enough to win the game. That is, can their final score be strictly larger than RR?"
      ],
      "metadata": {
        "id": "lJuB17T8TSC_"
      }
    },
    {
      "cell_type": "code",
      "source": [
        "# cook your dish her\n",
        "r,o,c = map(int,input().split())\n",
        "d = 20 - o \n",
        "e = d*6*6\n",
        "if c+e > r:\n",
        "    print(\"YES\")\n",
        "else:\n",
        "    print(\"NO\")"
      ],
      "metadata": {
        "id": "S5w69EOpTPNu"
      },
      "execution_count": null,
      "outputs": []
    },
    {
      "cell_type": "markdown",
      "source": [
        "# Problem Code:\n",
        "JGAMES\n",
        "# Problem\n",
        "Janmansh and Jay are playing a game. They start with a number XX and they play a total of YY moves. Janmansh plays the first move of the game, after which both the players make moves alternatingly.\n",
        "\n",
        "In one move, a player can increment or decrement XX by 11.\n",
        "\n",
        "If the final number after performing YY moves is even, then Janmansh wins otherwise, Jay wins. Determine the winner of the game if both the players play optimally.\n",
        "\n",
        "Input Format"
      ],
      "metadata": {
        "id": "doVS9YF_UuDQ"
      }
    },
    {
      "cell_type": "code",
      "source": [
        "# cook your dish here\n",
        "for _ in range(int(input())):\n",
        "    x,y = map(int,input().split())\n",
        "    if (x+y)%2==0:\n",
        "        print(\"JANMANSH\")\n",
        "    else:\n",
        "        print(\"JAY\")"
      ],
      "metadata": {
        "id": "dFbuGi6HUo5D"
      },
      "execution_count": null,
      "outputs": []
    },
    {
      "cell_type": "markdown",
      "source": [
        "# Problem Code:\n",
        "LUCKFOUR\n",
        "# Problem\n",
        "\n",
        "Impressed by the power of this number, Kostya has begun to look for occurrences of four anywhere. He has a list of T integers, for each of them he wants to calculate the number of occurrences of the digit 4 in the decimal representation. He is too busy now, so please help him."
      ],
      "metadata": {
        "id": "eAQsTGlWVeGn"
      }
    },
    {
      "cell_type": "code",
      "source": [
        "t = int(input())\n",
        "for i in range(t):\n",
        "    fours = 0\n",
        "    num = int(input())\n",
        "    while(num):\n",
        "        if(num%10 == 4):\n",
        "            fours +=1\n",
        "        num = int(num/10)\n",
        "    print(fours)\n"
      ],
      "metadata": {
        "colab": {
          "base_uri": "https://localhost:8080/"
        },
        "id": "qJNR6raTViO6",
        "outputId": "f78a1380-4707-4745-ff32-3dc689924962"
      },
      "execution_count": null,
      "outputs": [
        {
          "output_type": "stream",
          "name": "stdout",
          "text": [
            "1\n",
            "32\n",
            "0\n"
          ]
        }
      ]
    },
    {
      "cell_type": "markdown",
      "source": [
        "# with for loop"
      ],
      "metadata": {
        "id": "F3T2lQgLWEI4"
      }
    },
    {
      "cell_type": "code",
      "source": [
        "t = int(input())\n",
        "for i in range(t):\n",
        "    fours = 0\n",
        "    num = int(input())\n",
        "    for i in range(num):\n",
        "        if(num%10 == 4):\n",
        "            fours +=1\n",
        "        num = int(num/10)\n",
        "    print(fours)\n"
      ],
      "metadata": {
        "colab": {
          "base_uri": "https://localhost:8080/"
        },
        "id": "3qGgxkjXVu0x",
        "outputId": "400d8184-c1f2-4be1-8ae6-fcbc3eff11d0"
      },
      "execution_count": null,
      "outputs": [
        {
          "output_type": "stream",
          "name": "stdout",
          "text": [
            "1\n",
            "32\n",
            "0\n"
          ]
        }
      ]
    },
    {
      "cell_type": "markdown",
      "source": [
        "# Problem Code:\n",
        "BUYLAMP\n",
        "# Problem\n",
        "An electronics shop sells red and blue lamps. A red lamp costs XX rupees and a blue lamp costs YY rupees.\n",
        "\n",
        "Chef is going to buy exactly NN lamps from this shop. Find the minimum amount of money Chef needs to pay such that at least KK of the lamps bought are red."
      ],
      "metadata": {
        "id": "ZNSKAOw5YHeC"
      }
    },
    {
      "cell_type": "code",
      "source": [
        "# cook your dish here\n",
        "for _ in range(int(input())):\n",
        "    n,k,x,y = map(int,input().split())\n",
        "    d = k*x + ((n-k)*y)\n",
        "    if d<n*x:\n",
        "        print(d)\n",
        "    else:\n",
        "        print(n*x)"
      ],
      "metadata": {
        "id": "8j3rVNz4Vysb"
      },
      "execution_count": null,
      "outputs": []
    },
    {
      "cell_type": "markdown",
      "source": [
        "# Problem Code:\n",
        "FLOW008\n",
        "Problem\n",
        "Write a program, which takes an integer N and if the number is less than 10 then display \"Thanks for helping Chef!\" otherwise print \"-1\"."
      ],
      "metadata": {
        "id": "jx9irwVrY8P2"
      }
    },
    {
      "cell_type": "code",
      "source": [
        "# cook your dish here\n",
        "for _ in range(int(input())):\n",
        "    n = int(input())\n",
        "    if n<10:\n",
        "        print(\"Thanks for helping chef\")\n",
        "    else:\n",
        "        print(-1)"
      ],
      "metadata": {
        "id": "LO-izP7-Yj4Z"
      },
      "execution_count": null,
      "outputs": []
    },
    {
      "cell_type": "markdown",
      "source": [
        "# Problem Code:\n",
        "CHN15A\n",
        "Problem\n",
        "Gru has not been in the limelight for a long time and is, therefore, planning something particularly nefarious. Frustrated by his minions' incapability which has kept him away from the limelight, he has built a transmogrifier — a machine which mutates minions.\n",
        "\n",
        "Each minion has an intrinsic characteristic value (similar to our DNA), which is an integer. The transmogrifier adds an integer K to each of the minions' characteristic value.\n",
        "\n",
        "Gru knows that if the new characteristic value of a minion is divisible by 7, then it will have Wolverine-like mutations.\n",
        "\n",
        "Given the initial characteristic integers of N minions, all of which are then transmogrified, find out how many of them become Wolverine-like."
      ],
      "metadata": {
        "id": "soSqA3sNaVk-"
      }
    },
    {
      "cell_type": "code",
      "source": [
        "# cook your dish here\n",
        "for _ in range(int(input())):\n",
        "    n,k = map(int,input().split())\n",
        "    c = map(int,input().split())\n",
        "    s = 0\n",
        "    for i in c:\n",
        "        if (i+k)%7==0:\n",
        "            s +=1 \n",
        "    print(s)"
      ],
      "metadata": {
        "id": "R-rHAEteaYdL"
      },
      "execution_count": null,
      "outputs": []
    },
    {
      "cell_type": "markdown",
      "source": [
        "# Problem Code:\n",
        "SALE\n",
        "# Problem\n",
        "Chef goes to the supermarket to buy some items. Luckily there's a sale going on under which Chef gets the following offer:\n",
        "\n",
        "If Chef buys 33 items then he gets the item (out of those 33 items) having the lowest price as free.\n",
        "For e.g. if Chef bought 33 items with the cost 66, 22 and 44, then he would get the item with cost 22 as free. So he would only have to pay the cost of the other two items which will be 6 + 4 = 106+4=10.\n",
        "\n",
        "Chef buys 33 items having prices AA, BB and CC respectively. What is the amount of money Chef needs to pay?"
      ],
      "metadata": {
        "id": "hvWsDHICcohp"
      }
    },
    {
      "cell_type": "code",
      "source": [
        "# cook your dish here\n",
        "for _ in range(int(input())):\n",
        "    a,b,c = map(int,input().split())\n",
        "    if (a<=b and a<=c):\n",
        "        print(b+c)\n",
        "    elif b<=a and b<=c:\n",
        "        print(a+c)\n",
        "    elif c<=a and c<=b:\n",
        "        print(a+b)"
      ],
      "metadata": {
        "id": "R0cqKqahclLH"
      },
      "execution_count": null,
      "outputs": []
    },
    {
      "cell_type": "markdown",
      "source": [
        "# Problem Code:\n",
        "ECOCLASS\n",
        "# Problem\n",
        "Alice has recently learned in her economics class that the market is said to be in equilibrium when the supply is equal to the demand.\n",
        "\n",
        "Alice has market data for NN time points in the form of two integer arrays SS and DD. Here, S_iS \n",
        "i\n",
        "​\n",
        "  denotes the supply at the i^{th}i \n",
        "th\n",
        "  point of time and D_iD \n",
        "i\n",
        "​\n",
        "  denotes the demand at the i^{th}i \n",
        "th\n",
        "  point of time, for each 1 \\leq i \\leq N1≤i≤N.\n",
        "\n",
        "Help Alice in finding out the number of time points at which the market was in equilibrium."
      ],
      "metadata": {
        "id": "KcLLkHpsRef6"
      }
    },
    {
      "cell_type": "code",
      "source": [
        "# cook your dish here\n",
        "for _ in range(int(input())):\n",
        "    s = int(input())\n",
        "    a = list(map(int,input().split()))\n",
        "    b = list(map(int,input().split()))\n",
        "    c=0\n",
        "    for i in range(s):\n",
        "        if a[i]==b[i]:\n",
        "            c +=1 \n",
        "    print(c)"
      ],
      "metadata": {
        "id": "npaCRdBXRbOf"
      },
      "execution_count": null,
      "outputs": []
    },
    {
      "cell_type": "markdown",
      "source": [
        "# Problem Code:\n",
        "PRB01\n",
        "# Problem\n",
        "Alice and Bob are meeting after a long time. As usual they love to play some math games. This times Alice takes the call and decides the game. The game is very simple, Alice says out an integer and Bob has to say whether the number is prime or not. Bob as usual knows the logic but since Alice doesn't give Bob much time to think, so Bob decides to write a computer program.\n",
        "\n",
        "Help Bob accomplish this task by writing a computer program which will calculate whether the number is prime or not ."
      ],
      "metadata": {
        "id": "qwoD6tywWc7P"
      }
    },
    {
      "cell_type": "code",
      "source": [
        "# cook your dish he\n",
        "for _ in range(int(input())):\n",
        "    n = int(input())\n",
        "    c = 0\n",
        "    for i in range(1,n+1):\n",
        "        if n%i==0:\n",
        "            c+=1 \n",
        "    if c==2:\n",
        "        print(\"yes\")\n",
        "    else:\n",
        "        print(\"no\")"
      ],
      "metadata": {
        "id": "5lEr-s7vUx9U"
      },
      "execution_count": null,
      "outputs": []
    },
    {
      "cell_type": "markdown",
      "source": [
        "# Problem Code:\n",
        "WATERCOOLER2\n",
        "# Problem\n",
        "The summer is at its peak in Chefland. Chef is planning to purchase a water cooler to keep his room cool. He has two options available:\n",
        "\n",
        "Rent a cooler at the cost of XX coins per month.\n",
        "Purchase a cooler for YY coins.\n",
        "Chef wonders what is the maximum number of months for which he can rent the cooler such that the cost of renting is strictly less than the cost of purchasing it."
      ],
      "metadata": {
        "id": "gzJP66nzX_0_"
      }
    },
    {
      "cell_type": "code",
      "source": [
        "# cook your dish here\n",
        "for _ in range(int(input())):\n",
        "    x,y = map(int,input().split())\n",
        "    if y>x :\n",
        "        d = y-1 \n",
        "        print(int(d/x))\n",
        "    else:\n",
        "        print(0)"
      ],
      "metadata": {
        "id": "_V1wmgurX73O"
      },
      "execution_count": null,
      "outputs": []
    },
    {
      "cell_type": "markdown",
      "source": [
        "# Problem Code:\n",
        "RCBPLAY\n",
        "# Problem\n",
        "Team RCB has earned XX points in the games it has played so far in this year's IPL. To qualify for the playoffs they must earn at least a total of YY points. They currently have ZZ games left, in each game they earn 22 points for a win, 11 point for a draw, and no points for a loss.\n",
        "\n",
        "Is it possible for RCB to qualify for the playoffs this year?"
      ],
      "metadata": {
        "id": "57ZDRZuoZUmv"
      }
    },
    {
      "cell_type": "code",
      "source": [
        "# cook your dish here\n",
        "for _ in range(int(input())):\n",
        "    x,y,z = map(int,input().split())\n",
        "    if (z*2) + x >= y:\n",
        "        print(\"YES\")\n",
        "    else:\n",
        "        print(\"NO\")"
      ],
      "metadata": {
        "id": "jdKljmKcZVQH"
      },
      "execution_count": null,
      "outputs": []
    },
    {
      "cell_type": "markdown",
      "source": [
        "# Problem Code:\n",
        "CUTPAPER\n",
        "# Problem\n",
        "Chef has a square-shaped chart paper with the side length equal to NN. He wants to cut out K \\times KK×K squares from this chart paper.\n",
        "\n",
        "Find the maximum number of K \\times KK×K squares he can cut from the entire chart paper.\n",
        "\n",
        "Note that, some part of the chart paper might not be a included in any K \\times KK×K cutout square."
      ],
      "metadata": {
        "id": "KGXOGXoKDDTG"
      }
    },
    {
      "cell_type": "code",
      "source": [
        "# cook your dish here\n",
        "for _ in range(int(input())):\n",
        "    n,k = map(int,input().split())\n",
        "    print(int(n/k)**2)"
      ],
      "metadata": {
        "id": "glwzumyXDCrx"
      },
      "execution_count": null,
      "outputs": []
    },
    {
      "cell_type": "markdown",
      "source": [
        "# Problem Code:\n",
        "LAZYCHF\n",
        "# Problem\n",
        "Read problem statements in Bengali, Mandarin Chinese, Russian, and Vietnamese as well.\n",
        "Chef is a very lazy person. Whatever work is supposed to be finished in xx units of time, he finishes it in m * xm∗x units of time. But there is always a limit to laziness, so he delays the work by at max dd units of time. Given x, m, dx,m,d, find the maximum time taken by Chef to complete the work."
      ],
      "metadata": {
        "id": "bzeUlhbBD-j0"
      }
    },
    {
      "cell_type": "code",
      "source": [
        "# cook your dish here\n",
        "for _ in range(int(input())):\n",
        "    x,m,d = map(int,input().split())\n",
        "    if x*m < x+d:\n",
        "        print(x*m)\n",
        "    else:\n",
        "        print(x+d)"
      ],
      "metadata": {
        "id": "m1gsX6SHDI_k"
      },
      "execution_count": null,
      "outputs": []
    },
    {
      "cell_type": "markdown",
      "source": [
        "# Problem Code:\n",
        "WORDLE\n",
        "# Problem\n",
        "Chef invented a modified wordle.\n",
        "\n",
        "There is a hidden word SS and a guess word TT, both of length 55.\n",
        "\n",
        "Chef defines a string MM to determine the correctness of the guess word. For the i^{th}i \n",
        "th\n",
        "  index:\n",
        "\n",
        "If the guess at the i^{th}i \n",
        "th\n",
        "  index is correct, the i^{th}i \n",
        "th\n",
        "  character of MM is \\texttt{G}G.\n",
        "If the guess at the i^{th}i \n",
        "th\n",
        "  index is wrong, the i^{th}i \n",
        "th\n",
        "  character of MM is \\texttt{B}B.\n",
        "Given the hidden word SS and guess TT, determine string MM."
      ],
      "metadata": {
        "id": "NllSZ5PI5xWK"
      }
    },
    {
      "cell_type": "code",
      "source": [
        "# cook your dish here\n",
        "for _ in range(int(input())):\n",
        "    s = input()\n",
        "    t = input()\n",
        "    m=''\n",
        "    for i in range(len(s)):\n",
        "        if s[i]==t[i]:\n",
        "            m+='G'\n",
        "        else:\n",
        "            m+=\"B\"\n",
        "            \n",
        "    print(m)\n",
        "            \n",
        "    "
      ],
      "metadata": {
        "id": "SbhRnI-I5voF"
      },
      "execution_count": null,
      "outputs": []
    },
    {
      "cell_type": "markdown",
      "source": [
        "# Problem Code:\n",
        "HARDBET\n",
        "# Problem\n",
        "There are 33 problems in a contest namely A, B, CA,B,C respectively. Alice bets Bob that problem CC is the hardest while Bob says that problem BB will be the hardest.\n",
        "\n",
        "You are given three integers S_A, S_B, S_CS \n",
        "A\n",
        "​\n",
        " ,S \n",
        "B\n",
        "​\n",
        " ,S \n",
        "C\n",
        "​\n",
        "  which denotes the number of successful submissions of the problems A, B, CA,B,C respectively. It is guaranteed that each problem has a different number of submissions. Determine who wins the bet.\n",
        "\n",
        "If Alice wins the bet (i.e. problem CC is the hardest), then output AliceAlice.\n",
        "\n",
        "If Bob wins the bet (i.e. problem BB is the hardest), then output BobBob.\n",
        "\n",
        "If no one wins the bet (i.e. problem AA is the hardest), then output DrawDraw.\n",
        "\n",
        "Note: The hardest problem is the problem with the least number of successful submissions."
      ],
      "metadata": {
        "id": "DW9bOAde56yc"
      }
    },
    {
      "cell_type": "code",
      "source": [
        "# cook your dish here\n",
        "for _ in range(int(input())):\n",
        "    a,b,c = map(int,input().split())\n",
        "    if a<b and a< c:\n",
        "        print(\"Draw\")\n",
        "    elif b<a and b<c:\n",
        "        print(\"Bob\")\n",
        "    else:\n",
        "        print(\"Alice\")"
      ],
      "metadata": {
        "id": "59TnwLA753hg"
      },
      "execution_count": null,
      "outputs": []
    },
    {
      "cell_type": "markdown",
      "source": [
        "# Problem Code:\n",
        "CREDITS\n",
        "# Problem\n",
        "In Uttu's college, a semester is said to be a:\n",
        "\n",
        "Overload semester if the number of credits taken \\gt 65>65.\n",
        "Underload semester if the number of credits taken \\lt 35<35.\n",
        "Normal semester otherwise\n",
        "Given the number of credits XX taken by Uttu, determine whether the semester is Overload, Underload or Normal."
      ],
      "metadata": {
        "id": "nnr9qf766jw6"
      }
    },
    {
      "cell_type": "code",
      "source": [
        "# cook your dish here\n",
        "for _ in range(int(input())):\n",
        "    x= int(input())\n",
        "    if x>65:\n",
        "        print(\"Overload\")\n",
        "    elif x<35:\n",
        "        print(\"Underload\")\n",
        "    else:\n",
        "        print(\"Normal\")"
      ],
      "metadata": {
        "id": "5L1go0Ew5-4V"
      },
      "execution_count": null,
      "outputs": []
    },
    {
      "cell_type": "markdown",
      "source": [
        "# Problem Code:\n",
        "TYRES\n",
        "# Problem\n",
        "Read problems statements in Russian and Bengali.\n",
        "Chef opened a company which manufactures cars and bikes. Each car requires 44 tyres while each bike requires 22 tyres. Chef has a total of NN tyres (NN is even). He wants to manufacture maximum number of cars from these tyres and then manufacture bikes from the remaining tyres.\n",
        "\n",
        "Chef's friend went to Chef to purchase a bike. If Chef's company has manufactured even a single bike then Chef's friend will be able to purchase it.\n",
        "\n",
        "Determine whether he will be able to purchase the bike or not."
      ],
      "metadata": {
        "id": "hIsneWqNKpPP"
      }
    },
    {
      "cell_type": "code",
      "source": [
        "# cook your dish here\n",
        "for _ in range(int(input())):\n",
        "    n = int(input())\n",
        "    if n%4==0:\n",
        "        print(\"NO\")\n",
        "    else:\n",
        "        print(\"YES\")"
      ],
      "metadata": {
        "id": "-ugC4NsJKmxN"
      },
      "execution_count": null,
      "outputs": []
    },
    {
      "cell_type": "markdown",
      "source": [
        "# Problem Code:\n",
        "BOTTOM\n",
        "# Problem\n",
        "It is known that in regular dice, the sum of opposite faces is 77.\n",
        "\n",
        "A regular dice is rolled and you are given the value XX showing on the top face. Determine the value on the bottom face."
      ],
      "metadata": {
        "id": "F2xRaR4NK_44"
      }
    },
    {
      "cell_type": "code",
      "source": [
        "# cook your dish here\n",
        "for _ in range(int(input())):\n",
        "    x = int(input())\n",
        "    print(7-x)"
      ],
      "metadata": {
        "id": "xOLwFp8UK9A2"
      },
      "execution_count": null,
      "outputs": []
    },
    {
      "cell_type": "markdown",
      "source": [
        "# Problem Code:\n",
        "NEARESTCOURT\n",
        "# Problem\n",
        "Chef and Chefina are at positions XX and YY on a number line.\n",
        "\n",
        "They both love badminton.\n",
        "\n",
        "It is known that badminton courts are located at every integer point.\n",
        "\n",
        "They want to find a court such that the maximum distance travelled by either of them is minimized.\n",
        "\n",
        "Formally, suppose they choose the badminton court at position ZZ. You need to find the minimum value of \\max(|X-Z|, |Y-Z|)max(∣X−Z∣,∣Y−Z∣) across all possible choices of ZZ. Here, |X|∣X∣ denotes absolute value of XX.\n",
        "\n",
        "Report this minimum value."
      ],
      "metadata": {
        "id": "8Pi5npkeNLEd"
      }
    },
    {
      "cell_type": "code",
      "source": [
        "# cook your dish here\n",
        "for _ in range(int(input())):\n",
        "    x,y = map(int,input().split())\n",
        "    z = (x+y)//2\n",
        "    print(max(abs(x-z),abs(y-z)))"
      ],
      "metadata": {
        "id": "q0xgcCq4NIhx"
      },
      "execution_count": null,
      "outputs": []
    },
    {
      "cell_type": "markdown",
      "source": [
        "# Problem Code:\n",
        "FRUITCHAAT\n",
        "# Problem\n",
        "Chef has closed his restaurant and decided to run a fruit stand instead. His signature dish is a fruit chaat consisting of 22 bananas and 11 apple. He currently has XX bananas and YY apples. How many chaats can he make with the fruits he currently has?"
      ],
      "metadata": {
        "id": "NXwUgkgYOvHT"
      }
    },
    {
      "cell_type": "code",
      "source": [
        "# cook your dish here\n",
        "for _ in range(int(input())):\n",
        "    x,y = map(int,input().split())\n",
        "    if x//2 <= y//1:\n",
        "        print(x//2)\n",
        "    else:\n",
        "        print(y)"
      ],
      "metadata": {
        "id": "Jmnt34KDOr20"
      },
      "execution_count": null,
      "outputs": []
    },
    {
      "cell_type": "markdown",
      "source": [
        "# Problem Code:\n",
        "FLOW011\n",
        "# Problem\n",
        "In a company an emplopyee is paid as under: If his basic salary is less than Rs. 1500, then HRA = 10% of base salary and DA = 90% of basic salary.\n",
        "If his salary is either equal to or above Rs. 1500, then HRA = Rs. 500 and DA = 98% of basic salary. If the Employee's salary is input, write a program to find his gross salary.\n",
        "\n",
        "NOTE: Gross Salary = Basic Salary + HRA + DA"
      ],
      "metadata": {
        "id": "sVNOO-vBP7d6"
      }
    },
    {
      "cell_type": "code",
      "source": [
        "for _ in range(int(input())):\n",
        "    n = int(input())\n",
        "    if n<1500:\n",
        "        d = n + n*0.1 + n*0.9\n",
        "        print(d)\n",
        "    else:\n",
        "        d = n + n*0.98 + 500 \n",
        "        print(d)\n"
      ],
      "metadata": {
        "id": "7Cl102G-P4q3"
      },
      "execution_count": null,
      "outputs": []
    },
    {
      "cell_type": "markdown",
      "source": [
        "# Problem Code:\n",
        "SUPCHEF\n",
        "# Problem\n",
        "Chef has an exam which will start exactly MM minutes from now. However, instead of preparing for his exam, Chef started watching Season-11 of Superchef. Season-11 has NN episodes, and the duration of each episode is KK minutes.\n",
        "\n",
        "Will Chef be able to finish watching Season-11 strictly before the exam starts?\n",
        "\n",
        "\\textbf{Note:}Note: Please read the explanations of the sample test cases carefully."
      ],
      "metadata": {
        "id": "rnRr1HKsQ5pn"
      }
    },
    {
      "cell_type": "code",
      "source": [
        "# cook your dish here\n",
        "for _ in range(int(input())):\n",
        "    m,n,k = map(int,input().split())\n",
        "    if m > n*k:\n",
        "        print(\"YES\")\n",
        "    else:\n",
        "        print(\"NO\")"
      ],
      "metadata": {
        "id": "SjtNlVadQ22I"
      },
      "execution_count": null,
      "outputs": []
    },
    {
      "cell_type": "markdown",
      "source": [
        "# Problem Code:\n",
        "EQLZING\n",
        "# Problem\n",
        "Chef has two integers AA and BB. In one operation he can choose any integer d,d, and make one of the following two moves :\n",
        "\n",
        "Add dd to AA and subtract dd from BB.\n",
        "Add dd to BB and subtract dd from AA.\n",
        "Chef is allowed to make as many operations as he wants. Can he make AA and BB equal?"
      ],
      "metadata": {
        "id": "uBLhML3BXVON"
      }
    },
    {
      "cell_type": "code",
      "source": [
        "# cook your dish here\n",
        "for _ in range(int(input())):\n",
        "    a,b = map(int,input().split())\n",
        "    if (a+b)%2==0:\n",
        "        print(\"YES\")\n",
        "    else:\n",
        "        print(\"NO\")\n",
        "    "
      ],
      "metadata": {
        "id": "LfGCHidSXQ2f"
      },
      "execution_count": null,
      "outputs": []
    },
    {
      "cell_type": "markdown",
      "source": [
        "# Problem Code:\n",
        "GENE01\n",
        "# Problem\n",
        "People in Chefland have three different eye colors, namely brown, blue, and green. green is the rarest of the eye colors whereas brown is most common.\n",
        "\n",
        "The eye color of the child of two people is most likely to be the most common eye color between them.\n",
        "\n",
        "You are given two characters denoting the eye colors of two people in Chefland. The character R denotes bRown color, B denotes Blue color, and G denotes Green color.\n",
        "\n",
        "Determine the most likely eye color of their child. (Print R, B or G denoting bRown, Blue or Green respectively).\n",
        "\n",
        "Please see the sample test cases below for explained examples."
      ],
      "metadata": {
        "id": "M-ObkldpZPj5"
      }
    },
    {
      "cell_type": "code",
      "source": [
        "P1,P2=input().split()\n",
        "if(P1==P2):\n",
        "    print(P1)\n",
        "else:\n",
        "    if(P1==\"R\" or P2==\"R\"):\n",
        "        print(\"R\")\n",
        "    else:\n",
        "        print(\"B\")\n",
        "    "
      ],
      "metadata": {
        "id": "VJoMJ1_fY9kr"
      },
      "execution_count": null,
      "outputs": []
    },
    {
      "cell_type": "markdown",
      "source": [
        "# Problem Code:\n",
        "SNAPE\n",
        "# Problem\n",
        "Read problems statements in Mandarin Chinese and Russian as well.\n",
        "Professor Snape has lots of potions. Bottles containing all types of potions are stacked on shelves which cover the entire wall from floor to ceiling. Professor Snape has broken his bones several times while climbing the top shelf for retrieving a potion. He decided to get a ladder for him. But he has no time to visit Diagon Alley. So he instructed Ron Weasley to make a ladder for him. Professor Snape specifically wants a step ladder which looks like an inverted 'V' from side view."
      ],
      "metadata": {
        "id": "TmVPjcEgpmt_"
      }
    },
    {
      "cell_type": "code",
      "source": [
        "# cook your dish here\n",
        "import math\n",
        "for _ in range(int(input())):\n",
        "    b,a = map(int,input().split())\n",
        "    x = math.sqrt(a*a-b*b)\n",
        "    y = math.sqrt(a*a+b*b)\n",
        "    print(x,round(y,5))"
      ],
      "metadata": {
        "id": "mwFDfxGhpj6-"
      },
      "execution_count": null,
      "outputs": []
    },
    {
      "cell_type": "markdown",
      "source": [
        "# Problem Code:\n",
        "PALL01\n",
        "# Problem\n",
        " \n",
        "\n",
        "The citizens of Byteland regularly play a game. They have blocks each denoting some integer from 0 to 9. These are arranged together in a random manner without seeing to form different numbers keeping in mind that the first block is never a 0. Once they form a number they read in the reverse order to check if the number and its reverse is the same. If both are same then the player wins. We call such numbers palindrome.\n",
        "\n",
        "Ash happens to see this game and wants to simulate the same in the computer. As the first step he wants to take an input from the user and check if the number is a palindrome and declare if the user wins or not. "
      ],
      "metadata": {
        "id": "D3SrfeLSqhrL"
      }
    },
    {
      "cell_type": "code",
      "source": [
        "# cook your dish here\n",
        "for _ in range(int(input())):\n",
        "    n = input()\n",
        "    if n==n[::-1]:\n",
        "        print(\"wins\")\n",
        "    else:\n",
        "        print(\"loses\")"
      ],
      "metadata": {
        "id": "weSne_PTqevm"
      },
      "execution_count": null,
      "outputs": []
    },
    {
      "cell_type": "markdown",
      "source": [
        "# Problem Code:\n",
        "MILEAGE\n",
        "# Problem\n",
        "Chef wants to rent a car to travel to his restaurant which is NN kilometers away. He can either rent a petrol car or a diesel car.\n",
        "\n",
        "One litre of petrol costs XX rupees and one litre of diesel costs YY rupees. Chef can travel AA kilometers with one litre of petrol and BB kilometers with one litre of diesel.\n",
        "\n",
        "Chef can buy petrol and diesel in any amount, not necessarily integer. For example, if X = 95X=95, Chef can buy half a litre of petrol by paying 95/2 = 47.595/2=47.5 rupees.\n",
        "\n",
        "Which car should the chef rent in order to minimize the cost of his travel?"
      ],
      "metadata": {
        "id": "WCeLyxZzsGFN"
      }
    },
    {
      "cell_type": "code",
      "source": [
        "# cook your dish here\n",
        "for _ in range(int(input())):\n",
        "    n,x,y,a,b = map(int,input().split())\n",
        "    if (n/b)*y<(n/a)*x:\n",
        "        print(\"DIESEL\")\n",
        "    elif (n/b)*y==(n/a)*x:\n",
        "        print(\"ANY\")\n",
        "    else:\n",
        "        print(\"PETROL\")"
      ],
      "metadata": {
        "id": "PWNnUq-lsCKq"
      },
      "execution_count": null,
      "outputs": []
    },
    {
      "cell_type": "markdown",
      "source": [
        "# Problem Code:\n",
        "EITA\n",
        "# Problem\n",
        "Read problem statements in Bengali, Mandarin Chinese, Russian, and Vietnamese as well.\n",
        "Chefland has 77 days in a week. Chef is very conscious about his work done during the week.\n",
        "\n",
        "There are two ways he can spend his energy during the week. The first way is to do xx units of work every day and the second way is to do yy (\\gt x>x) units of work for the first dd (\\lt 7<7) days and to do zz (\\lt x<x) units of work thereafter since he will get tired of working more in the initial few days.\n",
        "\n",
        "Find the maximum amount of work he can do during the week if he is free to choose either of the two strategies."
      ],
      "metadata": {
        "id": "f7NvJCPPtaUN"
      }
    },
    {
      "cell_type": "code",
      "source": [
        "# cook your dish here\n",
        "for _ in range(int(input())):\n",
        "    d,x,y,z = map(int,input().split())\n",
        "    a = x*7\n",
        "    b = y*d + (7-d)*z \n",
        "    if a>b:\n",
        "        print(a)\n",
        "    else:\n",
        "        print(b)"
      ],
      "metadata": {
        "id": "o1WVhcD6tQhE"
      },
      "execution_count": null,
      "outputs": []
    },
    {
      "cell_type": "markdown",
      "source": [
        "# Problem Code:\n",
        "GOODWEAT\n",
        "# Problem\n",
        "The weather report of Chefland is Good if the number of sunny days in a week is strictly greater than the number of rainy days.\n",
        "\n",
        "Given 77 integers A_1, A_2, A_3, A_4, A_5, A_6, A_7A \n",
        "1\n",
        "​\n",
        " ,A \n",
        "2\n",
        "​\n",
        " ,A \n",
        "3\n",
        "​\n",
        " ,A \n",
        "4\n",
        "​\n",
        " ,A \n",
        "5\n",
        "​\n",
        " ,A \n",
        "6\n",
        "​\n",
        " ,A \n",
        "7\n",
        "​\n",
        "  where A_i = 1A \n",
        "i\n",
        "​\n",
        " =1 denotes that the i^{th}i \n",
        "th\n",
        "  day of week in Chefland is a sunny day, A_i = 0A \n",
        "i\n",
        "​\n",
        " =0 denotes that the i^{th}i \n",
        "th\n",
        "  day in Chefland is a rainy day. Determine if the weather report of Chefland is Good or not."
      ],
      "metadata": {
        "id": "eT9dHMzvvi-B"
      }
    },
    {
      "cell_type": "code",
      "source": [
        "# cook your dish here\n",
        "for _ in range(int(input())):\n",
        "    a = list(map(int,input().split()))\n",
        "    c =0 \n",
        "    k = 0\n",
        "    for i in a:\n",
        "        if i == 1:\n",
        "            c += 1 \n",
        "            \n",
        "        else:\n",
        "            k += 1 \n",
        "    \n",
        "    if c>k:\n",
        "        print(\"YES\")\n",
        "    else:\n",
        "        print(\"NO\")"
      ],
      "metadata": {
        "id": "40C0opwsvgRT"
      },
      "execution_count": null,
      "outputs": []
    },
    {
      "cell_type": "markdown",
      "source": [
        "# Problem Code:\n",
        "LOOP\n",
        "# Problem\n",
        "There is a circular track of length MM consisting of MM checkpoints and MM bidirectional roads such that each road has a length of 11 unit."
      ],
      "metadata": {
        "id": "mc2WNlSyw0K9"
      }
    },
    {
      "cell_type": "code",
      "source": [
        "# cook your dish here\n",
        "for _ in range(int(input())):\n",
        "    a,b,m = map(int,input().split())\n",
        "    f = abs(a-b)\n",
        "    print(min(f,m-f))"
      ],
      "metadata": {
        "id": "R_z17zzAwwmh"
      },
      "execution_count": null,
      "outputs": []
    },
    {
      "cell_type": "markdown",
      "source": [
        "# Problem Code:\n",
        "FLOW014\n",
        "# Problem\n",
        "A certain type of steel is graded according to the following conditions.\n",
        "\n",
        "Hardness of the steel must be greater than 50\n",
        "Carbon content of the steel must be less than 0.7\n",
        "Tensile strength must be greater than 5600\n",
        "The grades awarded are as follows:\n",
        "\n",
        "Grade is 10 if all three conditions are met\n",
        "Grade is 9 if conditions (1) and (2) are met\n",
        "Grade is 8 if conditions (2) and (3) are met\n",
        "Grade is 7 if conditions (1) and (3) are met\n",
        "Grade is 6 if only one condition is met\n",
        "Grade is 5 if none of the three conditions are met\n",
        "Write a program to display the grade of the steel, based on the values of hardness, carbon content and tensile strength of the steel, given by the user."
      ],
      "metadata": {
        "id": "lX6v7W6iyl67"
      }
    },
    {
      "cell_type": "code",
      "source": [
        "# cook your dish here\n",
        "for _ in range(int(input())):\n",
        "    a,b,c = map(int,input().split())\n",
        "    if a>50 and b<0.7 and c>5600:\n",
        "        print(10)\n",
        "    elif a>50 and b<0.7:\n",
        "        print(9)\n",
        "    elif b<0.7 and c>5600:\n",
        "        print(8)\n",
        "    elif a>50 and c>5600:\n",
        "        print(7)\n",
        "    elif a>50 or b<0.7 or c>5600:\n",
        "        print(6)\n",
        "    else:\n",
        "        print(5)"
      ],
      "metadata": {
        "id": "pIuuTzGmyj3v"
      },
      "execution_count": null,
      "outputs": []
    },
    {
      "cell_type": "markdown",
      "source": [
        "# Problem Code:\n",
        "VOWELTB\n",
        "# Problem\n",
        "Write a program to take a character (C)(C) as input and check whether the given character is a vowel or a consonant.\n",
        "\n",
        "NOTE:-NOTE:− Vowels are 'A', 'E', 'I', 'O', 'U'. Rest all alphabets are called consonants."
      ],
      "metadata": {
        "id": "1fYHPSjc1SB7"
      }
    },
    {
      "cell_type": "code",
      "source": [
        "# cook your dish here\n",
        "c = input()\n",
        "a = ['A','E','I','O','U']\n",
        "if c in a:\n",
        "    print(\"Vowel\")\n",
        "else:\n",
        "    print(\"Consonant\")"
      ],
      "metadata": {
        "id": "_stS1GBT1Ol5"
      },
      "execution_count": null,
      "outputs": []
    },
    {
      "cell_type": "markdown",
      "source": [
        "# Problem Code:\n",
        "MIXTURE\n",
        "# Problem\n",
        "Read problem statements in Bengali, Mandarin Chinese, Russian, and Vietnamese as well.\n",
        "Chef has AA units of solid and BB units of liquid. He combines them to create a mixture. What kind of mixture does Chef produce: a solution, a solid, or a liquid?\n",
        "\n",
        "A mixture is called :\n",
        "\n",
        "A solution if A \\gt 0A>0 and B \\gt 0B>0,\n",
        "\n",
        "A solid if B = 0B=0, or\n",
        "\n",
        "A liquid if A = 0A=0."
      ],
      "metadata": {
        "id": "S6v1r12aMz5N"
      }
    },
    {
      "cell_type": "code",
      "source": [
        "# cook your dish here\n",
        "for _ in range(int(input())):\n",
        "    a,b = map(int,input().split())\n",
        "    if a>0 and b>0:\n",
        "        print(\"Solution\")\n",
        "    elif b==0:\n",
        "        print(\"Solid\")\n",
        "    elif a==0:\n",
        "        print(\"Liquid\")"
      ],
      "metadata": {
        "id": "CAVpa-x4MwXt"
      },
      "execution_count": null,
      "outputs": []
    },
    {
      "cell_type": "markdown",
      "source": [
        "# Problem Code:\n",
        "CHSFORMT\n",
        "# Problem\n",
        "Read problem statements in Russian and Mandarin Chinese.\n",
        "Given the time control of a chess match as a + ba+b, determine which format of chess out of the given 44 it belongs to.\n",
        "\n",
        "1)1) Bullet if a + b \\lt 3a+b<3\n",
        "\n",
        "2)2) Blitz if 3 \\leq a + b \\leq 103≤a+b≤10\n",
        "\n",
        "3)3) Rapid if 11 \\leq a + b \\leq 6011≤a+b≤60\n",
        "\n",
        "4)4) Classical if 60 \\lt a + b60<a+b"
      ],
      "metadata": {
        "id": "WNXw4VJjNjUW"
      }
    },
    {
      "cell_type": "code",
      "source": [
        "# cook your dish here\n",
        "for _ in range(int(input())):\n",
        "    a,b = map(int,input().split())\n",
        "    if a+b<3:\n",
        "        print(1)\n",
        "    elif a+b<=10 and a+b>=3:\n",
        "        print(2)\n",
        "    elif a+b<=60 and a+b>=11:\n",
        "        print(3)\n",
        "    elif a+b>60:\n",
        "        print(4)"
      ],
      "metadata": {
        "id": "JM6eBVqkNmf0"
      },
      "execution_count": null,
      "outputs": []
    },
    {
      "cell_type": "markdown",
      "source": [
        "# Problem Code:\n",
        "BMI\n",
        "# Problem\n",
        "Read problems statements in Hindi, Mandarin Chinese, Vietnamese, and Bengali as well.\n",
        "You are given the height HH (in metres) and mass MM (in kilograms) of Chef. The Body Mass Index (BMI) of a person is computed as \\frac{M}{H^2} \n",
        "H \n",
        "2\n",
        " \n",
        "M\n",
        "​\n",
        " .\n",
        "\n",
        "Report the category into which Chef falls, based on his BMI:\n",
        "\n",
        "Category 1: Underweight if BMI \\leq 18≤18\n",
        "Category 2: Normal weight if BMI \\in \\{19∈{19, 2020,\\ldots…, 24\\}24}\n",
        "Category 3: Overweight if BMI \\in \\{25∈{25, 2626,\\ldots…, 29\\}29}\n",
        "Category 4: Obesity if BMI \\geq 30≥30"
      ],
      "metadata": {
        "id": "sCYbpHHeOne3"
      }
    },
    {
      "cell_type": "code",
      "source": [
        "# cook your dish here\n",
        "for _ in range(int(input())):\n",
        "    m,h = map(int,input().split())\n",
        "    a = m//(h*h) \n",
        "    if a<=18:\n",
        "        print(1)\n",
        "    elif a>=19 and a<=24:\n",
        "        print(2)\n",
        "    elif a>=25 and a<=29:\n",
        "        print(3)\n",
        "    elif a>=30:\n",
        "        print(4)"
      ],
      "metadata": {
        "id": "TrUjIZZWOfbW"
      },
      "execution_count": null,
      "outputs": []
    },
    {
      "cell_type": "markdown",
      "source": [
        "# Problem Code:\n",
        "BULBLIFE\n",
        "# Problem\n",
        "A bulb company claims that the average lifetime of its bulbs is at least XX units.\n",
        "\n",
        "The company ran a test on NN bulbs. You are given the lifetime of N-1N−1 of these bulbs. What is the minimum non-negative integer value of lifetime the remaining bulb can have, such that the claim of the company holds true?"
      ],
      "metadata": {
        "id": "cV0VmOTuP1iP"
      }
    },
    {
      "cell_type": "code",
      "source": [
        "# cook your dish here\n",
        "for i in range(int(input())):\n",
        "    n,x = map(int,input().split())\n",
        "    a = list(map(int,input().split()))\n",
        "    s = sum(a)\n",
        "    if n*x<=s:\n",
        "        print(0)\n",
        "    else:\n",
        "        print(n*x-s)"
      ],
      "metadata": {
        "id": "0hTRKQMZPx-6"
      },
      "execution_count": null,
      "outputs": []
    },
    {
      "cell_type": "markdown",
      "source": [
        "# Problem Code:\n",
        "FLOW010\n",
        "# Problem\n",
        "Write a program that takes in a letterclass ID of a ship and display the equivalent string class description of the given ID. Use the table below.\n",
        "\n",
        "Class ID\tShip Class\n",
        "B or b\tBattleShip\n",
        "C or c\tCruiser\n",
        "D or d\tDestroyer\n",
        "F or f\tFrigate"
      ],
      "metadata": {
        "id": "gEH9J7FeQxN6"
      }
    },
    {
      "cell_type": "code",
      "source": [
        "# cook your dish here\n",
        "for _ in range(int(input())):\n",
        "    a = input()\n",
        "    if a=='B' or a=='b':\n",
        "        print(\"BattleShip\")\n",
        "    elif a=='C' or a=='c':\n",
        "        print(\"Cruiser\")\n",
        "    elif a=='D' or a=='d':\n",
        "        print(\"Destroyer\")\n",
        "    elif a=='F' or a=='f':\n",
        "        print(\"Frigate\")"
      ],
      "metadata": {
        "id": "8bdObmdzQnRu"
      },
      "execution_count": null,
      "outputs": []
    },
    {
      "cell_type": "markdown",
      "source": [
        "# Problem Code:\n",
        "SOCKS1\n",
        "# Problem\n",
        "Read problem statements in Bengali, Mandarin Chinese, Russian, and Vietnamese as well.\n",
        "Chef has three socks in his drawer. Each sock has one of 1010 possible colours, which are represented by integers between 11 and 1010. Specifically, the colours of the socks are AA, BB, and CC.\n",
        "\n",
        "Chef has to wear two socks which have the same colour. Help Chef find out if that is possible or not."
      ],
      "metadata": {
        "id": "uzaUdwlDRyNC"
      }
    },
    {
      "cell_type": "code",
      "source": [
        "# cook your dish here\n",
        "a,b,c = map(int,input().split())\n",
        "if (a==b) or (a==c) or (b==c):\n",
        "    print(\"YES\")\n",
        "else:\n",
        "    print(\"NO\")"
      ],
      "metadata": {
        "id": "5A8PV4MwRvY8"
      },
      "execution_count": null,
      "outputs": []
    },
    {
      "cell_type": "markdown",
      "source": [
        "# Problem Code:\n",
        "INCREAR\n",
        "# Problem\n",
        "Chef has two integers XX and YY. Chef wants to perform some operations to make XX and YY equal. In one operation, Chef can either:\n",
        "\n",
        "set X := X + 1X:=X+1\n",
        "or set Y := Y + 2Y:=Y+2\n",
        "Find the minimum number of operations required to make XX and YY equal."
      ],
      "metadata": {
        "id": "mpO4mtzu3mec"
      }
    },
    {
      "cell_type": "code",
      "source": [
        "# cook your dish here\n",
        "for _ in range(int(input())):\n",
        "    x,y = map(int,input().split())\n",
        "    if y>=x:\n",
        "        print(abs(x-y))\n",
        "    else:\n",
        "        s = x-y\n",
        "        if s%2==0:\n",
        "            print(s//2)\n",
        "        else:\n",
        "            print(s//2+2)"
      ],
      "metadata": {
        "id": "h0wlBTBc3jEn"
      },
      "execution_count": null,
      "outputs": []
    },
    {
      "cell_type": "markdown",
      "source": [
        "# Problem Code:\n",
        "COCONUT\n",
        "# Problem\n",
        "Read problem statements in Vietnamese,\n",
        "Bengali, Mandarin Chinese, and Russian as well.\n",
        "\n",
        "Chefland has 22 different types of coconut, type AA and type BB. Type AA contains only x_ax \n",
        "a\n",
        "​\n",
        "  milliliters of coconut water and type BB contains only x_bx \n",
        "b\n",
        "​\n",
        "  grams of coconut pulp. Chef's nutritionist has advised him to consume X_aX \n",
        "a\n",
        "​\n",
        "  milliliters of coconut water and X_bX \n",
        "b\n",
        "​\n",
        "  grams of coconut pulp every week in the summer. Find the total number of coconuts (type AA + type BB) that Chef should buy each week to keep himself active in the hot weather."
      ],
      "metadata": {
        "id": "5zJZ7EIv4nJt"
      }
    },
    {
      "cell_type": "code",
      "source": [
        "# cook your dish here\n",
        "for _ in range(int(input())):\n",
        "    a,b,c,d = map(int,input().split())\n",
        "    print(c//a + d//b)"
      ],
      "metadata": {
        "id": "drWKBoVS4iqW"
      },
      "execution_count": null,
      "outputs": []
    },
    {
      "cell_type": "markdown",
      "source": [
        "# Problem Code:\n",
        "SLOOP\n",
        "# Problem\n",
        "Chef is a big fan of Coldplay. Every Sunday, he will drive to a park taking MM minutes to reach there, and during the ride he will play a single song on a loop. Today, he has got the latest song which is in total SS minutes long. He is interested to know how many times will he be able to play the song completely."
      ],
      "metadata": {
        "id": "k1SKP6dJ5GFo"
      }
    },
    {
      "cell_type": "code",
      "source": [
        "# cook your dish here\n",
        "for _ in range(int(input())):\n",
        "    m,s = map(int,input().split())\n",
        "    print(m//s)"
      ],
      "metadata": {
        "id": "Y8CxV14E5FkE"
      },
      "execution_count": null,
      "outputs": []
    },
    {
      "cell_type": "markdown",
      "source": [
        "# Problem Code:\n",
        "CHEFTRANS\n",
        "# Problem\n",
        "Vacations have arrived and Chef wants to go to his home in ChefLand. There are two types of routes he can take:\n",
        "\n",
        "Take a flight from his college to ChefArina which takes XX minutes and then take a bus from ChefArina to ChefLand which takes YY minutes.\n",
        "Take a direct train from his college to ChefLand which takes ZZ minutes.\n",
        "Which of these two options is faster?"
      ],
      "metadata": {
        "id": "OJYp216y6Kdr"
      }
    },
    {
      "cell_type": "code",
      "source": [
        "# cook your dish here\n",
        "for _ in range(int(input())):\n",
        "    x,y,z = map(int,input().split())\n",
        "    if x+y>z:\n",
        "        print(\"TRAIN\")\n",
        "    elif x+y==z:\n",
        "        print(\"EQUAL\")\n",
        "    else:\n",
        "        print(\"PLANEBUS\")\n",
        "    "
      ],
      "metadata": {
        "id": "i-4Y7FGP6H4l"
      },
      "execution_count": null,
      "outputs": []
    },
    {
      "cell_type": "markdown",
      "source": [
        "# Problem Code:\n",
        "VISA\n",
        "# Problem\n",
        "Read problems statements in Mandarin Chinese, Russian, Vietnamese and Bengali as well.\n",
        "Ash is trying to get visa to Chefland. For the visa to be approved, he needs to satisfy the following three criteria:\n",
        "\n",
        "Solve at least x_1x \n",
        "1\n",
        "​\n",
        "  problems on Codechef.\n",
        "Have at least y_1y \n",
        "1\n",
        "​\n",
        "  current rating on Codechef.\n",
        "Make his last submission at most z_1z \n",
        "1\n",
        "​\n",
        "  months ago.\n",
        "You are given the number of problems solved by Chef (x_2x \n",
        "2\n",
        "​\n",
        " ), his current rating (y_2y \n",
        "2\n",
        "​\n",
        " ) and the information that he made his last submission z_2z \n",
        "2\n",
        "​\n",
        "  months ago. Determine whether he will get the visa."
      ],
      "metadata": {
        "id": "3KFVjoP5OXNp"
      }
    },
    {
      "cell_type": "code",
      "source": [
        "t=int(input())\n",
        "for i in range(t):\n",
        "    x1,x2,y1,y2,z1,z2=map(int,input().split())\n",
        "    if x1<=x2 and y1<=y2 and z1>=z2:\n",
        "        print(\"yes\")\n",
        "    else:\n",
        "        print(\"no\")\n"
      ],
      "metadata": {
        "id": "czvmGzZ3OasH"
      },
      "execution_count": null,
      "outputs": []
    },
    {
      "cell_type": "markdown",
      "source": [
        "# Problem Code:\n",
        "AREAPERI\n",
        "# Problem\n",
        "Write a program to obtain length (L)(L) and breadth (B)(B) of a rectangle and check whether its area is greater or perimeter is greater or both are equal. ###Input:\n",
        "\n",
        "First line will contain the length (L)(L) of the rectangle.\n",
        "Second line will contain the breadth (B)(B) of the rectangle."
      ],
      "metadata": {
        "id": "cfUhKkt5Pout"
      }
    },
    {
      "cell_type": "code",
      "source": [
        "# cook your dish here\n",
        "l = int(input())\n",
        "b = int(input())\n",
        "a = l*b \n",
        "c = 2*(l+b) \n",
        "if a>c:\n",
        "    print(\"Area\")\n",
        "    print(a)\n",
        "elif a==c:\n",
        "    print(\"Eq\")\n",
        "    print(a)\n",
        "else:\n",
        "    print(\"Peri\")\n",
        "    print(c)"
      ],
      "metadata": {
        "id": "LJ650ie9PlHt"
      },
      "execution_count": null,
      "outputs": []
    },
    {
      "cell_type": "markdown",
      "source": [
        "# Problem Code:\n",
        "DEVSPORTS\n",
        "# Problem\n",
        "Recently, Devendra went to Goa with his friends. Devendra is well known for not following a budget.\n",
        "\n",
        "He had Rs. ZZ at the start of the trip and has already spent Rs. YY on the trip. There are three kinds of water sports one can enjoy, with prices Rs. AA, BB, and CC. He wants to try each sport at least once.\n",
        "\n",
        "If he can try all of them at least once output YES, otherwise output NO."
      ],
      "metadata": {
        "id": "5EWpnqxc37wl"
      }
    },
    {
      "cell_type": "code",
      "source": [
        "# cook your dish here\n",
        "for _ in range(int(input())):\n",
        "    z,y,a,b,c = map(int,input().split())\n",
        "    d = z-y \n",
        "    if a+b+c<=d:\n",
        "        print(\"YES\")\n",
        "    else:\n",
        "        print(\"NO\")"
      ],
      "metadata": {
        "id": "yCPCYFbv33Q0"
      },
      "execution_count": null,
      "outputs": []
    },
    {
      "cell_type": "markdown",
      "source": [
        "# Problem Code:\n",
        "CONN\n",
        "# Problem\n",
        "You are given an integer NN. Find if it is possible to represent NN as the sum of several(possibly zero) 22's and several(possibly zero) 77's.\n",
        "\n",
        "Formally, find if there exist two integers X, Y \\ (X, Y \\ge 0)X,Y (X,Y≥0) such that 2 \\cdot X + 7\\cdot Y = N2⋅X+7⋅Y=N."
      ],
      "metadata": {
        "id": "mJaa-e615OiT"
      }
    },
    {
      "cell_type": "code",
      "source": [
        "# cook your dish here\n",
        "for _ in range(int(input())):\n",
        "    n = int(input())\n",
        "    if n%2==0 or n>=7:\n",
        "        print(\"YES\")\n",
        "    else:\n",
        "        print(\"NO\")"
      ],
      "metadata": {
        "id": "8Y3WEthn5Lf2"
      },
      "execution_count": null,
      "outputs": []
    },
    {
      "cell_type": "markdown",
      "source": [
        "# Problem Code:\n",
        "PROBCAT\n",
        "# Problem\n",
        "Read problem statements in Mandarin, Russian, and Vietnamese as well.\n",
        "Chef prepared a problem. The admin has rated this problem for xx points.\n",
        "\n",
        "A problem is called :\n",
        "\n",
        "Easy if 1 \\leq x \\lt 1001≤x<100\n",
        "\n",
        "Medium if 100 \\leq x \\lt 200100≤x<200\n",
        "\n",
        "Hard if 200 \\leq x \\leq 300200≤x≤300\n",
        "\n",
        "Find the category to which Chef’s problem belongs."
      ],
      "metadata": {
        "id": "zaGRjy2B6di6"
      }
    },
    {
      "cell_type": "code",
      "source": [
        "# cook your dish here\n",
        "for _ in range(int(input())):\n",
        "    x = int(input())\n",
        "    if 1<=x<100:\n",
        "        print(\"Easy\")\n",
        "    elif 100<=x<200:\n",
        "        print(\"Medium\")\n",
        "    elif 200<=x<=300:\n",
        "        print(\"Hard\")"
      ],
      "metadata": {
        "id": "_lC-_q7C6K1u"
      },
      "execution_count": null,
      "outputs": []
    },
    {
      "cell_type": "markdown",
      "source": [
        "# Problem Code:\n",
        "FLOW009\n",
        "# Problem\n",
        "While purchasing certain items, a discount of 10% is offered if the quantity purchased is more than 1000.\n",
        "If the quantity and price per item are input, write a program to calculate the total expenses."
      ],
      "metadata": {
        "id": "xTWT2P1x8TiT"
      }
    },
    {
      "cell_type": "code",
      "source": [
        "# cook your dish here\n",
        "for _ in range(int(input())):\n",
        "    q,p = map(int,input().split())\n",
        "    if q>1000:\n",
        "        print(q*p-(q*p*0.1))\n",
        "    else:\n",
        "        print(p*q)"
      ],
      "metadata": {
        "id": "jtOYGDmK8XSV"
      },
      "execution_count": null,
      "outputs": []
    },
    {
      "cell_type": "markdown",
      "source": [
        "# Problem Code:\n",
        "CARCHOICE\n",
        "# Problem\n",
        "Chef is planning to buy a new car for his birthday. After a long search, he is left with 22 choices:\n",
        "\n",
        "Car 1: Runs on diesel with a fuel economy of x_1x \n",
        "1\n",
        "​\n",
        "  km/l\n",
        "Car 2: Runs on petrol with a fuel economy of x_2x \n",
        "2\n",
        "​\n",
        "  km/l\n",
        "Chef also knows that\n",
        "\n",
        "the current price of diesel is y_1y \n",
        "1\n",
        "​\n",
        "  rupees per litre\n",
        "the current price of petrol is y_2y \n",
        "2\n",
        "​\n",
        "  rupees per litre\n",
        "Assuming that both cars cost the same and that the price of fuel remains constant, which car will minimize Chef's expenses?"
      ],
      "metadata": {
        "id": "jgRPNDEBQyuQ"
      }
    },
    {
      "cell_type": "code",
      "source": [
        "# cook your dish here\n",
        "for _ in range(int(input())):\n",
        "    a,b,x,y = map(int,input().split())\n",
        "    if x/a < y/b:\n",
        "        print(-1)\n",
        "    elif x/a == y/b:\n",
        "        print(0)\n",
        "    else:\n",
        "        print(1)"
      ],
      "metadata": {
        "id": "MMw-Z6FpQvza"
      },
      "execution_count": null,
      "outputs": []
    },
    {
      "cell_type": "markdown",
      "source": [
        "# Problem Code:\n",
        "WHICHDIV\n",
        "# Problem\n",
        "Read problems statements in Mandarin Chinese, Russian, and Bengali as well.\n",
        "\n",
        "Given the rating RR of a person, tell which division he belongs to. The rating range for each division are given below:\n",
        "\n",
        "Division 11: 2000 \\le2000≤ Rating.\n",
        "\n",
        "Division 22: 1600 \\le1600≤ Rating \\lt 2000<2000.\n",
        "\n",
        "Division 33: Rating \\lt 1600<1600."
      ],
      "metadata": {
        "id": "LU7LD9SqS9Xj"
      }
    },
    {
      "cell_type": "code",
      "source": [
        "# cook your dish here\n",
        "for _ in range(int(input())):\n",
        "    r = int(input())\n",
        "    if r>=2000:\n",
        "        print(1)\n",
        "    elif 1600<=r<2000:\n",
        "        print(2)\n",
        "    elif r<1600:\n",
        "        print(3)"
      ],
      "metadata": {
        "id": "0xjgqdQ7S6uH"
      },
      "execution_count": null,
      "outputs": []
    }
  ]
}